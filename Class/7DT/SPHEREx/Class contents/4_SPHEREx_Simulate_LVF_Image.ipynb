{
 "cells": [
  {
   "cell_type": "markdown",
   "id": "silent-indianapolis",
   "metadata": {
    "id": "silent-indianapolis"
   },
   "source": [
    "# 4_SPHEREx_Simulate_LVF_Image\n",
    "# Simulate LVF images using what we have learned from the class\n",
    "- Prerequisites\n",
    "    - Convolution (FFT vs real-space)\n",
    "    - Sampling\n",
    "    - WCS\n",
    "- For a given (ra, dec, SED) of a point source, simulate an LVF image\n",
    "- Demo: SPHEREx-Sky-Simulator\n",
    "\n",
    "## Authors\n",
    "- Yujin Yang, Woong-Seob Jeong (KASI SPHEREx Team)"
   ]
  },
  {
   "cell_type": "markdown",
   "id": "specified-laugh",
   "metadata": {
    "id": "specified-laugh"
   },
   "source": [
    "<div class=\"alert alert-block alert-danger\">\n",
    "    <span style='font-size:18px'>\n",
    "    The numbers in this notebook is for approximation only to illustrate SPHEREx LVF images\n",
    "    </span>    \n",
    "</div>"
   ]
  },
  {
   "cell_type": "markdown",
   "id": "light-report",
   "metadata": {
    "id": "light-report"
   },
   "source": [
    "## <span style='color:DarkSlateBlue'> Components </span>\n",
    "\n",
    "### Survey Plan (out of the scope of this class)\n",
    "- Time of observation: when?\n",
    "- What sequence?\n",
    "- Orientation?\n",
    "- We will simulate one pointing with arbitrary date & orientation\n",
    "\n",
    "### Source\n",
    "- Position, SED, shape & size\n",
    "- Sky background: Zodi\n",
    "\n",
    "### Instrument\n",
    "- LVF bands\n",
    "- PSF\n",
    "- Efficiency: count rates"
   ]
  },
  {
   "cell_type": "markdown",
   "id": "respiratory-certification",
   "metadata": {
    "id": "respiratory-certification"
   },
   "source": [
    "## <span style='color:DarkSlateBlue'> Setting for this notebook </span>\n",
    "- conda install `scikit-image`"
   ]
  },
  {
   "cell_type": "code",
   "execution_count": 1,
   "id": "macro-seeker",
   "metadata": {
    "id": "macro-seeker"
   },
   "outputs": [],
   "source": [
    "from IPython.core.interactiveshell import InteractiveShell\n",
    "InteractiveShell.ast_node_interactivity = \"all\""
   ]
  },
  {
   "cell_type": "code",
   "execution_count": 2,
   "id": "afraid-victorian",
   "metadata": {
    "id": "afraid-victorian"
   },
   "outputs": [],
   "source": [
    "import numpy as np\n",
    "import matplotlib as mpl\n",
    "import matplotlib.pyplot as plt\n",
    "\n",
    "from scipy.integrate import trapezoid\n",
    "from skimage.transform import downscale_local_mean\n",
    "\n",
    "from astropy import units as u\n",
    "from astropy.table import Table\n",
    "\n",
    "from astropy.io import fits\n",
    "from astropy import wcs\n",
    "\n",
    "from astropy.coordinates import SkyCoord\n",
    "from astropy.modeling.models import Gaussian1D\n",
    "from astropy.convolution import Gaussian2DKernel\n",
    "\n",
    "mpl.rcParams[\"axes.titlesize\"] = 13\n",
    "mpl.rcParams[\"axes.labelsize\"] = 15"
   ]
  },
  {
   "cell_type": "code",
   "execution_count": 3,
   "id": "treated-mission",
   "metadata": {
    "id": "treated-mission"
   },
   "outputs": [],
   "source": [
    "# Constants\n",
    "c_ums = 3e14                  # c in um/s\n",
    "c = 3e8                       # m/s\n",
    "h = 6.626e-34                 # Planck constant   [J/Hz]\n",
    "k = 1.38e-23                  # Boltzman constant [J/K]\n",
    "rad2arcsec = (180/np.pi*3600) # 206265 arcsec\n",
    "arcsec2rad = 1/rad2arcsec"
   ]
  },
  {
   "cell_type": "markdown",
   "id": "trying-canadian",
   "metadata": {
    "id": "trying-canadian"
   },
   "source": [
    "## <span style='color:DarkSlateBlue'> Structure / API </span>"
   ]
  },
  {
   "cell_type": "markdown",
   "id": "scenic-brazilian",
   "metadata": {
    "id": "scenic-brazilian"
   },
   "source": [
    "```python\n",
    "# Setup SPHEREx pointing \n",
    "# Create high-resolution FITS image\n",
    "highres_image, highres_wcs = spherex_highres_image(pointing, bandinfo=bandinfo)\n",
    "\n",
    "# Load sources for a given pointing\n",
    "source[ra, dec, wave, flux] = load_catalog(highres_wcs)\n",
    "\n",
    "# Add sources\n",
    "for source in source_list:\n",
    "    add_source(ra, dec, wave, flux):\n",
    "        # position on detector\n",
    "        xpos, ypos = get_pixel_coordinates(ra, dec, highres_wcs, bandinfo=bandinfo)\n",
    "        # LVF\n",
    "        wave_lvf, trans_lvf = get_lvf_trans(xpos, ypos, bandinfo=bandinfo)\n",
    "        # Count rate\n",
    "        I_photo = count_rate(wave, flux, wave_lvf, trans_lvf, bandinfo=bandinfo) \n",
    "        highres_image[xpos, ypos] = I_photo\n",
    "    \n",
    "# Downsample highres_image to SPHEREx LVF image\n",
    "image, wcs = downsample(highres_image, highres_wcs)\n",
    "\n",
    "# Add diffuse background\n",
    "image_zodi = add_zodi(image, jd=24153.0, bandinfo=bandinfo)\n",
    "\n",
    "# Simulate instrumental effect + noises\n",
    "apply_instrument(image, bandinfo=bandinfo)\n",
    "\n",
    "# Save data\n",
    "```"
   ]
  },
  {
   "cell_type": "markdown",
   "id": "loaded-doctrine",
   "metadata": {
    "id": "loaded-doctrine"
   },
   "source": [
    "## <span style='color:DarkSlateBlue'> SPHEREx band definition: `dict: bandinfo` </span>"
   ]
  },
  {
   "cell_type": "code",
   "execution_count": 4,
   "id": "american-input",
   "metadata": {
    "id": "american-input"
   },
   "outputs": [
    {
     "data": {
      "text/plain": [
       "{'band': 1,\n",
       " 'lmin': 0.75,\n",
       " 'lmax': 1.11,\n",
       " 'R': 41,\n",
       " 'eff_LVF': 0.8542396980249999,\n",
       " 'eff_total': 0.6406797735187499}"
      ]
     },
     "execution_count": 4,
     "metadata": {},
     "output_type": "execute_result"
    }
   ],
   "source": [
    "# Key SPHEREx Parameters\n",
    "\n",
    "lambda_min = np.array([0.75, 1.11, 1.64, 2.42, 3.82, 4.42])\n",
    "lambda_max = np.array([1.11, 1.64, 2.42, 3.82, 4.42, 5.00])\n",
    "resolving_power = np.array([ 41, 41, 41, 35, 110, 130])\n",
    "    \n",
    "eff_mirrors_Au = (0.965)**3   # Gold coating, 3 mirrors\n",
    "eff_dichroic = 0.98           # splitter\n",
    "eff_fpa = 0.75                # Detector Quantum Efficiency (QE)\n",
    "eff_LVF = np.array([0.97, 0.97, 0.88, 0.86, 0.78, 0.72])  # LVF peak transmission\n",
    "\n",
    "eff_opt   = eff_mirrors_Au * eff_dichroic * eff_LVF\n",
    "eff_total = eff_opt * eff_fpa\n",
    "\n",
    "pixel_sr = (6.2*arcsec2rad)**2\n",
    "AOmega = np.pi * (0.2/2)**2 * pixel_sr\n",
    "\n",
    "# Choose a band and carry all information with a bandinfo dictionary\n",
    "band = 1\n",
    "\n",
    "bandinfo = {\n",
    "    'band': band,\n",
    "    'lmin': lambda_min[band-1],\n",
    "    'lmax': lambda_max[band-1],\n",
    "    'R': resolving_power[band-1],\n",
    "    'eff_LVF': eff_opt[band-1],\n",
    "    'eff_total': eff_total[band-1],\n",
    "}\n",
    "bandinfo"
   ]
  },
  {
   "cell_type": "markdown",
   "id": "cY_ugULIh5SI",
   "metadata": {
    "id": "cY_ugULIh5SI"
   },
   "source": []
  },
  {
   "cell_type": "markdown",
   "id": "micro-carpet",
   "metadata": {
    "id": "micro-carpet"
   },
   "source": [
    "## 1. Create empty high-resolution image\n",
    "- high-resolution image = oversampled SPHEREx image\n",
    "- typical oversample factor = 5 (i.e., 6.2 arcsec = 5 pixels)\n",
    "- Use DS9 to check highres.fits"
   ]
  },
  {
   "cell_type": "code",
   "execution_count": 5,
   "id": "becoming-hayes",
   "metadata": {
    "id": "becoming-hayes"
   },
   "outputs": [],
   "source": [
    "def spherex_highres_image(ra, dec, oversample=5, pixel_size=6.2, \n",
    "                          nx=2048, ny=2048, savefile=None):\n",
    "\n",
    "    # Create a new WCS object.\n",
    "    # WCS = World Coordinate System\n",
    "    w = wcs.WCS(naxis=2)         # number of axes\n",
    "    w.wcs.crval = [ra, dec]      # reference point (ra, dec)\n",
    "    w.wcs.crpix = [nx*oversample/2, ny*oversample/2]         # reference pixel (xp, yp)\n",
    "    w.wcs.cdelt = np.array([-pixel_size/oversample/3600.0,   # pixel scale\n",
    "                             pixel_size/oversample/3600.0])\n",
    "\n",
    "    w.wcs.ctype = [\"RA---SIN\", \"DEC--SIN\"]  # WCS projection type\n",
    "    w.wcs.crota = [0.0, 0.0]                # zero roll angle / rotation\n",
    "\n",
    "    # Create FITS image \n",
    "    header = w.to_header()                         # astropy.io.fits.Header\n",
    "    im = np.zeros((ny*oversample, nx*oversample))  # note (ny, nx) instead of (nx, ny)\n",
    "    hdu = fits.PrimaryHDU(im, header=header)\n",
    "\n",
    "    # Save to FITS file\n",
    "    if savefile is not None:\n",
    "        hdu.writeto(savefile, overwrite=True)\n",
    "    \n",
    "    return im, w"
   ]
  },
  {
   "cell_type": "code",
   "execution_count": 6,
   "id": "important-carry",
   "metadata": {
    "id": "important-carry"
   },
   "outputs": [
    {
     "data": {
      "text/plain": [
       "WCSAXES =                    2 / Number of coordinate axes                      \n",
       "CRPIX1  =               2560.0 / Pixel coordinate of reference point            \n",
       "CRPIX2  =               5120.0 / Pixel coordinate of reference point            \n",
       "CDELT1  = -0.00034444444444444 / [deg] Coordinate increment at reference point  \n",
       "CDELT2  =  0.00034444444444444 / [deg] Coordinate increment at reference point  \n",
       "CUNIT1  = 'deg'                / Units of coordinate increment and value        \n",
       "CUNIT2  = 'deg'                / Units of coordinate increment and value        \n",
       "CTYPE1  = 'RA---SIN'           / Right ascension, orthographic/synthesis project\n",
       "CTYPE2  = 'DEC--SIN'           / Declination, orthographic/synthesis projection \n",
       "CRVAL1  =                  0.0 / [deg] Coordinate value at reference point      \n",
       "CRVAL2  =                  0.0 / [deg] Coordinate value at reference point      \n",
       "LONPOLE =                180.0 / [deg] Native longitude of celestial pole       \n",
       "LATPOLE =                  0.0 / [deg] Native latitude of celestial pole        \n",
       "MJDREF  =                  0.0 / [d] MJD of fiducial time                       \n",
       "RADESYS = 'ICRS'               / Equatorial coordinate system                   "
      ]
     },
     "execution_count": 6,
     "metadata": {},
     "output_type": "execute_result"
    }
   ],
   "source": [
    "# Test spherex_highres_image\n",
    "# ra_center, dec_center = 0., 90.\n",
    "ra_center, dec_center = 0.0, 0.0\n",
    "oversample = 5\n",
    "highres_image, highres_wcs = spherex_highres_image(ra_center, dec_center, oversample=oversample, \n",
    "                                                   savefile='highres.fits', nx=1024)\n",
    "highres_wcs.to_header()"
   ]
  },
  {
   "cell_type": "markdown",
   "id": "champion-floating",
   "metadata": {
    "id": "champion-floating"
   },
   "source": [
    "## 2. Load source list and SEDs\n",
    "- Find sources within the given SPHEREx pointing\n",
    "- Load SED information\n",
    "- Here, we use a catalog file from EL-COSMOS: `data/ELCOSMOS_v1.part.fits`"
   ]
  },
  {
   "cell_type": "code",
   "execution_count": 7,
   "id": "declared-convention",
   "metadata": {
    "id": "declared-convention"
   },
   "outputs": [],
   "source": [
    "def load_catalog(highres_wcs):\n",
    "    filename = '../data/ELCOSMOS_v1.part.fits'\n",
    "    T = Table.read(filename)\n",
    "    return T\n",
    "\n",
    "def get_sed(sedfile):\n",
    "    path = '../data/ELCOSMOS/'\n",
    "    T = Table.read(path+sedfile)\n",
    "    \n",
    "    wl = T['wavelength'] # angstrom\n",
    "    f_lambda = T['flux'] # erg/s/cm2/A\n",
    "\n",
    "    # conversion to f_nu\n",
    "    f_nu = f_lambda * wl * (wl / 2.99792e18) / (1e-23 * 1e-6)  # micro Jansky\n",
    "    wl = wl / 10000      # micron\n",
    "\n",
    "    # Fix the input SED table\n",
    "    remove_duplicate_in_spec(wl, f_nu)\n",
    "   \n",
    "    return wl, f_nu\n",
    "\n",
    "# To remove duplicate entries in the EL COSMOS SED table. \n",
    "from spherex_helper import remove_duplicate_in_spec"
   ]
  },
  {
   "cell_type": "code",
   "execution_count": 8,
   "id": "extensive-danger",
   "metadata": {
    "id": "extensive-danger",
    "scrolled": false
   },
   "outputs": [
    {
     "data": {
      "text/html": [
       "<div><i>Table length=100</i>\n",
       "<table id=\"table140499866446480\" class=\"table-striped table-bordered table-condensed\">\n",
       "<thead><tr><th>ID</th><th>ra</th><th>dec</th><th>ZPHOT</th><th>i_HSC</th><th>zone</th><th>sedfile</th></tr></thead>\n",
       "<thead><tr><th></th><th>deg</th><th>deg</th><th></th><th>mag</th><th></th><th></th></tr></thead>\n",
       "<thead><tr><th>int32</th><th>float64</th><th>float64</th><th>float32</th><th>float32</th><th>int64</th><th>bytes15</th></tr></thead>\n",
       "<tr><td>460674</td><td>150.5468895443</td><td>2.0216261104</td><td>0.0203</td><td>16.1678</td><td>4</td><td>sed_460674.fits</td></tr>\n",
       "<tr><td>426043</td><td>149.4444273563</td><td>1.9397076966</td><td>0.2723</td><td>19.2476</td><td>9</td><td>sed_426043.fits</td></tr>\n",
       "<tr><td>434152</td><td>150.2075935599</td><td>1.951848484</td><td>0.3561</td><td>19.7883</td><td>8</td><td>sed_434152.fits</td></tr>\n",
       "<tr><td>358577</td><td>149.474646478</td><td>1.8314245532</td><td>0.5888</td><td>20.1266</td><td>9</td><td>sed_358577.fits</td></tr>\n",
       "<tr><td>673633</td><td>150.6309253915</td><td>2.3200427849</td><td>0.2295</td><td>20.3773</td><td>4</td><td>sed_673633.fits</td></tr>\n",
       "<tr><td>902734</td><td>149.8412185038</td><td>2.6681716694</td><td>0.22</td><td>20.5833</td><td>3</td><td>sed_902734.fits</td></tr>\n",
       "<tr><td>...</td><td>...</td><td>...</td><td>...</td><td>...</td><td>...</td><td>...</td></tr>\n",
       "<tr><td>651276</td><td>149.7944444079</td><td>2.2873792027</td><td>1.1154</td><td>23.8933</td><td>6</td><td>sed_651276.fits</td></tr>\n",
       "<tr><td>747381</td><td>149.9534845545</td><td>2.4333742952</td><td>1.7878</td><td>23.9066</td><td>2</td><td>sed_747381.fits</td></tr>\n",
       "<tr><td>641500</td><td>150.1304600279</td><td>2.2739201123</td><td>0.9668</td><td>23.9208</td><td>5</td><td>sed_641500.fits</td></tr>\n",
       "<tr><td>814709</td><td>149.6784083979</td><td>2.533117515</td><td>0.0361</td><td>23.9341</td><td>3</td><td>sed_814709.fits</td></tr>\n",
       "<tr><td>408939</td><td>150.3768389959</td><td>1.9151944991</td><td>1.146</td><td>23.9473</td><td>7</td><td>sed_408939.fits</td></tr>\n",
       "<tr><td>466541</td><td>150.1962102631</td><td>2.0076498501</td><td>0.4491</td><td>23.9611</td><td>8</td><td>sed_466541.fits</td></tr>\n",
       "</table></div>"
      ],
      "text/plain": [
       "<Table length=100>\n",
       "  ID         ra           dec       ZPHOT   i_HSC   zone     sedfile    \n",
       "            deg           deg                mag                        \n",
       "int32     float64       float64    float32 float32 int64     bytes15    \n",
       "------ -------------- ------------ ------- ------- ----- ---------------\n",
       "460674 150.5468895443 2.0216261104  0.0203 16.1678     4 sed_460674.fits\n",
       "426043 149.4444273563 1.9397076966  0.2723 19.2476     9 sed_426043.fits\n",
       "434152 150.2075935599  1.951848484  0.3561 19.7883     8 sed_434152.fits\n",
       "358577  149.474646478 1.8314245532  0.5888 20.1266     9 sed_358577.fits\n",
       "673633 150.6309253915 2.3200427849  0.2295 20.3773     4 sed_673633.fits\n",
       "902734 149.8412185038 2.6681716694    0.22 20.5833     3 sed_902734.fits\n",
       "   ...            ...          ...     ...     ...   ...             ...\n",
       "651276 149.7944444079 2.2873792027  1.1154 23.8933     6 sed_651276.fits\n",
       "747381 149.9534845545 2.4333742952  1.7878 23.9066     2 sed_747381.fits\n",
       "641500 150.1304600279 2.2739201123  0.9668 23.9208     5 sed_641500.fits\n",
       "814709 149.6784083979  2.533117515  0.0361 23.9341     3 sed_814709.fits\n",
       "408939 150.3768389959 1.9151944991   1.146 23.9473     7 sed_408939.fits\n",
       "466541 150.1962102631 2.0076498501  0.4491 23.9611     8 sed_466541.fits"
      ]
     },
     "execution_count": 8,
     "metadata": {},
     "output_type": "execute_result"
    },
    {
     "data": {
      "text/plain": [
       "(150.068902821032, 2.205734584026)"
      ]
     },
     "execution_count": 8,
     "metadata": {},
     "output_type": "execute_result"
    },
    {
     "name": "stderr",
     "output_type": "stream",
     "text": [
      "WARNING: UnitsWarning: 'erg/s/cm2/Angstrom' contains multiple slashes, which is discouraged by the FITS standard [astropy.units.format.generic]\n"
     ]
    },
    {
     "data": {
      "image/png": "[encoded data removed]",
      "text/plain": [
       "<Figure size 504x180 with 1 Axes>"
      ]
     },
     "metadata": {
      "needs_background": "light"
     },
     "output_type": "display_data"
    }
   ],
   "source": [
    "# Test load_catalog\n",
    "T = load_catalog(highres_wcs)\n",
    "T\n",
    "\n",
    "T['ra'].mean(), T['dec'].mean()\n",
    "\n",
    "for r in T:\n",
    "    sedfile = r['sedfile']    \n",
    "    wave, flux = get_sed(sedfile)\n",
    "\n",
    "# Plot SED for last entry\n",
    "_ = plt.figure(figsize=(7,2.5))\n",
    "_ = plt.plot(wave, flux)\n",
    "_ = plt.xlabel(r'observed wavelength [$\\mu m$]')\n",
    "_ = plt.ylabel(r'$f_{\\nu}$ [$\\mu Jy$]')\n",
    "_ = plt.yscale('log')\n",
    "_ = plt.xlim(0.0, 5.5)"
   ]
  },
  {
   "cell_type": "markdown",
   "id": "modified-stake",
   "metadata": {
    "id": "modified-stake"
   },
   "source": [
    "## 3. Inject sources\n",
    "- Position on the detector\n",
    "- LVF transmission\n",
    "- Count rates of the sources\n",
    "- Diffuse background"
   ]
  },
  {
   "cell_type": "markdown",
   "id": "worldwide-distinction",
   "metadata": {
    "id": "worldwide-distinction"
   },
   "source": [
    "### Find where the source is located in the detector"
   ]
  },
  {
   "cell_type": "code",
   "execution_count": 9,
   "id": "variable-honey",
   "metadata": {
    "id": "variable-honey"
   },
   "outputs": [],
   "source": [
    "def get_pixel_coordinates(ra, dec, highres_wcs):\n",
    "    \"\"\"\n",
    "    Retruns the detector (x,y) position for a (ra,dec) & WCS\n",
    "    \"\"\"\n",
    "    sky = SkyCoord(ra*u.deg, dec*u.deg)\n",
    "    xpos, ypos = highres_wcs.world_to_pixel(sky)\n",
    "    return xpos, ypos"
   ]
  },
  {
   "cell_type": "code",
   "execution_count": 10,
   "id": "hindu-heaven",
   "metadata": {
    "id": "hindu-heaven"
   },
   "outputs": [
    {
     "name": "stdout",
     "output_type": "stream",
     "text": [
      "2559.0 5119.0\n",
      "511.8 1023.8\n"
     ]
    }
   ],
   "source": [
    "# Test get_pixel_coordinates\n",
    "xpos, ypos = get_pixel_coordinates(0, 0, highres_wcs)\n",
    "print(xpos, ypos)\n",
    "print(xpos/oversample, ypos/oversample)"
   ]
  },
  {
   "cell_type": "markdown",
   "id": "informative-final",
   "metadata": {
    "id": "informative-final"
   },
   "source": [
    "### Find the LVF transmission"
   ]
  },
  {
   "cell_type": "code",
   "execution_count": 11,
   "id": "color-dakota",
   "metadata": {
    "id": "color-dakota"
   },
   "outputs": [],
   "source": [
    "def get_ichan(xpix, ypix, nx=2048, ny=2048):\n",
    "    \"\"\"\n",
    "    Returns channel number for detector xpix, ypix\n",
    "    \"\"\"\n",
    "    Nchan = 16.0\n",
    "    \n",
    "    assert np.max(xpix) < nx\n",
    "    assert np.max(ypix) < ny\n",
    "    \n",
    "    return Nchan / ny * ypix - 0.5\n",
    "\n",
    "def get_lvf_trans(xpix, ypix, bandinfo=None):\n",
    "    \"\"\"\n",
    "    xpix = coordinate in SPHEREx image (not oversampled)\n",
    "    ypix = coordinate in SPHEREx image (not oversampled)\n",
    "    ----\n",
    "    Returns LVF transmission for a given pixel\n",
    "    \"\"\"\n",
    "    lmin = bandinfo['lmin']\n",
    "    R = bandinfo['R']\n",
    "\n",
    "    # get the central wavelenth\n",
    "    wcen = lmin * ( (2*R+1)/(2*R-1) )**get_ichan(xpix, ypix)\n",
    "    fwhm = wcen / R\n",
    "    \n",
    "    prof = Gaussian1D(amplitude=1, mean=wcen, stddev=fwhm/2.35)\n",
    "    \n",
    "    # wavelenth vector\n",
    "    wl_lvf = np.linspace(wcen-fwhm*3, wcen+fwhm*3, 200)\n",
    "    tr_lvf = prof(wl_lvf)\n",
    "    \n",
    "    return wl_lvf, tr_lvf\n",
    "\n",
    "def get_wavemap(bandinfo=None, nx=2048, ny=2048):\n",
    "    \"\"\"\n",
    "    Returns the central wavelength map\n",
    "    \"\"\"\n",
    "    xv = np.arange(nx)\n",
    "    yv = np.arange(ny)\n",
    "\n",
    "    xx, yy = np.meshgrid(xv, yv, indexing='xy')\n",
    "\n",
    "    lmin = bandinfo['lmin']\n",
    "    R = bandinfo['R']\n",
    "    return lmin * ( (2*R+1)/(2*R-1) )**get_ichan(xx,yy)   "
   ]
  },
  {
   "cell_type": "code",
   "execution_count": 12,
   "id": "musical-breed",
   "metadata": {
    "id": "musical-breed"
   },
   "outputs": [
    {
     "data": {
      "image/png": "[encoded data removed]",
      "text/plain": [
       "<Figure size 432x288 with 1 Axes>"
      ]
     },
     "metadata": {
      "needs_background": "light"
     },
     "output_type": "display_data"
    }
   ],
   "source": [
    "# Test get_lvf_trans\n",
    "xpix, ypix = xpos/oversample, ypos/oversample\n",
    "wave_lvf, trans_lvf = get_lvf_trans(xpix, ypix, bandinfo=bandinfo)\n",
    "_ = plt.plot(wave_lvf, trans_lvf)\n",
    "_ = plt.xlabel('wavelength [$\\mu$m]')\n",
    "_ = plt.ylabel('relative transmission')"
   ]
  },
  {
   "cell_type": "markdown",
   "id": "legendary-infection",
   "metadata": {
    "id": "legendary-infection"
   },
   "source": [
    "### Estimate count rates [electrons/s] from the sources (flux-density to photo-current)"
   ]
  },
  {
   "cell_type": "code",
   "execution_count": 13,
   "id": "varying-jersey",
   "metadata": {
    "id": "varying-jersey"
   },
   "outputs": [],
   "source": [
    "from spherex_helper import synth_phot"
   ]
  },
  {
   "cell_type": "code",
   "execution_count": 14,
   "id": "orange-georgia",
   "metadata": {
    "id": "orange-georgia"
   },
   "outputs": [],
   "source": [
    "def get_countrate_for_fnu(fnu, bandinfo=None):\n",
    "    \"\"\"\n",
    "    Convert flux density (Jy) to photo-current (e/s)\n",
    "    \"\"\"\n",
    "    R = bandinfo['R']\n",
    "    eff_total = bandinfo['eff_total']\n",
    "    \n",
    "    A = np.pi * (0.2/2)**2\n",
    "    Jy_to_e_per_s = A * eff_total / R / 6.62607e-34 * 1e-26\n",
    "    I_photo = fnu * Jy_to_e_per_s\n",
    "    \n",
    "    return I_photo * (u.electron / u.s)"
   ]
  },
  {
   "cell_type": "code",
   "execution_count": 15,
   "id": "federal-debate",
   "metadata": {
    "id": "federal-debate"
   },
   "outputs": [
    {
     "data": {
      "text/latex": [
       "$7.4088535 \\; \\mathrm{\\frac{e^{-}}{s}}$"
      ],
      "text/plain": [
       "<Quantity 7.40885354 electron / s>"
      ]
     },
     "execution_count": 15,
     "metadata": {},
     "output_type": "execute_result"
    }
   ],
   "source": [
    "fnu_src = 1e-3\n",
    "get_countrate_for_fnu(fnu_src, bandinfo=bandinfo)"
   ]
  },
  {
   "cell_type": "code",
   "execution_count": 16,
   "id": "cc8aea4b",
   "metadata": {
    "scrolled": true
   },
   "outputs": [
    {
     "data": {
      "text/plain": [
       "1e-26"
      ]
     },
     "execution_count": 16,
     "metadata": {},
     "output_type": "execute_result"
    }
   ],
   "source": [
    "fnu_src * 1e-23"
   ]
  },
  {
   "cell_type": "markdown",
   "id": "promotional-contents",
   "metadata": {
    "id": "promotional-contents"
   },
   "source": [
    "### Estimate count rates [electrons/s] from sky background (SB to photo-current)"
   ]
  },
  {
   "cell_type": "code",
   "execution_count": 17,
   "id": "needed-failing",
   "metadata": {
    "id": "needed-failing"
   },
   "outputs": [],
   "source": [
    "from spherex_helper import nuInu_ZL"
   ]
  },
  {
   "cell_type": "code",
   "execution_count": 18,
   "id": "democratic-artist",
   "metadata": {
    "id": "democratic-artist"
   },
   "outputs": [],
   "source": [
    "def get_countrate_for_nuInu(nuInu, lambda_um, bandinfo=None):\n",
    "    \"\"\"\n",
    "    Convert nuInu [nW/m2/sr] to photo-current (e/s)\n",
    "    \"\"\"\n",
    "    \n",
    "    R = bandinfo['R']\n",
    "    eff_total = bandinfo['eff_total']\n",
    "    \n",
    "    I_photo = 1e-9 * nuInu*AOmega*eff_total/(R*h*c_ums/lambda_um)  # [e/s]\n",
    "    return I_photo * (u.electron / u.s)  "
   ]
  },
  {
   "cell_type": "code",
   "execution_count": 19,
   "id": "jewish-calendar",
   "metadata": {
    "id": "jewish-calendar",
    "scrolled": true
   },
   "outputs": [
    {
     "data": {
      "text/latex": [
       "$1.107964 \\; \\mathrm{\\frac{e^{-}}{s}}$"
      ],
      "text/plain": [
       "<Quantity 1.10796401 electron / s>"
      ]
     },
     "execution_count": 19,
     "metadata": {},
     "output_type": "execute_result"
    }
   ],
   "source": [
    "get_countrate_for_nuInu(nuInu_ZL(0.93), 0.93, bandinfo=bandinfo)"
   ]
  },
  {
   "cell_type": "markdown",
   "id": "ordered-google",
   "metadata": {
    "id": "ordered-google"
   },
   "source": [
    "### Inject the sources into the highres image [e/s] as a point source"
   ]
  },
  {
   "cell_type": "code",
   "execution_count": 20,
   "id": "sexual-pakistan",
   "metadata": {
    "id": "sexual-pakistan",
    "scrolled": false
   },
   "outputs": [
    {
     "data": {
      "text/plain": [
       "(2559, 5119)"
      ]
     },
     "execution_count": 20,
     "metadata": {},
     "output_type": "execute_result"
    },
    {
     "data": {
      "text/plain": [
       "(10240, 5120)"
      ]
     },
     "execution_count": 20,
     "metadata": {},
     "output_type": "execute_result"
    },
    {
     "data": {
      "image/png": "[encoded data removed]",
      "text/plain": [
       "<Figure size 432x288 with 2 Axes>"
      ]
     },
     "metadata": {
      "needs_background": "light"
     },
     "output_type": "display_data"
    }
   ],
   "source": [
    "xpos_int, ypos_int = map(int, (xpos, ypos))\n",
    "\n",
    "highres_image <<= u.electron / u.s\n",
    "highres_image[ypos_int, xpos_int] = get_countrate_for_fnu(fnu_src, bandinfo=bandinfo)\n",
    "\n",
    "xpos_int, ypos_int\n",
    "highres_image.shape\n",
    "\n",
    "fig, ax = plt.subplots(1,2)\n",
    "\n",
    "_ = ax[0].imshow(highres_image.data)\n",
    "\n",
    "_ = ax[1].imshow(highres_image.data, interpolation='none')\n",
    "_ = ax[1].set_xlim(xpos_int-25, xpos_int+25)\n",
    "_ = ax[1].set_ylim(ypos_int-50, ypos_int+50)"
   ]
  },
  {
   "cell_type": "markdown",
   "id": "impressed-center",
   "metadata": {
    "id": "impressed-center"
   },
   "source": [
    "### Add diffuse background (Zodi) to SPHEREx image [e/s]\n"
   ]
  },
  {
   "cell_type": "code",
   "execution_count": 21,
   "id": "governmental-usage",
   "metadata": {
    "id": "governmental-usage",
    "scrolled": false
   },
   "outputs": [
    {
     "data": {
      "text/plain": [
       "<matplotlib.colorbar.Colorbar at 0x7fc8aa844810>"
      ]
     },
     "execution_count": 21,
     "metadata": {},
     "output_type": "execute_result"
    },
    {
     "data": {
      "text/plain": [
       "<matplotlib.colorbar.Colorbar at 0x7fc8795085d0>"
      ]
     },
     "execution_count": 21,
     "metadata": {},
     "output_type": "execute_result"
    },
    {
     "data": {
      "image/png": "[encoded data removed]",
      "text/plain": [
       "<Figure size 720x360 with 4 Axes>"
      ]
     },
     "metadata": {
      "needs_background": "light"
     },
     "output_type": "display_data"
    }
   ],
   "source": [
    "# Create background count rates for SPHEREx naive image (not-oversampled)\n",
    "wavemap = get_wavemap(nx=1024, bandinfo=bandinfo)\n",
    "nuInu_zodi = nuInu_ZL(wavemap, f_ZL=2.0)\n",
    "image_zodi = get_countrate_for_nuInu(nuInu_zodi, wavemap, bandinfo=bandinfo)\n",
    "\n",
    "# Wavelenth map\n",
    "fig, ax = plt.subplots(1,2, figsize=(10,5))\n",
    "im0 = ax[0].imshow(wavemap, cmap='Blues')\n",
    "plt.colorbar(im0, ax=ax[0], label='wavelength [$\\mu$m]')\n",
    "\n",
    "# Zodi background\n",
    "im1 = ax[1].imshow(image_zodi.data)\n",
    "plt.colorbar(im1, ax=ax[1], label='$I_{photo}$ [e/s]')"
   ]
  },
  {
   "cell_type": "markdown",
   "id": "tribal-source",
   "metadata": {
    "id": "tribal-source"
   },
   "source": [
    "## 4. Apply Instrument\n",
    "- T(int) = 150s\n",
    "- PSF convolution\n",
    "- Add read noise\n",
    "- Add photon noise"
   ]
  },
  {
   "cell_type": "markdown",
   "id": "present-japanese",
   "metadata": {
    "id": "present-japanese"
   },
   "source": [
    "### Convolve PSF with the highres source image"
   ]
  },
  {
   "cell_type": "code",
   "execution_count": 22,
   "id": "acquired-healing",
   "metadata": {
    "id": "acquired-healing"
   },
   "outputs": [],
   "source": [
    "def get_psf(wavelength_um, oversample=5):\n",
    "    wl = wavelength_um\n",
    "    \n",
    "    D = 20.            # cm\n",
    "    WFE = 0.25         # um\n",
    "    rms_pointing = 1.0 # arcsec\n",
    "\n",
    "    fwhm_diffraction = 1.22*wl/(D*1e4) * rad2arcsec\n",
    "    fwhm_wfe = fwhm_diffraction * np.sqrt(np.exp((2*np.pi*WFE/wl)**2))\n",
    "    fwhm_jitter = rms_pointing * 2.35\n",
    "    fwhm_final = np.sqrt(fwhm_wfe**2 + fwhm_jitter**2)   \n",
    "    \n",
    "    pixscale_oversampled = 6.2/oversample\n",
    "    fwhm_pixel = fwhm_final / pixscale_oversampled\n",
    "\n",
    "    psf = Gaussian2DKernel(fwhm_pixel / 2.35)\n",
    "    return psf"
   ]
  },
  {
   "cell_type": "code",
   "execution_count": 23,
   "id": "mechanical-cyprus",
   "metadata": {
    "id": "mechanical-cyprus"
   },
   "outputs": [
    {
     "data": {
      "text/plain": [
       "<matplotlib.image.AxesImage at 0x7fc879476390>"
      ]
     },
     "execution_count": 23,
     "metadata": {},
     "output_type": "execute_result"
    },
    {
     "data": {
      "image/png": "[encoded data removed]",
      "text/plain": [
       "<Figure size 432x288 with 1 Axes>"
      ]
     },
     "metadata": {
      "needs_background": "light"
     },
     "output_type": "display_data"
    }
   ],
   "source": [
    "# Test get_psf\n",
    "kernel = get_psf(1.0)\n",
    "plt.imshow(get_psf(1.0))"
   ]
  },
  {
   "cell_type": "code",
   "execution_count": 24,
   "id": "wooden-better",
   "metadata": {
    "id": "wooden-better"
   },
   "outputs": [],
   "source": [
    "from scipy.signal import fftconvolve\n",
    "highres_image_conv = fftconvolve(highres_image, kernel, mode='same')"
   ]
  },
  {
   "cell_type": "code",
   "execution_count": 25,
   "id": "sufficient-contribution",
   "metadata": {
    "id": "sufficient-contribution"
   },
   "outputs": [
    {
     "data": {
      "text/latex": [
       "$7.4088535 \\; \\mathrm{\\frac{e^{-}}{s}}$"
      ],
      "text/plain": [
       "<Quantity 7.40885354 electron / s>"
      ]
     },
     "execution_count": 25,
     "metadata": {},
     "output_type": "execute_result"
    },
    {
     "data": {
      "text/plain": [
       "7.408755995408416"
      ]
     },
     "execution_count": 25,
     "metadata": {},
     "output_type": "execute_result"
    }
   ],
   "source": [
    "# Check flux conservation\n",
    "highres_image.sum()\n",
    "highres_image_conv.sum()"
   ]
  },
  {
   "cell_type": "code",
   "execution_count": 26,
   "id": "secure-native",
   "metadata": {
    "id": "secure-native"
   },
   "outputs": [
    {
     "data": {
      "text/plain": [
       "<matplotlib.colorbar.Colorbar at 0x7fc858184750>"
      ]
     },
     "execution_count": 26,
     "metadata": {},
     "output_type": "execute_result"
    },
    {
     "data": {
      "text/plain": [
       "<matplotlib.colorbar.Colorbar at 0x7fc8581e3190>"
      ]
     },
     "execution_count": 26,
     "metadata": {},
     "output_type": "execute_result"
    },
    {
     "data": {
      "image/png": "[encoded data removed]",
      "text/plain": [
       "<Figure size 720x360 with 4 Axes>"
      ]
     },
     "metadata": {
      "needs_background": "light"
     },
     "output_type": "display_data"
    }
   ],
   "source": [
    "fig, ax = plt.subplots(1,2, figsize=(10,5))\n",
    "\n",
    "im0 = ax[0].imshow(highres_image.data, interpolation='none')\n",
    "_ = ax[0].set_xlim(xpos_int-25, xpos_int+25)\n",
    "_ = ax[0].set_ylim(ypos_int-50, ypos_int+50)\n",
    "plt.colorbar(im0, ax=ax[0])\n",
    "\n",
    "im1 = ax[1].imshow(highres_image_conv.data, interpolation='none')\n",
    "_ = ax[1].set_xlim(xpos_int-25, xpos_int+25)\n",
    "_ = ax[1].set_ylim(ypos_int-50, ypos_int+50)\n",
    "plt.colorbar(im1, ax=ax[1], label='$I_{photo}$ [e/s]')"
   ]
  },
  {
   "cell_type": "code",
   "execution_count": 27,
   "id": "asian-savage",
   "metadata": {
    "id": "asian-savage"
   },
   "outputs": [],
   "source": [
    "# Save image to FITS and inspect with DS9\n",
    "header = highres_wcs.to_header()\n",
    "hdu = fits.PrimaryHDU(highres_image_conv, header=header)\n",
    "hdu.writeto('highres_src.fits', overwrite=True)"
   ]
  },
  {
   "cell_type": "markdown",
   "id": "julian-space",
   "metadata": {
    "id": "julian-space"
   },
   "source": [
    "### Downsample to SPHEREx resolution"
   ]
  },
  {
   "cell_type": "code",
   "execution_count": 28,
   "id": "artistic-olympus",
   "metadata": {
    "id": "artistic-olympus"
   },
   "outputs": [],
   "source": [
    "def downsample(highres_image_conv, highres_wcs, oversample=5):\n",
    "    # image\n",
    "    spherex_image = downscale_local_mean(highres_image_conv.data, (oversample, oversample))\n",
    "    spherex_image *= oversample**2\n",
    "\n",
    "    # wcs\n",
    "    spherex_wcs = highres_wcs.copy()\n",
    "    spherex_wcs.wcs.crpix = [x / oversample for x in highres_wcs.wcs.crpix]\n",
    "    spherex_wcs.wcs.cdelt = [x * oversample for x in highres_wcs.wcs.cdelt]\n",
    "    \n",
    "    return spherex_image, spherex_wcs    "
   ]
  },
  {
   "cell_type": "code",
   "execution_count": 29,
   "id": "sharp-isolation",
   "metadata": {
    "id": "sharp-isolation"
   },
   "outputs": [
    {
     "data": {
      "text/plain": [
       "WCSAXES =                    2 / Number of coordinate axes                      \n",
       "CRPIX1  =                512.0 / Pixel coordinate of reference point            \n",
       "CRPIX2  =               1024.0 / Pixel coordinate of reference point            \n",
       "CDELT1  =  -0.0017222222222222 / [deg] Coordinate increment at reference point  \n",
       "CDELT2  =   0.0017222222222222 / [deg] Coordinate increment at reference point  \n",
       "CUNIT1  = 'deg'                / Units of coordinate increment and value        \n",
       "CUNIT2  = 'deg'                / Units of coordinate increment and value        \n",
       "CTYPE1  = 'RA---SIN'           / Right ascension, orthographic/synthesis project\n",
       "CTYPE2  = 'DEC--SIN'           / Declination, orthographic/synthesis projection \n",
       "CRVAL1  =                  0.0 / [deg] Coordinate value at reference point      \n",
       "CRVAL2  =                  0.0 / [deg] Coordinate value at reference point      \n",
       "LONPOLE =                180.0 / [deg] Native longitude of celestial pole       \n",
       "LATPOLE =                  0.0 / [deg] Native latitude of celestial pole        \n",
       "MJDREF  =                  0.0 / [d] MJD of fiducial time                       \n",
       "RADESYS = 'ICRS'               / Equatorial coordinate system                   "
      ]
     },
     "execution_count": 29,
     "metadata": {},
     "output_type": "execute_result"
    }
   ],
   "source": [
    "# Test\n",
    "spherex_image, spherex_wcs = downsample(highres_image_conv, highres_wcs)\n",
    "spherex_wcs.to_header()"
   ]
  },
  {
   "cell_type": "code",
   "execution_count": 30,
   "id": "cultural-ambassador",
   "metadata": {
    "id": "cultural-ambassador"
   },
   "outputs": [
    {
     "data": {
      "text/plain": [
       "(2048, 1024)"
      ]
     },
     "execution_count": 30,
     "metadata": {},
     "output_type": "execute_result"
    },
    {
     "data": {
      "text/plain": [
       "5"
      ]
     },
     "execution_count": 30,
     "metadata": {},
     "output_type": "execute_result"
    },
    {
     "data": {
      "text/latex": [
       "$7.4088535 \\; \\mathrm{\\frac{e^{-}}{s}}$"
      ],
      "text/plain": [
       "<Quantity 7.40885354 electron / s>"
      ]
     },
     "execution_count": 30,
     "metadata": {},
     "output_type": "execute_result"
    },
    {
     "data": {
      "text/plain": [
       "7.408755995408416"
      ]
     },
     "execution_count": 30,
     "metadata": {},
     "output_type": "execute_result"
    },
    {
     "data": {
      "text/plain": [
       "7.408755995408417"
      ]
     },
     "execution_count": 30,
     "metadata": {},
     "output_type": "execute_result"
    }
   ],
   "source": [
    "spherex_image.shape\n",
    "oversample\n",
    "\n",
    "highres_image.sum()\n",
    "highres_image_conv.sum()\n",
    "spherex_image.sum()"
   ]
  },
  {
   "cell_type": "markdown",
   "id": "eight-prime",
   "metadata": {
    "id": "eight-prime"
   },
   "source": [
    "### Add sky background (Zodi)"
   ]
  },
  {
   "cell_type": "code",
   "execution_count": 31,
   "id": "legislative-delta",
   "metadata": {
    "id": "legislative-delta"
   },
   "outputs": [],
   "source": [
    "spherex_image += image_zodi.data"
   ]
  },
  {
   "cell_type": "code",
   "execution_count": 32,
   "id": "processed-economics",
   "metadata": {
    "id": "processed-economics"
   },
   "outputs": [
    {
     "data": {
      "text/plain": [
       "<matplotlib.colorbar.Colorbar at 0x7fc8984f1890>"
      ]
     },
     "execution_count": 32,
     "metadata": {},
     "output_type": "execute_result"
    },
    {
     "data": {
      "image/png": "[encoded data removed]",
      "text/plain": [
       "<Figure size 720x360 with 3 Axes>"
      ]
     },
     "metadata": {
      "needs_background": "light"
     },
     "output_type": "display_data"
    }
   ],
   "source": [
    "fig, ax = plt.subplots(1,2, figsize=(10,5))\n",
    "\n",
    "xpix_int, ypix_int = int(xpos/oversample), int(ypos/oversample)\n",
    "\n",
    "_ = ax[0].imshow(spherex_image.data, interpolation='none')\n",
    "\n",
    "im1 = ax[1].imshow(spherex_image.data, interpolation='none')\n",
    "_ = ax[1].set_xlim(xpix_int-25, xpix_int+25)\n",
    "_ = ax[1].set_ylim(ypix_int-50, ypix_int+50)\n",
    "plt.colorbar(im1, ax=ax[1], label='$I_{photo}$ [e/s]')"
   ]
  },
  {
   "cell_type": "markdown",
   "id": "resident-asset",
   "metadata": {
    "id": "resident-asset"
   },
   "source": [
    "### Convert to a count image [e-]"
   ]
  },
  {
   "cell_type": "code",
   "execution_count": 33,
   "id": "crucial-depression",
   "metadata": {
    "id": "crucial-depression"
   },
   "outputs": [],
   "source": [
    "t_samp = 1.5\n",
    "n_samp = 100\n",
    "t_int = n_samp * t_samp\n",
    "spherex_cnt = spherex_image * t_int"
   ]
  },
  {
   "cell_type": "markdown",
   "id": "stone-bankruptcy",
   "metadata": {
    "id": "stone-bankruptcy"
   },
   "source": [
    "### Add noise"
   ]
  },
  {
   "cell_type": "code",
   "execution_count": 34,
   "id": "foster-employment",
   "metadata": {
    "id": "foster-employment"
   },
   "outputs": [],
   "source": [
    "def get_noise_map(spherex_cnt, bandinfo=None):\n",
    "    # Read noise\n",
    "    sigma_CDS = 12.5  # [e]\n",
    "    sigma_read = sigma_CDS * np.sqrt(6.0 / n_samp)\n",
    "\n",
    "    # Dark_current - ignore in this example\n",
    "    I_dark = 0.01\n",
    "\n",
    "    # Use Gaussian instead of full Poisson noise\n",
    "    varimg = spherex_cnt\n",
    "    noise_map = ( np.random.normal(size=spherex_cnt.shape) * np.sqrt(varimg) +\n",
    "                  np.random.normal(size=spherex_cnt.shape) * sigma_read )\n",
    "\n",
    "    return noise_map"
   ]
  },
  {
   "cell_type": "code",
   "execution_count": 35,
   "id": "economic-membrane",
   "metadata": {
    "id": "economic-membrane"
   },
   "outputs": [],
   "source": [
    "noise_map = get_noise_map(spherex_cnt, bandinfo=bandinfo)\n",
    "spherex_cnt += noise_map"
   ]
  },
  {
   "cell_type": "code",
   "execution_count": 36,
   "id": "violent-township",
   "metadata": {
    "id": "violent-township"
   },
   "outputs": [
    {
     "data": {
      "text/plain": [
       "<matplotlib.colorbar.Colorbar at 0x7fc8885df0d0>"
      ]
     },
     "execution_count": 36,
     "metadata": {},
     "output_type": "execute_result"
    },
    {
     "data": {
      "image/png": "[encoded data removed]",
      "text/plain": [
       "<Figure size 720x360 with 3 Axes>"
      ]
     },
     "metadata": {
      "needs_background": "light"
     },
     "output_type": "display_data"
    }
   ],
   "source": [
    "fig, ax = plt.subplots(1,2, figsize=(10,5))\n",
    "\n",
    "xpix_int, ypix_int = int(xpos/oversample), int(ypos/oversample)\n",
    "\n",
    "_ = ax[0].imshow(spherex_cnt.data, interpolation='none')\n",
    "\n",
    "im1 = ax[1].imshow(spherex_cnt.data, interpolation='none')\n",
    "_ = ax[1].set_xlim(xpix_int-25, xpix_int+25)\n",
    "_ = ax[1].set_ylim(ypix_int-50, ypix_int+50)\n",
    "plt.colorbar(im1, ax=ax[1], label='Counts [e]')"
   ]
  },
  {
   "cell_type": "code",
   "execution_count": 37,
   "id": "auburn-river",
   "metadata": {
    "id": "auburn-river"
   },
   "outputs": [],
   "source": [
    "header = spherex_wcs.to_header()                         # astropy.io.fits.Header\n",
    "hdu = fits.PrimaryHDU(spherex_cnt, header=header)\n",
    "hdu.writeto('spherex_sim.fits', overwrite=True)"
   ]
  },
  {
   "cell_type": "markdown",
   "id": "varied-british",
   "metadata": {
    "id": "varied-british"
   },
   "source": [
    "## 5. Put everything together!"
   ]
  },
  {
   "cell_type": "code",
   "execution_count": 38,
   "id": "derived-blocking",
   "metadata": {
    "id": "derived-blocking"
   },
   "outputs": [],
   "source": [
    "# Choose a band\n",
    "band = 1\n",
    "\n",
    "bandinfo = {\n",
    "    'band': band,\n",
    "    'lmin': lambda_min[band-1],\n",
    "    'lmax': lambda_max[band-1],\n",
    "    'R': resolving_power[band-1],\n",
    "    'eff_LVF': eff_opt[band-1],\n",
    "    'eff_total': eff_total[band-1],\n",
    "}"
   ]
  },
  {
   "cell_type": "code",
   "execution_count": 39,
   "id": "passing-planner",
   "metadata": {
    "id": "passing-planner"
   },
   "outputs": [],
   "source": [
    "# Select a pointing\n",
    "ra_center, dec_center = 150.06890, 2.20573\n",
    "oversample = 5\n",
    "highres_image, highres_wcs = spherex_highres_image(ra_center, dec_center, oversample=oversample)"
   ]
  },
  {
   "cell_type": "code",
   "execution_count": 40,
   "id": "accompanied-plane",
   "metadata": {
    "id": "accompanied-plane"
   },
   "outputs": [],
   "source": [
    "# Background map\n",
    "wavemap = get_wavemap(bandinfo=bandinfo)\n",
    "nuInu_zodi = nuInu_ZL(wavemap, f_ZL=2.0)\n",
    "image_zodi = get_countrate_for_nuInu(nuInu_zodi, wavemap, bandinfo=bandinfo)"
   ]
  },
  {
   "cell_type": "code",
   "execution_count": 41,
   "id": "closed-science",
   "metadata": {
    "id": "closed-science"
   },
   "outputs": [
    {
     "name": "stderr",
     "output_type": "stream",
     "text": [
      "WARNING: UnitsWarning: 'erg/s/cm2/Angstrom' contains multiple slashes, which is discouraged by the FITS standard [astropy.units.format.generic]\n"
     ]
    }
   ],
   "source": [
    "# Add sources\n",
    "T = load_catalog(highres_wcs)\n",
    "\n",
    "for r in T:\n",
    "    ra, dec = r['ra'], r['dec']\n",
    "    sedfile = r['sedfile']\n",
    "    wave, flux = get_sed(sedfile)\n",
    "    \n",
    "    # Detector position\n",
    "    xpos, ypos = get_pixel_coordinates(ra, dec, highres_wcs)\n",
    "\n",
    "    # LVF\n",
    "    xpix, ypix = xpos/oversample, ypos/oversample\n",
    "    wave_lvf, trans_lvf = get_lvf_trans(xpix, ypix, bandinfo=bandinfo)\n",
    "\n",
    "    # Source flux\n",
    "    fnu_src = synth_phot(wave, flux, wave_lvf, trans_lvf, tol=1e-3) * 1e-6\n",
    "    fnu_src *= 100\n",
    "\n",
    "    # Inject \n",
    "    xpos_int, ypos_int = map(int, (xpos, ypos))\n",
    "    highres_image <<= u.electron / u.s\n",
    "    highres_image[ypos_int, xpos_int] = get_countrate_for_fnu(fnu_src, bandinfo=bandinfo)\n",
    "\n",
    "# PSF convolution\n",
    "lambda_cen = (bandinfo['lmin'] + bandinfo['lmax'])/2\n",
    "kernel = get_psf(lambda_cen)\n",
    "highres_image_conv = fftconvolve(highres_image, kernel, mode='same')\n",
    "\n",
    "# Downsample\n",
    "spherex_image, spherex_wcs = downsample(highres_image_conv, highres_wcs)\n",
    "\n",
    "# Add background\n",
    "spherex_image += image_zodi.data\n",
    "\n",
    "# To counts\n",
    "t_samp, n_samp = 1.5, 100\n",
    "t_int = n_samp * t_samp\n",
    "spherex_cnt = spherex_image * t_int\n",
    "\n",
    "# Add noise\n",
    "noise_map = get_noise_map(spherex_cnt, bandinfo=bandinfo)\n",
    "spherex_cnt += noise_map"
   ]
  },
  {
   "cell_type": "code",
   "execution_count": 42,
   "id": "together-plymouth",
   "metadata": {
    "id": "together-plymouth"
   },
   "outputs": [],
   "source": [
    "# Save\n",
    "# ELCOSMOS_v1.part.reg\n",
    "hdu = fits.PrimaryHDU(spherex_cnt, header=spherex_wcs.to_header())\n",
    "hdu.writeto('spherex_sim_cosmos.fits', overwrite=True)"
   ]
  },
  {
   "cell_type": "code",
   "execution_count": null,
   "id": "2e83cecd",
   "metadata": {},
   "outputs": [],
   "source": []
  }
 ],
 "metadata": {
  "colab": {
   "name": "4_SPHEREx_Simulate_LVF_Image.ipynb",
   "provenance": []
  },
  "kernelspec": {
   "display_name": "Python 3 (ipykernel)",
   "language": "python",
   "name": "python3"
  },
  "language_info": {
   "codemirror_mode": {
    "name": "ipython",
    "version": 3
   },
   "file_extension": ".py",
   "mimetype": "text/x-python",
   "name": "python",
   "nbconvert_exporter": "python",
   "pygments_lexer": "ipython3",
   "version": "3.9.12"
  }
 },
 "nbformat": 4,
 "nbformat_minor": 5
}
