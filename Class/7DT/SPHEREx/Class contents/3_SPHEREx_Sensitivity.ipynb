{
 "cells": [
  {
   "cell_type": "markdown",
   "id": "6a2ab929",
   "metadata": {
    "id": "6a2ab929"
   },
   "source": [
    "# 3_SPHEREx_Sensitivity\n",
    "# Understand how SPHEREx sensitivity limits are determined\n",
    "\n",
    "## Authors\n",
    "- Yujin Yang, Woong-Seob Jeong (KASI SPHEREx Team)\n",
    "- **Sky background slides from Woong-Seob**\n",
    "\n",
    "## Goal\n",
    "- Understand how T(exp) is determined from the survey requirements\n",
    "- Understand how SPHEREx detection limits are determined"
   ]
  },
  {
   "cell_type": "markdown",
   "id": "military-tuesday",
   "metadata": {
    "id": "military-tuesday"
   },
   "source": [
    "<div class=\"alert alert-block alert-danger\">\n",
    "    <span style='font-size:18px'>\n",
    "    The numbers in this notebook is for approximation only to illustrate SPHEREx sensitivity.\n",
    "    </span>    \n",
    "</div>\n",
    "<div class=\"alert alert-block alert-danger\">\n",
    "    <span style='font-size:18px'>\n",
    "    Always consult offical SPHEREx publications.\n",
    "    </span>    \n",
    "</div>"
   ]
  },
  {
   "cell_type": "markdown",
   "id": "friendly-puppy",
   "metadata": {
    "id": "friendly-puppy"
   },
   "source": [
    "## <span style='color:DarkSlateBlue'> Setting for this notebook </span>"
   ]
  },
  {
   "cell_type": "code",
   "execution_count": 1,
   "id": "73fb92d4",
   "metadata": {
    "id": "73fb92d4"
   },
   "outputs": [],
   "source": [
    "from IPython.core.interactiveshell import InteractiveShell\n",
    "InteractiveShell.ast_node_interactivity = \"all\"   # last or last_expr"
   ]
  },
  {
   "cell_type": "code",
   "execution_count": 2,
   "id": "3b35366d",
   "metadata": {
    "id": "3b35366d"
   },
   "outputs": [],
   "source": [
    "import os\n",
    "import numpy as np\n",
    "import matplotlib as mpl\n",
    "import matplotlib.pyplot as plt\n",
    "\n",
    "from numpy import sqrt, exp, log10, pi\n",
    "from astropy import units as u\n",
    "from astropy import constants as const\n",
    "from astropy.table import Table, QTable, join, vstack\n",
    "\n",
    "mpl.rcParams[\"axes.titlesize\"] = 13\n",
    "mpl.rcParams[\"axes.labelsize\"] = 15"
   ]
  },
  {
   "cell_type": "code",
   "execution_count": 3,
   "id": "ffc9d811",
   "metadata": {
    "id": "ffc9d811"
   },
   "outputs": [],
   "source": [
    "# Constants\n",
    "c_ums = 3e14               # c in um/s\n",
    "c = 3e8                    # m/s\n",
    "h = 6.626e-34              # Planck constant   [J/Hz]\n",
    "k = 1.38e-23               # Boltzman constant [J/K]\n",
    "rad2arcsec = (180/pi*3600) # 206265 arcsec\n",
    "arcsec2rad = 1/rad2arcsec"
   ]
  },
  {
   "cell_type": "markdown",
   "id": "cadac2da",
   "metadata": {
    "id": "cadac2da"
   },
   "source": [
    "## <span style='color:DarkSlateBlue'> 1. SPHEREx Parameters - telescope, detectors, LVFs, efficiencies </span>"
   ]
  },
  {
   "cell_type": "markdown",
   "id": "controlled-habitat",
   "metadata": {
    "id": "controlled-habitat"
   },
   "source": [
    "### Band Information"
   ]
  },
  {
   "cell_type": "code",
   "execution_count": 4,
   "id": "similar-equation",
   "metadata": {
    "id": "similar-equation"
   },
   "outputs": [],
   "source": [
    "# SPHEREx Band ID (1,2,3,4,5,6)\n",
    "iband = 6"
   ]
  },
  {
   "cell_type": "code",
   "execution_count": 5,
   "id": "rough-lightweight",
   "metadata": {
    "id": "rough-lightweight"
   },
   "outputs": [],
   "source": [
    "SPHEREx_lambda_min = np.array([0.75, 1.11, 1.64, 2.42, 3.82, 4.42])  # starting wavelength\n",
    "SPHEREx_R = np.array([41, 41, 41, 35, 110, 130])                     # Resolving power\n",
    "SPHEREx_eff_LVF = np.array([0.97, 0.97, 0.88, 0.86, 0.78, 0.72])     # LVF efficiency"
   ]
  },
  {
   "cell_type": "markdown",
   "id": "bottom-isolation",
   "metadata": {
    "id": "bottom-isolation"
   },
   "source": [
    "### Telescope"
   ]
  },
  {
   "cell_type": "code",
   "execution_count": 6,
   "id": "a294cc31",
   "metadata": {
    "id": "a294cc31"
   },
   "outputs": [],
   "source": [
    "D = 20.             # effetive diameter [cm]\n",
    "F = 3.0             # F-number\n",
    "EFL = D*F           # effective focal length [cm]\n",
    "WFE = 0.25          # wave front error [um]\n",
    "rms_pointing = 1.0  # pointing accuray [arcsec]"
   ]
  },
  {
   "cell_type": "markdown",
   "id": "chronic-mumbai",
   "metadata": {
    "id": "chronic-mumbai"
   },
   "source": [
    "### H2RG Detectors"
   ]
  },
  {
   "cell_type": "code",
   "execution_count": 7,
   "id": "acoustic-grade",
   "metadata": {
    "id": "acoustic-grade"
   },
   "outputs": [],
   "source": [
    "array = 'HgCdTe'   # detector array type\n",
    "Npix = 2048        # [pixels], detector format\n",
    "dQ_CDS = 12.5      # [e]\n",
    "I_dark = 0.01      # [e/s], dark current\n",
    "pixel_size = 18.0  # [um], \"pitch\"\n",
    "Tsamp = 1.5        # sampling time of IR detectors [sec]"
   ]
  },
  {
   "cell_type": "markdown",
   "id": "accessible-discount",
   "metadata": {
    "id": "accessible-discount"
   },
   "source": [
    "### Linear Variable Filters (LVFs)"
   ]
  },
  {
   "cell_type": "code",
   "execution_count": 8,
   "id": "f87999e3",
   "metadata": {
    "id": "f87999e3"
   },
   "outputs": [
    {
     "name": "stdout",
     "output_type": "stream",
     "text": [
      "lambda_min =    4.420\n",
      "lambda_mid =    4.709\n",
      "lambda_max =    4.999\n"
     ]
    }
   ],
   "source": [
    "R = 41             # Resolving power\n",
    "R = SPHEREx_R[iband-1]\n",
    "Nchan = 16         # number of channels per band (or steps)\n",
    "\n",
    "lambda_min = 0.75  # starting wavelength\n",
    "lambda_min = SPHEREx_lambda_min[iband-1]  # starting wavelength\n",
    "lambda_max = lambda_min * ((2*R+1)/(2*R-1))**Nchan\n",
    "lambda_mid = (lambda_min + lambda_max)/2\n",
    "\n",
    "print(f'lambda_min = {lambda_min:8.3f}')\n",
    "print(f'lambda_mid = {lambda_mid:8.3f}')\n",
    "print(f'lambda_max = {lambda_max:8.3f}')"
   ]
  },
  {
   "cell_type": "markdown",
   "id": "empirical-fundamentals",
   "metadata": {
    "id": "empirical-fundamentals"
   },
   "source": [
    "### Efficiencies"
   ]
  },
  {
   "cell_type": "code",
   "execution_count": 9,
   "id": "1ef5a180",
   "metadata": {
    "id": "1ef5a180"
   },
   "outputs": [
    {
     "data": {
      "text/plain": [
       "(0.6340748273999999, 0.4755561205499999)"
      ]
     },
     "execution_count": 9,
     "metadata": {},
     "output_type": "execute_result"
    }
   ],
   "source": [
    "eff_mirrors_Au = (0.965)**3  # Gold coating, 3 mirrors\n",
    "eff_dichroic = 0.98          # splitter\n",
    "eff_LVF = 0.97               # LVF peak transmission\n",
    "eff_LVF = SPHEREx_eff_LVF[iband-1]\n",
    "eff_fpa = 0.75               # Detector Quantum Efficiency (QE)\n",
    "\n",
    "T_scope = 80.    # temperature of the telescope [K]\n",
    "T_FPA   = 50.    # temperature of the focal plane array (FPA) [K]\n",
    "\n",
    "eff_opt   = eff_mirrors_Au * eff_dichroic * eff_LVF\n",
    "eff_total = eff_opt * eff_fpa\n",
    "\n",
    "eff_opt, eff_total"
   ]
  },
  {
   "cell_type": "markdown",
   "id": "22666f95",
   "metadata": {
    "id": "22666f95"
   },
   "source": [
    "## <span style='color:DarkSlateBlue'> 2. (Derived) SPHEREx Properties  </span>"
   ]
  },
  {
   "cell_type": "markdown",
   "id": "46aa03f1",
   "metadata": {
    "id": "46aa03f1"
   },
   "source": [
    "### LVF Channels and Detectors\n",
    " - plate scale [arcsec/mm] = $\\frac{206265}{f [mm]}$\n",
    "     - f = effective focal length (EFL)\n",
    " - convert to pixel scale\n",
    "     - pixscale = plate scale * detector pixel size"
   ]
  },
  {
   "cell_type": "code",
   "execution_count": 10,
   "id": "cd868035",
   "metadata": {
    "id": "cd868035"
   },
   "outputs": [
    {
     "data": {
      "text/plain": [
       "(3.520252693283778, 6.187944187412891)"
      ]
     },
     "execution_count": 10,
     "metadata": {},
     "output_type": "execute_result"
    }
   ],
   "source": [
    "# Pixel scale, FOV in spatial direction\n",
    "theta_pixel = rad2arcsec * pixel_size*0.0001/EFL  # [arcsec], pixel scale\n",
    "theta_x = theta_pixel * Npix / 3600               # [deg], FOV in spatial direction (x)\n",
    "theta_x, theta_pixel"
   ]
  },
  {
   "cell_type": "code",
   "execution_count": 11,
   "id": "388f547b",
   "metadata": {
    "id": "388f547b"
   },
   "outputs": [
    {
     "data": {
      "text/plain": [
       "0.7745111890357308"
      ]
     },
     "execution_count": 11,
     "metadata": {},
     "output_type": "execute_result"
    }
   ],
   "source": [
    "# Length of one channel on the sky\n",
    "# Spectral response same for this angle on the sky\n",
    "# \"spec\" == channel\n",
    "theta_spec = Npix / Nchan * theta_pixel / 60  # [arcmin]\n",
    "\n",
    "# Angular area for which one exposure (pointing) can get spectrum for a given channel\n",
    "# 하나의 채널이 검출기에서 차지하는 영역의 각 넓이\n",
    "# 한번에 관측할 수 있는 하늘의 영역\n",
    "FOV_spec = (theta_spec/60) * theta_x          # [deg^2]\n",
    "FOV_spec\n",
    "\n",
    "# Length of spectrum per channel\n",
    "Npix_per_channel = (Npix) / (Nchan)"
   ]
  },
  {
   "cell_type": "code",
   "execution_count": 12,
   "id": "6b97e1be",
   "metadata": {},
   "outputs": [
    {
     "data": {
      "text/plain": [
       "13.200947599814167"
      ]
     },
     "execution_count": 12,
     "metadata": {},
     "output_type": "execute_result"
    }
   ],
   "source": [
    "theta_spec"
   ]
  },
  {
   "cell_type": "code",
   "execution_count": 13,
   "id": "54443d29",
   "metadata": {
    "id": "54443d29"
   },
   "outputs": [],
   "source": [
    "# diffraction-limited PSF size = 1.22 (lambda/D)\n",
    "theta_diffraction = 1.22 * (lambda_mid*1e-4) / D * rad2arcsec\n",
    "\n",
    "# Area of a pixel in steradian\n",
    "pixel_sr = (theta_pixel*arcsec2rad)**2\n",
    "\n",
    "# (Area) x (solid angle) per pixel [m^2 sr]\n",
    "AOmega = pi * (D/2/100)**2 * pixel_sr"
   ]
  },
  {
   "cell_type": "code",
   "execution_count": 14,
   "id": "3e9b7a68",
   "metadata": {
    "id": "3e9b7a68"
   },
   "outputs": [
    {
     "name": "stdout",
     "output_type": "stream",
     "text": [
      "FOV_spec          =    0.775 deg^2\n",
      "theta_spec        =   13.201 arcmin\n",
      "Npix_per_channel  =  128.000 pixels\n",
      "theta_x           =    3.520 deg\n",
      "theta_pixel       =    6.188 arcsec\n",
      "fwhm_diffraction  =    5.926 arcsec\n",
      "pixel_sr          = 9.00e-10 sr\n",
      "AOmega            = 2.83e-11 m^2 sr\n"
     ]
    }
   ],
   "source": [
    "print(f\"FOV_spec          = {FOV_spec:8.3f} deg^2\")\n",
    "print(f\"theta_spec        = {theta_spec:8.3f} arcmin\")\n",
    "print(f\"Npix_per_channel  = {Npix_per_channel:8.3f} pixels\")\n",
    "print(f\"theta_x           = {theta_x:8.3f} deg\")\n",
    "print(f\"theta_pixel       = {theta_pixel:8.3f} arcsec\")\n",
    "print(f\"fwhm_diffraction  = {theta_diffraction:8.3f} arcsec\")\n",
    "print(f\"pixel_sr          = {pixel_sr:8.2e} sr\")\n",
    "print(f\"AOmega            = {AOmega:8.2e} m^2 sr\")"
   ]
  },
  {
   "cell_type": "markdown",
   "id": "promising-possibility",
   "metadata": {
    "id": "promising-possibility"
   },
   "source": [
    "### PSFs due to the optics and the spacecraft\n",
    "- diffraction\n",
    "$$ \\mathbf{FWHM} = 1.22 \\dfrac{\\lambda}{D} $$\n",
    "- imperfections in the optics (wave front error)\n",
    "$$ \\mathbf{Strehl~ratio} \\simeq \\exp{\\left[-\\left(2\\pi\\frac{\\sigma}{\\lambda}\\right)^2\\right]} $$\n",
    "$$ \\mathbf{Strehl~ratio} \\sim \\left(\\frac{\\mathbf{FWHM_{diffration}}}{\\mathbf{FWHM}}\\right)^2 $$\n",
    "- jitter in the spacecraft (pointing stability)"
   ]
  },
  {
   "cell_type": "markdown",
   "id": "located-means",
   "metadata": {
    "id": "located-means"
   },
   "source": [
    "<div class=\"alert alert-block alert-danger\">\n",
    "    <span style='font-size:18px'>\n",
    "        This FWHM approximation is very crude. Use it with a caution outside this notebook!\n",
    "    </span>    \n",
    "</div>"
   ]
  },
  {
   "cell_type": "code",
   "execution_count": 15,
   "id": "random-filter",
   "metadata": {
    "id": "random-filter"
   },
   "outputs": [
    {
     "data": {
      "image/png": "[encoded data removed]",
      "text/plain": [
       "<Figure size 432x288 with 1 Axes>"
      ]
     },
     "metadata": {
      "needs_background": "light"
     },
     "output_type": "display_data"
    }
   ],
   "source": [
    "# wavlength vector in um\n",
    "wl = np.linspace(0.75, 5, 100)   \n",
    "\n",
    "# Diffraction-limited PSF width\n",
    "fwhm_diffraction = 1.22*wl/(D*1e4) * rad2arcsec\n",
    "\n",
    "# PSF width due to the wave front error\n",
    "# Note that this equation is over-approximation at shorther wavelength!\n",
    "fwhm_wfe = fwhm_diffraction * sqrt(exp((2*pi*WFE/wl)**2))\n",
    "\n",
    "# Different approximation can be used!\n",
    "# fwhm_wfe = fwhm_diffraction * sqrt(1 + (2*pi*WFE/wl)**2)\n",
    "# fwhm_wfe = fwhm_diffraction *     (1 + (2*pi*WFE/wl)**2)\n",
    "\n",
    "# PSF due to spacecraft pointing stability\n",
    "fwhm_jitter = rms_pointing * 2.35 * np.ones_like(wl)\n",
    "\n",
    "# Final PSF width = quadrature sum of the two\n",
    "fwhm_final = sqrt(fwhm_wfe**2 + fwhm_jitter**2)\n",
    "\n",
    "_ = plt.plot(wl, fwhm_diffraction, label='Diffraction', alpha=0.7)\n",
    "_ = plt.plot(wl, fwhm_wfe, label='Diffraction+WFE', alpha=0.7)\n",
    "_ = plt.plot(wl, fwhm_jitter, label='Jitter', alpha=0.7, linestyle='--')\n",
    "_ = plt.plot(wl, fwhm_final, label='Final', linewidth=3)\n",
    "_ = plt.legend()\n",
    "_ = plt.xlabel('wavelength [$\\mu$m]')\n",
    "_ = plt.ylabel('FWHM [arcsec]')"
   ]
  },
  {
   "cell_type": "code",
   "execution_count": 16,
   "id": "conditional-thinking",
   "metadata": {
    "id": "conditional-thinking",
    "scrolled": false
   },
   "outputs": [
    {
     "data": {
      "text/plain": [
       "(4.7094483449386075, 6.690722996327264)"
      ]
     },
     "execution_count": 16,
     "metadata": {},
     "output_type": "execute_result"
    }
   ],
   "source": [
    "wl  = lambda_mid  # um\n",
    "\n",
    "fwhm_diffraction = 1.22*wl/(D*1e4) * rad2arcsec\n",
    "fwhm_wfe = fwhm_diffraction * sqrt(exp((2*pi*WFE/wl)**2))\n",
    "fwhm_jitter = rms_pointing * 2.35 * np.ones_like(wl)\n",
    "\n",
    "FWHM0 = sqrt(fwhm_wfe**2 + fwhm_jitter**2)\n",
    "wl, FWHM0"
   ]
  },
  {
   "cell_type": "code",
   "execution_count": 17,
   "id": "78b0eed1",
   "metadata": {
    "id": "78b0eed1"
   },
   "outputs": [
    {
     "data": {
      "text/plain": [
       "3.672850040522937"
      ]
     },
     "execution_count": 17,
     "metadata": {},
     "output_type": "execute_result"
    }
   ],
   "source": [
    "# How many pixels does a point source occupy?\n",
    "# Effective number of pixels for a Gaussian PSF with FWHM0\n",
    "Npix0 = pi*(FWHM0/theta_pixel)**2\n",
    "Npix0"
   ]
  },
  {
   "cell_type": "markdown",
   "id": "1d4c0bb4",
   "metadata": {
    "id": "1d4c0bb4"
   },
   "source": [
    "## <span style='color:DarkSlateBlue'> 3. Survey Plan & Design </span>"
   ]
  },
  {
   "cell_type": "markdown",
   "id": "synthetic-genealogy",
   "metadata": {
    "id": "synthetic-genealogy"
   },
   "source": [
    "### Mission cycle"
   ]
  },
  {
   "cell_type": "code",
   "execution_count": 18,
   "id": "twelve-nutrition",
   "metadata": {
    "id": "twelve-nutrition"
   },
   "outputs": [
    {
     "data": {
      "text/plain": [
       "127831.73232380344"
      ]
     },
     "execution_count": 18,
     "metadata": {},
     "output_type": "execute_result"
    }
   ],
   "source": [
    "T_mission = 2  # year\n",
    "resolutionElement_per_survey = 1  # Nyquist = 0.5\n",
    "Sh_Redun  = 2 / resolutionElement_per_survey # per year [2=visit twice]\n",
    "\n",
    "# Survey inefficiency margin\n",
    "# How much will we lose the observing time due to unexpected circumstances?\n",
    "Sh_Inefficiency = 1.2    # 1.0 = perpect, 1.2 = 20% is wasted\n",
    "\n",
    "# All-sky steps per year = (4pi / FOV_spec)\n",
    "Area_allsky = 4*pi*(180/pi)**2  # [deg^2] = 4pi steradian\n",
    "Nsteps_per_year = (Area_allsky/FOV_spec) * Sh_Redun * Sh_Inefficiency\n",
    "\n",
    "# all-sky survey를 위해 1년 동안 필요한 pointing/step 개수\n",
    "Nsteps_per_year"
   ]
  },
  {
   "cell_type": "markdown",
   "id": "actual-eating",
   "metadata": {
    "id": "actual-eating"
   },
   "source": [
    "### Orbit\n",
    "- Unusable times during an orbit\n",
    "    - Downlink\n",
    "    - SAA (South Atlantic Anomaly): area where Earth's inner Van Allen radiation belt comes closest to Earth's surface (an altitude of 200 km)\n",
    "    - Large slew\n",
    "    - Small slew"
   ]
  },
  {
   "cell_type": "code",
   "execution_count": 19,
   "id": "engaging-search",
   "metadata": {
    "id": "engaging-search"
   },
   "outputs": [
    {
     "data": {
      "text/plain": [
       "5334.279918864097"
      ]
     },
     "execution_count": 19,
     "metadata": {},
     "output_type": "execute_result"
    }
   ],
   "source": [
    "Tmin_orbit = 98.6                 # [min], time per orbit \n",
    "TM_downlink = 60.                 # [sec/orbit] Downlink 시간\n",
    "SAA_time = 415                    # [sec/orbit] South Atlantic Anomaly 시간\n",
    "\n",
    "N_orbits_per_year = 365.25*24*60/Tmin_orbit\n",
    "N_orbits_per_year"
   ]
  },
  {
   "cell_type": "markdown",
   "id": "37d0cb85",
   "metadata": {
    "id": "37d0cb85"
   },
   "source": [
    "### Orbit split to all-sky & deep fields"
   ]
  },
  {
   "cell_type": "code",
   "execution_count": 20,
   "id": "49064f07",
   "metadata": {
    "id": "49064f07"
   },
   "outputs": [
    {
     "data": {
      "text/plain": [
       "2.9955245662994856"
      ]
     },
     "execution_count": 20,
     "metadata": {},
     "output_type": "execute_result"
    }
   ],
   "source": [
    "# Large steps (여러 개의 small step들로 이루어진)\n",
    "lg_steps_per_orbit = 8                          # [/orbit] 한 바퀴당 all-sky에 쓸 large step 개수\n",
    "lg_step_time = Tmin_orbit*60/lg_steps_per_orbit # [sec] large step당 시간\n",
    "\n",
    "lg_SS_time = 90           # [sec]      large slew 당 필요한 시간 (spacecraft 성능)\n",
    "sm_SS_time =  8           # [sec]      small slew 당 필요한 시간 (spacecraft 성능)\n",
    "\n",
    "# Fraction of time to be used fro all-sky\n",
    "# 전체 시간 중 얼마나 전천탐사에 시간을 쓸 것인가?\n",
    "frac_allsky = 0.8   \n",
    "\n",
    "# small steps per one large step to cover all-sky\n",
    "# 전천을 완전히 커버하기 위해, 큰 step 당 필요한 small step 개수\n",
    "sm_steps = Nsteps_per_year / N_orbits_per_year / lg_steps_per_orbit  # [/lg step]\n",
    "sm_steps"
   ]
  },
  {
   "cell_type": "markdown",
   "id": "social-aspect",
   "metadata": {
    "id": "social-aspect"
   },
   "source": [
    "### All-sky exposure time per channel (= step in this notebook)"
   ]
  },
  {
   "cell_type": "code",
   "execution_count": 21,
   "id": "2437f9ec",
   "metadata": {
    "id": "2437f9ec"
   },
   "outputs": [
    {
     "data": {
      "text/plain": [
       "5916.0"
      ]
     },
     "execution_count": 21,
     "metadata": {},
     "output_type": "execute_result"
    },
    {
     "data": {
      "text/plain": [
       "4593.286427756833"
      ]
     },
     "execution_count": 21,
     "metadata": {},
     "output_type": "execute_result"
    },
    {
     "data": {
      "text/plain": [
       "60.0"
      ]
     },
     "execution_count": 21,
     "metadata": {},
     "output_type": "execute_result"
    },
    {
     "data": {
      "text/plain": [
       "415"
      ]
     },
     "execution_count": 21,
     "metadata": {},
     "output_type": "execute_result"
    },
    {
     "data": {
      "text/plain": [
       "153.33829938945016"
      ]
     },
     "execution_count": 21,
     "metadata": {},
     "output_type": "execute_result"
    }
   ],
   "source": [
    "T_usable_per_orbit = ( Tmin_orbit*60                                   # Total orbit\n",
    "                     - lg_steps_per_orbit * lg_SS_time                 # 큰 스텝 사이의 이동시간\n",
    "                     - lg_steps_per_orbit * (sm_steps-1) * sm_SS_time  # 작은 스텝 사이의 이동시간 (all-sky)\n",
    "                     - TM_downlink                                     # downlink\n",
    "                     - SAA_time )                                      # SAA\n",
    "\n",
    "Tint = T_usable_per_orbit / (lg_steps_per_orbit * sm_steps)\n",
    "Tint *= frac_allsky\n",
    "\n",
    "\n",
    "Tmin_orbit*60       # 한 바퀴 시간 [sec]\n",
    "T_usable_per_orbit  # 한 바퀴당 실제 사용가능한 시간 [sec]\n",
    "TM_downlink         # Downlink 시간\n",
    "SAA_time            # South Atlantic Anomaly 시간\n",
    "Tint                # total integration time"
   ]
  },
  {
   "cell_type": "code",
   "execution_count": 22,
   "id": "c21f3090",
   "metadata": {
    "id": "c21f3090"
   },
   "outputs": [
    {
     "name": "stdout",
     "output_type": "stream",
     "text": [
      "T_mission        =          2 yr\n",
      "Sh_Redun         =       2.00 survey/yr\n",
      "Sh_Inefficiency  =       1.20\n",
      "T_orbit          =      98.60 min\n",
      "T_downlink       =         60 sec\n",
      "SAA_time         =        415 sec\n",
      "N_orbit_per_year =    5334.28 orbits\n",
      "\n",
      "lg_SS_time       =         90 sec\n",
      "sm_SS_time       =          8 sec\n",
      "lg_steps         =        8.0\n",
      "\n",
      "All-sky steps    =  127831.73 step/yr\n",
      "Tint             =     153.34 sec\n"
     ]
    }
   ],
   "source": [
    "print(f\"T_mission        = {T_mission:10d} yr\")\n",
    "print(f\"Sh_Redun         = {Sh_Redun:10.2f} survey/yr\")\n",
    "print(f\"Sh_Inefficiency  = {Sh_Inefficiency:10.2f}\")\n",
    "print(f\"T_orbit          = {Tmin_orbit:10.2f} min\")\n",
    "print(f\"T_downlink       = {TM_downlink:10.0f} sec\")\n",
    "print(f\"SAA_time         = {SAA_time:10.0f} sec\")\n",
    "print(f\"N_orbit_per_year = {N_orbits_per_year:10.2f} orbits\")\n",
    "print(\"\")\n",
    "print(f\"lg_SS_time       = {lg_SS_time:10.0f} sec\")\n",
    "print(f\"sm_SS_time       = {sm_SS_time:10.0f} sec\")\n",
    "print(f\"lg_steps         = {lg_steps_per_orbit:10.1f}\")\n",
    "print(\"\")\n",
    "print(f\"All-sky steps    = {Nsteps_per_year:10.2f} step/yr\")\n",
    "print(f\"Tint             = {Tint:10.2f} sec\")"
   ]
  },
  {
   "cell_type": "markdown",
   "id": "e3fcd030",
   "metadata": {
    "id": "e3fcd030"
   },
   "source": [
    "### These are only numbers that matter in the following"
   ]
  },
  {
   "cell_type": "code",
   "execution_count": 23,
   "id": "d0cb72b0",
   "metadata": {
    "id": "d0cb72b0"
   },
   "outputs": [],
   "source": [
    "# Tint ~ 150"
   ]
  },
  {
   "cell_type": "markdown",
   "id": "43b0b82b",
   "metadata": {
    "id": "43b0b82b"
   },
   "source": [
    "## <span style='color:DarkSlateBlue'> 4. Noise Sources </span>"
   ]
  },
  {
   "cell_type": "markdown",
   "id": "a53b6323",
   "metadata": {
    "id": "a53b6323"
   },
   "source": [
    "### Readout noise per integration\n",
    "- IR detector sampling scheme"
   ]
  },
  {
   "cell_type": "code",
   "execution_count": 24,
   "id": "attempted-insured",
   "metadata": {
    "id": "attempted-insured"
   },
   "outputs": [],
   "source": [
    "dQ_RN_sh = dQ_CDS*np.sqrt(6*Tsamp/Tint) # [e]"
   ]
  },
  {
   "cell_type": "markdown",
   "id": "1ffc7f3c",
   "metadata": {
    "id": "1ffc7f3c"
   },
   "source": [
    "### Sky background: Zodiacal Light (황도광)\n",
    "- **ZL is time-varying component**, but here we adopet an average\n",
    "- $\\nu I_\\nu$ from ZL\n",
    "- $\\nu I_\\nu$ [nW/m2/sr]\n",
    "- $I_\\nu$ [nW/m2/sr/$\\mu$m]\n"
   ]
  },
  {
   "cell_type": "code",
   "execution_count": 25,
   "id": "loaded-restriction",
   "metadata": {
    "id": "loaded-restriction"
   },
   "outputs": [],
   "source": [
    "def nuInu_ZL(lambda_um, f_ZL=1.7):\n",
    "    # very rough approximation for ZL\n",
    "    # nuInu(sky): fit for zodiacal light [nW/m2/sr]\n",
    "    # f_ZL = a fudge factor for margin\n",
    "    A_scat = 3800\n",
    "    T_scat = 5500\n",
    "    b_scat = 0.4\n",
    "    A_therm = 5000\n",
    "    T_therm = 270\n",
    "    nuInu = f_ZL * ( A_scat*(lambda_um**b_scat)*((lambda_um)**(-4))/(exp(h*c_ums/(k*T_scat *lambda_um))-1)\n",
    "                    +A_therm*1000000           *((lambda_um)**(-4))/(exp(h*c_ums/(k*T_therm*lambda_um))-1) )\n",
    "    return nuInu"
   ]
  },
  {
   "cell_type": "code",
   "execution_count": 26,
   "id": "gorgeous-topic",
   "metadata": {
    "id": "gorgeous-topic"
   },
   "outputs": [
    {
     "data": {
      "text/plain": [
       "[<matplotlib.lines.Line2D at 0x7fe00834a290>]"
      ]
     },
     "execution_count": 26,
     "metadata": {},
     "output_type": "execute_result"
    },
    {
     "data": {
      "text/plain": [
       "Text(0.5, 0, 'wavelength [$\\\\mu$m]')"
      ]
     },
     "execution_count": 26,
     "metadata": {},
     "output_type": "execute_result"
    },
    {
     "data": {
      "text/plain": [
       "Text(0, 0.5, '$\\\\nu I_\\\\nu$ [nW/m2/sr]')"
      ]
     },
     "execution_count": 26,
     "metadata": {},
     "output_type": "execute_result"
    },
    {
     "data": {
      "image/png": "[encoded data removed]",
      "text/plain": [
       "<Figure size 432x288 with 1 Axes>"
      ]
     },
     "metadata": {
      "needs_background": "light"
     },
     "output_type": "display_data"
    }
   ],
   "source": [
    "wl = np.logspace(np.log10(0.3), np.log10(100), 100)   \n",
    "plt.plot(wl, nuInu_ZL(wl))\n",
    "plt.xscale('log')\n",
    "plt.yscale('log')\n",
    "plt.xlabel('wavelength [$\\mu$m]')\n",
    "plt.ylabel(r'$\\nu I_\\nu$ [nW/m2/sr]')"
   ]
  },
  {
   "cell_type": "code",
   "execution_count": 27,
   "id": "average-struggle",
   "metadata": {
    "id": "average-struggle"
   },
   "outputs": [],
   "source": [
    "# Sky background rate\n",
    "# nuInu_sky = surface brightness  [nW/m2/sr]\n",
    "# I_photo = photo-current rate    [e/s]\n",
    "# Q_photo = total counts          [e]\n",
    "\n",
    "nuInu_sky = nuInu_ZL(lambda_mid)   # [nW/m2/sr]\n",
    "I_photo = 1e-9 * nuInu_sky*AOmega*eff_opt*eff_fpa/(R*h*c_ums/lambda_mid)  # [e/s]\n",
    "\n",
    "# Noise in count per obs [e]. \n",
    "# f_margin = 1.2 due to background estimation\n",
    "Q_photo = (I_photo+I_dark)*Tint\n",
    "dQ_photo = np.sqrt( 1.2*(I_photo+I_dark)*Tint )\n",
    "\n",
    "# Noise in count rate [e/s]\n",
    "dI_photo = np.sqrt(dQ_photo**2 + dQ_RN_sh**2)/Tint\n",
    "\n",
    "# Noise in nuInu [nW/M2/sr]\n",
    "dnuInu_sh = (dI_photo/I_photo)*nuInu_sky"
   ]
  },
  {
   "cell_type": "code",
   "execution_count": 29,
   "id": "silent-performer",
   "metadata": {
    "id": "silent-performer"
   },
   "outputs": [
    {
     "name": "stdout",
     "output_type": "stream",
     "text": [
      "wavelength_mid =        4.709 um\n",
      "nuInu_sky      =    240.67776 nW/m2/sr\n",
      "I_photo        =      0.58977 e-/s\n",
      "dI_photo       =       0.0713 e-/s\n",
      "Q_photo        =       91.968 e-\n",
      "dQ_photo       =       10.505 e-\n",
      "dnuInu_sky     =       29.097 nW/m2/sr\n"
     ]
    }
   ],
   "source": [
    "print(f\"wavelength_mid = {lambda_mid:12.3f} um\")\n",
    "print(f\"nuInu_sky      = {nuInu_sky:12.5f} nW/m2/sr\")\n",
    "print(f\"I_photo        = {I_photo:12.5g} e-/s\")\n",
    "print(f\"dI_photo       = {dI_photo:12.5g} e-/s\")\n",
    "print(f\"Q_photo        = {Q_photo:12.5g} e-\")\n",
    "print(f\"dQ_photo       = {dQ_photo:12.5g} e-\")\n",
    "print(f\"dnuInu_sky     = {dnuInu_sh:12.5g} nW/m2/sr\")"
   ]
  },
  {
   "cell_type": "markdown",
   "id": "interested-circuit",
   "metadata": {
    "id": "interested-circuit"
   },
   "source": [
    "### Thermal background from telescope & FPA\n",
    "- $\\nu I_\\nu$ from the instrument [nW/m2/sr]\n",
    "- Blackbody radiation \n",
    " $$ \\nu I_\\nu = \n",
    "    \\dfrac{2h}{c^2}  \\left(\\dfrac{c}{\\lambda}\\right)^4 \n",
    "    \\dfrac{1}{\\exp{\\left(\\dfrac{h c}{k T \\lambda}\\right)} - 1} $$"
   ]
  },
  {
   "cell_type": "code",
   "execution_count": 30,
   "id": "virgin-apparel",
   "metadata": {
    "id": "virgin-apparel"
   },
   "outputs": [],
   "source": [
    "# Surface brightness in (nu Inu) [nW/m2/sr]\n",
    "# T_scope = 120\n",
    "# T_FPA   = 120\n",
    "\n",
    "# Telescope\n",
    "hc_kTlambda = h * (c_ums/lambda_max) / (k*T_scope)\n",
    "nuInu_scope = (2*h/c**2) * (c_ums / lambda_max)**4 / (np.exp(hc_kTlambda) - 1) / 1e-9\n",
    "\n",
    "# FPA\n",
    "hc_kTlambda = h * (c_ums/lambda_max) / (k*T_FPA)\n",
    "nuInu_FPA   = (2*h/c**2) * (c_ums / lambda_max)**4 / (np.exp(hc_kTlambda) - 1) / 1e-9"
   ]
  },
  {
   "cell_type": "code",
   "execution_count": 32,
   "id": "forbidden-tampa",
   "metadata": {
    "id": "forbidden-tampa"
   },
   "outputs": [],
   "source": [
    "# Iphoto\n",
    "\n",
    "# Count rates [e/s]\n",
    "I_scope = 1e-9 * nuInu_scope * pi*(pixel_size*1e-6)**2/R*eff_LVF*eff_fpa/(h*c_ums/lambda_max)\n",
    "I_FPA   = 1e-9 * nuInu_FPA   * pi*(pixel_size*1e-6)**2          *eff_fpa/(h*c_ums/lambda_max)"
   ]
  },
  {
   "cell_type": "code",
   "execution_count": 33,
   "id": "bacterial-pilot",
   "metadata": {
    "id": "bacterial-pilot"
   },
   "outputs": [
    {
     "name": "stdout",
     "output_type": "stream",
     "text": [
      "wavelength_max =        4.999 um\n",
      "nuInu(scope)   =    4.348e-02 nW/m2/sr\n",
      "nuInu(FPA)     =    1.789e-11 nW/m2/sr\n",
      "I(scope)       =    4.623e-03 e-/s\n",
      "I(FPA)         =    3.434e-10 e-/s\n"
     ]
    }
   ],
   "source": [
    "print(f\"wavelength_max = {lambda_max:12.3f} um\")\n",
    "print(f\"nuInu(scope)   = {nuInu_scope:12.3e} nW/m2/sr\")\n",
    "print(f\"nuInu(FPA)     = {nuInu_FPA:12.3e} nW/m2/sr\")\n",
    "print(f\"I(scope)       = {I_scope:12.3e} e-/s\")\n",
    "print(f\"I(FPA)         = {I_FPA:12.3e} e-/s\")"
   ]
  },
  {
   "cell_type": "markdown",
   "id": "administrative-cooler",
   "metadata": {
    "id": "administrative-cooler"
   },
   "source": [
    "## <span style='color:DarkSlateBlue'> 5. Sensitivity Estimates </span>"
   ]
  },
  {
   "cell_type": "code",
   "execution_count": 34,
   "id": "banner-mediterranean",
   "metadata": {
    "id": "banner-mediterranean"
   },
   "outputs": [
    {
     "data": {
      "text/plain": [
       "array([4.42      , 4.45413127, 4.48852611, 4.52318654, 4.55811462,\n",
       "       4.59331242, 4.62878202, 4.66452551, 4.70054501, 4.73684265,\n",
       "       4.77342059, 4.81028098, 4.84742601, 4.88485787, 4.92257878,\n",
       "       4.96059097])"
      ]
     },
     "execution_count": 34,
     "metadata": {},
     "output_type": "execute_result"
    }
   ],
   "source": [
    "i_steps = [1]\n",
    "\n",
    "# For all channels in this band\n",
    "i_steps = np.arange(16,dtype=float)\n",
    "\n",
    "lambda_i = lambda_min * (((2*R+1)/(2*R-1))**i_steps)\n",
    "lambda_i\n",
    "\n",
    "# Only for one wavelength\n",
    "# lambda_i = np.array([lambda_mid])\n",
    "\n",
    "# Sky\n",
    "nuInu_sky = nuInu_ZL(lambda_i)\n",
    "I_photo = 1e-9 * nuInu_sky*AOmega*eff_opt*eff_fpa/(R*h*c_ums/lambda_i)\n",
    "\n",
    "# Instrument\n",
    "I_photo = I_photo + I_scope + I_FPA"
   ]
  },
  {
   "cell_type": "markdown",
   "id": "later-egypt",
   "metadata": {
    "id": "later-egypt"
   },
   "source": [
    "### Extended sources: SB limit"
   ]
  },
  {
   "cell_type": "code",
   "execution_count": 37,
   "id": "focal-testimony",
   "metadata": {
    "id": "focal-testimony"
   },
   "outputs": [
    {
     "data": {
      "text/plain": [
       "array([12.68081492, 12.87419644, 13.0750879 , 13.28332659, 13.49874207,\n",
       "       13.72115708, 13.95038828, 14.18624702, 14.42854007, 14.67707029,\n",
       "       14.93163716, 15.19203743, 15.45806552, 15.72951404, 16.00617418,\n",
       "       16.28783603])"
      ]
     },
     "execution_count": 37,
     "metadata": {},
     "output_type": "execute_result"
    }
   ],
   "source": [
    "# SB noise per pixel: dnuInu [nW/m2/sr] (1sigma)\n",
    "dQ_photo = sqrt( 1.2*(I_photo+I_dark)*Tint )\n",
    "dI_photo = sqrt(dQ_photo**2 + dQ_RN_sh**2) / Tint\n",
    "dnuInu_obs = (dI_photo/I_photo)*(nuInu_sky + nuInu_scope + nuInu_FPA)\n",
    "\n",
    "# Final noise is for the entire mission\n",
    "# - Sh_Redun = 2  # obs per year\n",
    "# - T_mission = 2 # year\n",
    "dnuInu_sh = dnuInu_obs / sqrt(Sh_Redun) / sqrt(T_mission)\n",
    "dnuInu_sh"
   ]
  },
  {
   "cell_type": "markdown",
   "id": "meaning-memorial",
   "metadata": {
    "id": "meaning-memorial"
   },
   "source": [
    "### Point sources: flux limit"
   ]
  },
  {
   "cell_type": "code",
   "execution_count": 39,
   "id": "strange-celtic",
   "metadata": {
    "id": "strange-celtic"
   },
   "outputs": [],
   "source": [
    "# Flux for point sources: dFnu [uJy] (1sigma)\n",
    "\n",
    "# FWHM of PSF\n",
    "wl = lambda_i\n",
    "\n",
    "FWHM_diffraction = 1.22*wl/(D*1e4) * rad2arcsec\n",
    "FWHM_wfe = FWHM_diffraction * sqrt(exp((2*pi*WFE/wl)**2))\n",
    "FWHM_jitter = rms_pointing * 2.35 * np.ones_like(wl)\n",
    "FWHM = sqrt(FWHM_wfe**2 + FWHM_jitter**2)\n",
    "\n",
    "# N(pixels) for a point-source\n",
    "Npix_ptsrc = pi*(FWHM/theta_pixel)**2\n",
    "\n",
    "# Conversion to flux density & AB magnitude\n",
    "# CHECK!\n",
    "dFnu_sh = sqrt(Npix_ptsrc) * 1e26 * 1e6 * pixel_sr * (dnuInu_sh*1e-9) * (lambda_i/c_ums)\n",
    "mag5sig_sh = -2.5*log10(5*dFnu_sh*1e-6/3631)"
   ]
  },
  {
   "cell_type": "code",
   "execution_count": 75,
   "id": "4fa50acd",
   "metadata": {},
   "outputs": [
    {
     "data": {
      "text/plain": [
       "array([12.68081492, 12.87419644, 13.0750879 , 13.28332659, 13.49874207,\n",
       "       13.72115708, 13.95038828, 14.18624702, 14.42854007, 14.67707029,\n",
       "       14.93163716, 15.19203743, 15.45806552, 15.72951404, 16.00617418,\n",
       "       16.28783603])"
      ]
     },
     "execution_count": 75,
     "metadata": {},
     "output_type": "execute_result"
    }
   ],
   "source": [
    "dnuInu_sh"
   ]
  },
  {
   "cell_type": "code",
   "execution_count": 41,
   "id": "steady-jerusalem",
   "metadata": {
    "id": "steady-jerusalem",
    "scrolled": false
   },
   "outputs": [],
   "source": [
    "if len(lambda_i) == 1:\n",
    "    print(\"lambda_i      = \", lambda_i)\n",
    "    print(\"nuInu_sky     = \", nuInu_sky)\n",
    "    print(\"I_photo       = \", I_photo)\n",
    "    print(\"FWHM          = \", FWHM)\n",
    "    print(\"Npix(ptsrc)   = \", Npix_ptsrc)\n",
    "    print()\n",
    "    print(\"dnuInu_sh     = \", dnuInu_sh)\n",
    "    print(\"dFnu_sh       = \", dFnu_sh)\n",
    "    print(\"mag5sig_sh    = \", mag5sig_sh)"
   ]
  },
  {
   "cell_type": "code",
   "execution_count": 42,
   "id": "located-vinyl",
   "metadata": {
    "id": "located-vinyl",
    "scrolled": true
   },
   "outputs": [
    {
     "data": {
      "text/html": [
       "<div><i>QTable length=16</i>\n",
       "<table id=\"table140600521646032\" class=\"table-striped table-bordered table-condensed\">\n",
       "<thead><tr><th>band</th><th>wavelength</th><th>nuInu_sky</th><th>I_photo_sky</th><th>dnuInu_sh</th><th>dFnu_sh</th><th>mag5sig_sh</th></tr></thead>\n",
       "<thead><tr><th></th><th>um</th><th>nW / (m2 sr)</th><th>electron / s</th><th>nW / (m2 sr)</th><th>uJy</th><th>mag</th></tr></thead>\n",
       "<thead><tr><th>int16</th><th>float64</th><th>float64</th><th>float64</th><th>float64</th><th>float64</th><th>float64</th></tr></thead>\n",
       "<tr><td>6</td><td>4.42</td><td>165.5</td><td>0.3853</td><td>12.68</td><td>30.69</td><td>18.43</td></tr>\n",
       "<tr><td>6</td><td>4.454</td><td>173</td><td>0.4055</td><td>12.87</td><td>31.59</td><td>18.4</td></tr>\n",
       "<tr><td>6</td><td>4.489</td><td>180.9</td><td>0.427</td><td>13.08</td><td>32.52</td><td>18.37</td></tr>\n",
       "<tr><td>6</td><td>4.523</td><td>189.2</td><td>0.4499</td><td>13.28</td><td>33.49</td><td>18.34</td></tr>\n",
       "<tr><td>6</td><td>4.558</td><td>198</td><td>0.4742</td><td>13.5</td><td>34.49</td><td>18.31</td></tr>\n",
       "<tr><td>6</td><td>4.593</td><td>207.2</td><td>0.4999</td><td>13.72</td><td>35.54</td><td>18.28</td></tr>\n",
       "<tr><td>...</td><td>...</td><td>...</td><td>...</td><td>...</td><td>...</td><td>...</td></tr>\n",
       "<tr><td>6</td><td>4.773</td><td>261</td><td>0.653</td><td>14.93</td><td>41.41</td><td>18.11</td></tr>\n",
       "<tr><td>6</td><td>4.81</td><td>273.4</td><td>0.689</td><td>15.19</td><td>42.72</td><td>18.08</td></tr>\n",
       "<tr><td>6</td><td>4.847</td><td>286.4</td><td>0.7269</td><td>15.46</td><td>44.07</td><td>18.04</td></tr>\n",
       "<tr><td>6</td><td>4.885</td><td>299.9</td><td>0.7669</td><td>15.73</td><td>45.46</td><td>18.01</td></tr>\n",
       "<tr><td>6</td><td>4.923</td><td>314</td><td>0.8089</td><td>16.01</td><td>46.91</td><td>17.97</td></tr>\n",
       "<tr><td>6</td><td>4.961</td><td>328.8</td><td>0.8532</td><td>16.29</td><td>48.4</td><td>17.94</td></tr>\n",
       "</table></div>"
      ],
      "text/plain": [
       "<QTable length=16>\n",
       " band wavelength  nuInu_sky   I_photo_sky   dnuInu_sh   dFnu_sh mag5sig_sh\n",
       "          um     nW / (m2 sr) electron / s nW / (m2 sr)   uJy      mag    \n",
       "int16  float64     float64      float64      float64    float64  float64  \n",
       "----- ---------- ------------ ------------ ------------ ------- ----------\n",
       "    6       4.42        165.5       0.3853        12.68   30.69      18.43\n",
       "    6      4.454          173       0.4055        12.87   31.59       18.4\n",
       "    6      4.489        180.9        0.427        13.08   32.52      18.37\n",
       "    6      4.523        189.2       0.4499        13.28   33.49      18.34\n",
       "    6      4.558          198       0.4742         13.5   34.49      18.31\n",
       "    6      4.593        207.2       0.4999        13.72   35.54      18.28\n",
       "  ...        ...          ...          ...          ...     ...        ...\n",
       "    6      4.773          261        0.653        14.93   41.41      18.11\n",
       "    6       4.81        273.4        0.689        15.19   42.72      18.08\n",
       "    6      4.847        286.4       0.7269        15.46   44.07      18.04\n",
       "    6      4.885        299.9       0.7669        15.73   45.46      18.01\n",
       "    6      4.923          314       0.8089        16.01   46.91      17.97\n",
       "    6      4.961        328.8       0.8532        16.29    48.4      17.94"
      ]
     },
     "execution_count": 42,
     "metadata": {},
     "output_type": "execute_result"
    }
   ],
   "source": [
    "# Create Astropy table \n",
    "SB  = u.nW/(u.m)**2/u.sr\n",
    "cnt_rate = u.electron / u.s\n",
    "\n",
    "band = np.zeros_like(lambda_i, dtype='int16') + iband\n",
    "\n",
    "T_sens = (\n",
    "    QTable( [band, lambda_i, nuInu_sky, I_photo, dnuInu_sh, dFnu_sh, mag5sig_sh], \n",
    "             names=('band', 'wavelength', 'nuInu_sky', 'I_photo_sky', 'dnuInu_sh', 'dFnu_sh', 'mag5sig_sh'),\n",
    "             units=(None, u.um, SB, cnt_rate, SB, u.uJy, u.mag) )\n",
    ")\n",
    "\n",
    "# Tweak the print formatting\n",
    "for key in T_sens.colnames:\n",
    "    T_sens[key].info.format = '.4g'\n",
    "    \n",
    "T_sens"
   ]
  },
  {
   "cell_type": "code",
   "execution_count": 43,
   "id": "650d258a",
   "metadata": {},
   "outputs": [
    {
     "data": {
      "image/png": "[encoded data removed]",
      "text/plain": [
       "<Figure size 432x288 with 1 Axes>"
      ]
     },
     "metadata": {
      "needs_background": "light"
     },
     "output_type": "display_data"
    }
   ],
   "source": [
    "_ = plt.plot(T_sens['wavelength'], T_sens['I_photo_sky'], 'o-')\n",
    "_ = plt.xlabel('wavelength [$\\mu$m]')\n",
    "_ = plt.ylabel('Flux limit [AB mag]')\n",
    "_ = plt.title('Point Source Sensitivity (5$\\sigma$)')\n",
    "_ = plt.gca().invert_yaxis()"
   ]
  },
  {
   "cell_type": "code",
   "execution_count": 44,
   "id": "affiliated-mounting",
   "metadata": {
    "id": "affiliated-mounting"
   },
   "outputs": [
    {
     "data": {
      "image/png": "[encoded data removed]",
      "text/plain": [
       "<Figure size 432x288 with 1 Axes>"
      ]
     },
     "metadata": {
      "needs_background": "light"
     },
     "output_type": "display_data"
    }
   ],
   "source": [
    "_ = plt.plot(T_sens['wavelength'], T_sens['mag5sig_sh'], 'o-')\n",
    "_ = plt.xlabel('wavelength [$\\mu$m]')\n",
    "_ = plt.ylabel('Flux limit [AB mag]')\n",
    "_ = plt.title('Point Source Sensitivity (5$\\sigma$)')\n",
    "_ = plt.gca().invert_yaxis()"
   ]
  },
  {
   "cell_type": "code",
   "execution_count": 45,
   "id": "robust-application",
   "metadata": {
    "id": "robust-application"
   },
   "outputs": [
    {
     "data": {
      "image/png": "[encoded data removed]",
      "text/plain": [
       "<Figure size 432x288 with 1 Axes>"
      ]
     },
     "metadata": {
      "needs_background": "light"
     },
     "output_type": "display_data"
    }
   ],
   "source": [
    "_ = plt.plot(T_sens['wavelength'], T_sens['dFnu_sh'], 'o-')\n",
    "_ = plt.xlabel('wavelength [$\\mu$m]')\n",
    "_ = plt.ylabel('Flux limit [$\\mu$Jy]')\n",
    "_ = plt.title('Point Source Sensitivity (5$\\sigma$)')"
   ]
  },
  {
   "cell_type": "code",
   "execution_count": 46,
   "id": "persistent-marble",
   "metadata": {
    "id": "persistent-marble"
   },
   "outputs": [
    {
     "data": {
      "image/png": "[encoded data removed]",
      "text/plain": [
       "<Figure size 432x288 with 1 Axes>"
      ]
     },
     "metadata": {
      "needs_background": "light"
     },
     "output_type": "display_data"
    }
   ],
   "source": [
    "_ = plt.plot(T_sens['wavelength'], T_sens['dnuInu_sh'], 'o-')\n",
    "_ = plt.xlabel('wavelength [$\\mu$m]')\n",
    "_ = plt.ylabel('Surface brightness limit [$nW/m^2/sr$]')\n",
    "_ = plt.title('Surface brightness Sensitivity per pixel (5$\\sigma$)')"
   ]
  },
  {
   "cell_type": "code",
   "execution_count": 47,
   "id": "essential-radar",
   "metadata": {
    "id": "essential-radar",
    "scrolled": true
   },
   "outputs": [
    {
     "data": {
      "image/png": "[encoded data removed]",
      "text/plain": [
       "<Figure size 432x288 with 1 Axes>"
      ]
     },
     "metadata": {
      "needs_background": "light"
     },
     "output_type": "display_data"
    }
   ],
   "source": [
    "# In terms of CGS unit\n",
    "# nW/m2/sr = 2.35e-17 erg/s/cm2/arcsec2\n",
    "SB_cgs = T_sens['dnuInu_sh'] * 1e-9 * 1e7 / 1e4 / rad2arcsec**2\n",
    "\n",
    "_ = plt.plot(T_sens['wavelength'], SB_cgs, 'o-')\n",
    "_ = plt.xlabel('wavelength [$\\mu$m]')\n",
    "\n",
    "\n",
    "_ = plt.ylabel('SB limit [$erg/s/cm^2/arcsec^2$]')\n",
    "_ = plt.title('SB Sensitivity per pixel (5$\\sigma$)')"
   ]
  },
  {
   "cell_type": "code",
   "execution_count": null,
   "id": "69282f0e",
   "metadata": {},
   "outputs": [],
   "source": []
  },
  {
   "cell_type": "code",
   "execution_count": null,
   "id": "fa41e0ba",
   "metadata": {},
   "outputs": [],
   "source": []
  },
  {
   "cell_type": "code",
   "execution_count": 48,
   "id": "c63e56f3",
   "metadata": {},
   "outputs": [
    {
     "data": {
      "text/latex": [
       "$[4.42,~4.4541313,~4.4885261,~4.5231865,~4.5581146,~4.5933124,~4.628782,~4.6645255,~4.700545,~4.7368427,~4.7734206,~4.810281,~4.847426,~4.8848579,~4.9225788,~4.960591] \\; \\mathrm{\\mu m}$"
      ],
      "text/plain": [
       "<Quantity [4.42      , 4.45413127, 4.48852611, 4.52318654, 4.55811462,\n",
       "           4.59331242, 4.62878202, 4.66452551, 4.70054501, 4.73684265,\n",
       "           4.77342059, 4.81028098, 4.84742601, 4.88485787, 4.92257878,\n",
       "           4.96059097] um>"
      ]
     },
     "execution_count": 48,
     "metadata": {},
     "output_type": "execute_result"
    },
    {
     "data": {
      "text/latex": [
       "$[18.434995,~18.403893,~18.372387,~18.340512,~18.308301,~18.275788,~18.243006,~18.209985,~18.176757,~18.14335,~18.109791,~18.076109,~18.042327,~18.00847,~17.97456,~17.940619] \\; \\mathrm{mag}$"
      ],
      "text/plain": [
       "<Quantity [18.43499467, 18.40389284, 18.37238691, 18.34051158, 18.30830091,\n",
       "           18.27578822, 18.24300593, 18.20998542, 18.17675698, 18.14334969,\n",
       "           18.1097914 , 18.07610868, 18.0423268 , 18.00846971, 17.97456007,\n",
       "           17.94061926] mag>"
      ]
     },
     "execution_count": 48,
     "metadata": {},
     "output_type": "execute_result"
    }
   ],
   "source": [
    "T_sens['wavelength']\n",
    "T_sens['mag5sig_sh']"
   ]
  },
  {
   "cell_type": "code",
   "execution_count": 52,
   "id": "66cebfaf",
   "metadata": {},
   "outputs": [],
   "source": [
    "wl = [0.75, 0.76851852, 0.78749428, 0.80693859, 0.826863, 0.84727937, 0.86819985, 0.88963688, 0.91160322, 0.93411194, 0.95717644, 0.98081042, 1.005028, 1.0298435, 1.0552717, 1.0813278,1.11, 1.1374074, 1.1654915, 1.1942691, 1.2237572, 1.2539735, 1.2849358, 1.3166626, 1.3491728, 1.3824857, 1.4166211, 1.4515994, 1.4874414, 1.5241683, 1.5618021, 1.6003651, 1.64, 1.6804938, 1.7219875, 1.7645057, 1.8080738, 1.8527176, 1.8984637, 1.9453393, 1.9933724, 2.0425914, 2.0930258, 2.1447055, 2.1976611, 2.2519244, 2.3075275, 2.3645034, 2.42, 2.4901449, 2.562323, 2.6365933, 2.7130163, 2.7916544, 2.8725719, 2.9558349, 3.0415113, 3.129671, 3.2203861, 3.3137306, 3.4097808, 3.508615, 3.610314, 3.7149608,3.82, 3.8548858, 3.8900903, 3.9256162, 3.9614666, 3.9976444, 4.0341525, 4.0709941, 4.1081721, 4.1456897, 4.1835499, 4.2217558, 4.2603107, 4.2992176, 4.3384799, 4.3781007,  4.42, 4.4541313, 4.4885261, 4.5231865, 4.5581146, 4.5933124, 4.628782, 4.6645255, 4.700545, 4.7368427, 4.7734206, 4.810281, 4.847426, 4.8848579, 4.9225788, 4.960591]"
   ]
  },
  {
   "cell_type": "code",
   "execution_count": 53,
   "id": "5e720e52",
   "metadata": {},
   "outputs": [],
   "source": [
    "mag5 = [19.204812, 19.272993, 19.336165, 19.394606, 19.448596, 19.498412, 19.544328, 19.586612, 19.625525, 19.66132, 19.694239, 19.724511, 19.752356, 19.777979, 19.801569, 19.823305,19.844751, 19.863149, 19.880154, 19.89589, 19.910469, 19.923994, 19.936555, 19.948234, 19.959106, 19.969236, 19.978683, 19.987497, 19.995726, 20.003409, 20.010583, 20.017279, 19.967577, 19.973352, 19.978718, 19.983696, 19.9883, 19.992546, 19.996443, 20.000004, 20.003236, 20.006146, 20.008742, 20.011027, 20.013004, 20.014674, 20.016035, 20.017083, 20.096845, 20.097423, 20.097497, 20.096993, 20.095799, 20.093741, 20.090561, 20.085884, 20.079175, 20.069702, 20.056487, 20.03828, 20.01357, 19.98065, 19.937773, 19.883389, 19.05464, 19.033257, 19.010675, 18.986895, 18.961921, 18.935767, 18.908452, 18.880005, 18.850459, 18.819854, 18.788235, 18.755651, 18.722156, 18.687807, 18.652661, 18.616779, 18.434995, 18.403893, 18.372387, 18.340512, 18.308301, 18.275788, 18.243006, 18.209985, 18.176757, 18.14335, 18.109791, 18.076109, 18.042327, 18.00847, 17.97456, 17.940619]"
   ]
  },
  {
   "cell_type": "code",
   "execution_count": 55,
   "id": "a7656e57",
   "metadata": {},
   "outputs": [
    {
     "data": {
      "text/plain": [
       "153.33829938945016"
      ]
     },
     "execution_count": 55,
     "metadata": {},
     "output_type": "execute_result"
    },
    {
     "data": {
      "text/plain": [
       "<matplotlib.collections.PathCollection at 0x7fe038764c50>"
      ]
     },
     "execution_count": 55,
     "metadata": {},
     "output_type": "execute_result"
    },
    {
     "data": {
      "image/png": "[encoded data removed]",
      "text/plain": [
       "<Figure size 432x288 with 1 Axes>"
      ]
     },
     "metadata": {
      "needs_background": "light"
     },
     "output_type": "display_data"
    }
   ],
   "source": [
    "Tint\n",
    "plt.scatter(wl, mag5)"
   ]
  },
  {
   "cell_type": "markdown",
   "id": "binding-halifax",
   "metadata": {
    "id": "binding-halifax"
   },
   "source": [
    "# <span style='color:DarkSlateBlue'> Exercises </span>"
   ]
  },
  {
   "cell_type": "code",
   "execution_count": 62,
   "id": "9530956d",
   "metadata": {},
   "outputs": [
    {
     "data": {
      "text/plain": [
       "3.4343692055707433e-10"
      ]
     },
     "execution_count": 62,
     "metadata": {},
     "output_type": "execute_result"
    }
   ],
   "source": [
    "I_FPA"
   ]
  },
  {
   "cell_type": "markdown",
   "id": "interesting-whole",
   "metadata": {
    "id": "interesting-whole"
   },
   "source": [
    "## 3.1 Assume that SPHEREx is broken and can be cooled down only 200K instead of 50-80K. What would happen to the sensitivity?\n",
    "\n",
    "## 3.2 (Advanced) Based on this notebook, re-produce the full prediction for SPHEREx All-sky and deep field sensitiviey plot.\n",
    "\n",
    "## 3.3 (Advanced) Design a new space mission following mission goals\n",
    "- **Goal**: We want to detect Ly$\\alpha$ emission from first galaxies at z=10-20 (if exist) using similar LVF mapping technology. \n",
    "- Basic specification\n",
    "    - wavelength range = 1 - 2$\\mu$m\n",
    "    - R = 100\n",
    "    - survey area = 1000 deg$^2$\n",
    "    - point-source sensitivity = 0.5e-17 erg/s/cm$^2$\n",
    "    - pixel scale = 0.25 arcsec/pixel\n",
    "\n",
    "## 3.4 (Advanced) Estimate sensitivity assuming that SPHEREx is a ground-based telescope."
   ]
  }
 ],
 "metadata": {
  "colab": {
   "name": "3_SPHEREx_Sensitivity.ipynb",
   "provenance": []
  },
  "kernelspec": {
   "display_name": "Python 3 (ipykernel)",
   "language": "python",
   "name": "python3"
  },
  "language_info": {
   "codemirror_mode": {
    "name": "ipython",
    "version": 3
   },
   "file_extension": ".py",
   "mimetype": "text/x-python",
   "name": "python",
   "nbconvert_exporter": "python",
   "pygments_lexer": "ipython3",
   "version": "3.7.13"
  }
 },
 "nbformat": 4,
 "nbformat_minor": 5
}
