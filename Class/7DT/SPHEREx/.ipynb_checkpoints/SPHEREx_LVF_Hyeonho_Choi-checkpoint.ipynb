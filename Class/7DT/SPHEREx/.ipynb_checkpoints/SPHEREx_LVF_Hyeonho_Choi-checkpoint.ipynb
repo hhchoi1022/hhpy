{
 "cells": [
  {
   "cell_type": "markdown",
   "id": "1737ea1c",
   "metadata": {},
   "source": [
    "# <span style='color:DarkSlateBlue'> Exercises </span>\n"
   ]
  },
  {
   "cell_type": "markdown",
   "id": "1c14e0e7",
   "metadata": {},
   "source": [
    "## Exercise 1.1\n",
    "- How many resolution elements (channels) do we need to cover from 0.75um to 5.0um with a constant R = 40?\n",
    "- How many LVFs are required if each LVF can house 15 channels?"
   ]
  },
  {
   "cell_type": "code",
   "execution_count": 1,
   "id": "f3c6cf57",
   "metadata": {},
   "outputs": [],
   "source": [
    "import matplotlib.pyplot as plt"
   ]
  },
  {
   "cell_type": "code",
   "execution_count": 2,
   "id": "535097c6",
   "metadata": {},
   "outputs": [],
   "source": [
    "lmin = 0.75\n",
    "lmax = 5\n",
    "R = 40\n",
    "Nchan = 1\n",
    "lcen = lmin\n",
    "lcenlist = []"
   ]
  },
  {
   "cell_type": "code",
   "execution_count": 3,
   "id": "0c9731d3",
   "metadata": {},
   "outputs": [],
   "source": [
    "lcen = lmin\n",
    "while lcen<lmax:\n",
    "    lcen = lmin * ((2*R + 1)/(2*R - 1))**Nchan\n",
    "    Nchan += 1\n",
    "    lcenlist.append(lcen)\n",
    "Nchan -= 1\n",
    "lcenlist = lcenlist[:-1]"
   ]
  },
  {
   "cell_type": "code",
   "execution_count": 4,
   "id": "f6c3fc63",
   "metadata": {},
   "outputs": [
    {
     "data": {
      "text/plain": [
       "76"
      ]
     },
     "execution_count": 4,
     "metadata": {},
     "output_type": "execute_result"
    }
   ],
   "source": [
    "Nchan"
   ]
  },
  {
   "cell_type": "code",
   "execution_count": 5,
   "id": "6515f14a",
   "metadata": {},
   "outputs": [
    {
     "data": {
      "text/plain": [
       "5.066666666666666"
      ]
     },
     "execution_count": 5,
     "metadata": {},
     "output_type": "execute_result"
    }
   ],
   "source": [
    "76/15"
   ]
  },
  {
   "cell_type": "markdown",
   "id": "994f6bf7",
   "metadata": {},
   "source": [
    "### -  76 channels are needed. At least 6 LVFs are needed for this coverage"
   ]
  },
  {
   "cell_type": "markdown",
   "id": "816b2e2f",
   "metadata": {},
   "source": [
    "## Exercise 1.2\n",
    "- For a given lmin = 1.0, lmax = 2.0, R = 100, how many independent channels can this LVF have?"
   ]
  },
  {
   "cell_type": "code",
   "execution_count": 6,
   "id": "89212746",
   "metadata": {},
   "outputs": [],
   "source": [
    "lmin = 1\n",
    "lmax = 2\n",
    "R = 100\n",
    "lcen = lmin\n",
    "lcenlist = []\n",
    "Nchan = 1"
   ]
  },
  {
   "cell_type": "code",
   "execution_count": 7,
   "id": "0f87eea6",
   "metadata": {},
   "outputs": [],
   "source": [
    "lcen = lmin\n",
    "while lcen<lmax:\n",
    "    lcen = lmin * ((2*R + 1)/(2*R - 1))**Nchan\n",
    "    Nchan += 1\n",
    "    lcenlist.append(lcen)\n",
    "Nchan -= 1\n",
    "lcenlist = lcenlist[:-1]"
   ]
  },
  {
   "cell_type": "code",
   "execution_count": 8,
   "id": "4a824eb7",
   "metadata": {},
   "outputs": [
    {
     "data": {
      "text/plain": [
       "70"
      ]
     },
     "execution_count": 8,
     "metadata": {},
     "output_type": "execute_result"
    }
   ],
   "source": [
    "Nchan"
   ]
  },
  {
   "cell_type": "markdown",
   "id": "8edfe90a",
   "metadata": {},
   "source": [
    "### - The LVF can have 70 Channels "
   ]
  },
  {
   "cell_type": "markdown",
   "id": "b3c82384",
   "metadata": {},
   "source": [
    "## Exercise 1.3\n",
    "- How many pointings does it take to cover the all sky?\n",
    "- Assume a FOV = 3.5 degree ^2\n"
   ]
  },
  {
   "cell_type": "code",
   "execution_count": 1,
   "id": "98e200d2",
   "metadata": {},
   "outputs": [],
   "source": [
    "from astropy import units as u\n",
    "import numpy as np"
   ]
  },
  {
   "cell_type": "code",
   "execution_count": 2,
   "id": "bf307840",
   "metadata": {},
   "outputs": [],
   "source": [
    "tot_strad = 4*np.pi*(u.rad.to('deg'))**2"
   ]
  },
  {
   "cell_type": "code",
   "execution_count": 11,
   "id": "3d53e565",
   "metadata": {},
   "outputs": [],
   "source": [
    "fov = 3.5"
   ]
  },
  {
   "cell_type": "code",
   "execution_count": 12,
   "id": "89afd12f",
   "metadata": {
    "scrolled": true
   },
   "outputs": [
    {
     "name": "stdout",
     "output_type": "stream",
     "text": [
      "11786.560356976936\n"
     ]
    }
   ],
   "source": [
    "print(tot_strad/fov)"
   ]
  },
  {
   "cell_type": "markdown",
   "id": "1c11aacf",
   "metadata": {},
   "source": [
    "### - 11787 pointings are required"
   ]
  },
  {
   "cell_type": "markdown",
   "id": "5136136c",
   "metadata": {},
   "source": [
    "## Excercise 1.4 (SPHEREx) - advanced\n",
    "- Repeat the above analysis for the current SPHEREx LVF design. Build the six SPHEREx LVF wavelength maps. You can ignore the `smiles`."
   ]
  },
  {
   "cell_type": "code",
   "execution_count": 13,
   "id": "5ca77af1",
   "metadata": {},
   "outputs": [],
   "source": [
    "def get_ichan(ypix, Nchan, nx = 1024, ny =2048):\n",
    "    ichan = (ypix / ny)*Nchan -0.5\n",
    "    return ichan"
   ]
  },
  {
   "cell_type": "code",
   "execution_count": 14,
   "id": "4a4147e4",
   "metadata": {},
   "outputs": [],
   "source": [
    "lcen = lmin\n",
    "Nchan = 1\n",
    "lcenlist = []\n",
    "nx, ny = 1024, 2048\n",
    "lminlist = [0.75, 1.11, 1.64, 2.42, 3.68, 4.45]\n",
    "lmaxlist = [1.11, 1.64, 2.42, 3.68, 4.45, 5.01]\n",
    "Rlist = [41, 41, 41, 38, 85, 135]\n",
    "colorlist = ['Purples', 'Blues', 'Greens', 'Oranges', 'YlOrBr', 'Reds']\n",
    "wavelist = []\n",
    "lcenlistlist = []\n"
   ]
  },
  {
   "cell_type": "code",
   "execution_count": 15,
   "id": "080615b8",
   "metadata": {},
   "outputs": [],
   "source": [
    "for lmin, lmax, R in zip(lminlist,lmaxlist,Rlist):\n",
    "    Nchan = 1\n",
    "    lcenlist = []\n",
    "    lcen = lmin\n",
    "    while lcen<lmax:\n",
    "        lcen = lmin * ((2*R + 1)/(2*R - 1))**Nchan\n",
    "        Nchan += 1\n",
    "    Nchan -= 1\n",
    "    ichan = np.arange(Nchan)\n",
    "    lcenlist = lmin * ((2*R + 1)/(2*R - 1))**ichan\n",
    "    ypix = ny/Nchan * (ichan+0.5)\n",
    "    xv = np.arange(nx)\n",
    "    yv = np.arange(ny)\n",
    "    xx, yy = np.meshgrid(xv, yv, indexing='xy')\n",
    "    wavemap = lmin * ( (2*R+1)/(2*R-1) )**get_ichan(yy, Nchan)\n",
    "    wavelist.append(wavemap)\n",
    "    lcenlistlist.append(lcenlist)\n",
    "    \n"
   ]
  },
  {
   "cell_type": "code",
   "execution_count": 16,
   "id": "5d0dc683",
   "metadata": {},
   "outputs": [
    {
     "data": {
      "image/png": "[encoded data removed]",
      "text/plain": [
       "<Figure size 1440x720 with 12 Axes>"
      ]
     },
     "metadata": {
      "needs_background": "light"
     },
     "output_type": "display_data"
    }
   ],
   "source": [
    "plt.figure(figsize = (20,10))\n",
    "for i in range(len(wavelist)):\n",
    "    wavemap = wavelist[i]\n",
    "    lcenlist = lcenlistlist[i]\n",
    "    color = colorlist[i]\n",
    "    \n",
    "    ax = plt.subplot(2,3,i+1)\n",
    "    ax.set_title(f'band{i+1}')\n",
    "    image = ax.imshow(wavemap, cmap = color, origin = 'lower')\n",
    "    plt.colorbar(image, ax=ax)\n",
    "    plt.contour(wavemap, lcenlist, colors='black', linewidths=0.5)\n",
    "\n",
    "plt.show()"
   ]
  },
  {
   "cell_type": "markdown",
   "id": "fe17914b",
   "metadata": {},
   "source": [
    "## Excercise 1.5 (Python)  - advanced\n",
    "- update get_lvf_trans() function to have a profile function also as an argument\n",
    "- `wl_lvf, tr_lvf = get_lvf_trans(x, y, profile='gaussian', band=1)`\n",
    "- In fact, the `tophat_trans` function is broken or is destined to fail in a certain regime. Can you find it?"
   ]
  },
  {
   "cell_type": "code",
   "execution_count": 17,
   "id": "dbfa85b0",
   "metadata": {},
   "outputs": [],
   "source": [
    "def tophat_trans(x, center=0, fwhm=1, smoothness=0.2):\n",
    "\n",
    "    from scipy.special import erf, erfc\n",
    "    \n",
    "    t_left  = erfc(+((2*(x-center)/fwhm)-1)/smoothness)/2 \n",
    "    t_right = erfc(-((2*(x-center)/fwhm)+1)/smoothness)/2\n",
    "    \n",
    "    return (t_left*t_right)"
   ]
  },
  {
   "cell_type": "code",
   "execution_count": 18,
   "id": "ac1b514a",
   "metadata": {},
   "outputs": [],
   "source": [
    "def get_lvf_trans(x, y, profile = 'gaussian', band=1):\n",
    "    # `band` not used at the moments\n",
    "\n",
    "    # Get R (hard-coded for now)\n",
    "    # TODO: R should be determined from the band\n",
    "    R = 40\n",
    "    lmin = 1.0\n",
    "    \n",
    "\n",
    "    # get the central wavelenth\n",
    "    wcen = lmin * ( (2*R+1)/(2*R-1) )**get_ichan(y, Nchan)\n",
    "    fwhm = wcen / R\n",
    "    \n",
    "    if profile == 'gaussian':\n",
    "        wl_lvf = np.linspace(wcen-fwhm*3, wcen+fwhm*3, 200)\n",
    "        prof = Gaussian1D(amplitude=1, mean=wcen, stddev=fwhm/2.35)\n",
    "        tr_lvf = prof(wl_lvf)\n",
    "    if profile == 'tophat':\n",
    "        wl_lvf = np.linspace(wcen-fwhm*3, wcen+fwhm*3, 200)\n",
    "        prof = tophat_trans(wl_lvf, center = wcen, fwhm = fwhm)\n",
    "        tr_lvf = prof\n",
    "    # wavelenth vector\n",
    "    \n",
    "    return wl_lvf, tr_lvf"
   ]
  },
  {
   "cell_type": "code",
   "execution_count": 19,
   "id": "8e1c9011",
   "metadata": {
    "scrolled": false
   },
   "outputs": [
    {
     "data": {
      "image/png": "[encoded data removed]",
      "text/plain": [
       "<Figure size 432x288 with 1 Axes>"
      ]
     },
     "metadata": {
      "needs_background": "light"
     },
     "output_type": "display_data"
    }
   ],
   "source": [
    "ypix = ny/Nchan * (ichan+0.5)\n",
    "for ypos in ypix:\n",
    "    xpos = 512\n",
    "    wl_lvf, tr_lvf = get_lvf_trans(xpos, ypos, profile = 'tophat')\n",
    "    plt.plot(wl_lvf, tr_lvf)\n",
    "plt.xlabel('wavelength [um]')\n",
    "plt.ylabel('transmission')\n",
    "plt.title(f'Transmission')\n",
    "plt.show()"
   ]
  },
  {
   "cell_type": "markdown",
   "id": "8101e927",
   "metadata": {},
   "source": [
    "## Excercise 1.6 (7DT/7DS)\n",
    "- Plot 7DT/7DS filter transmission curves\n",
    "  - 40 medium band filters: $\\Delta \\lambda$ = 200A, $\\lambda_{min}$ = 4,000, $\\lambda_{max}$ = 8,000\n",
    "- Re-design 7DS filter system so that the bandpass has a constant resolving power ($R$) instead"
   ]
  },
  {
   "cell_type": "code",
   "execution_count": 20,
   "id": "82bfbb18",
   "metadata": {},
   "outputs": [],
   "source": [
    "lmax = 8000\n",
    "lmin = 4000\n",
    "dellam = 200\n",
    "lcen = lmin\n",
    "lcenlist = []\n",
    "Nchan = 0"
   ]
  },
  {
   "cell_type": "code",
   "execution_count": 21,
   "id": "d38c7907",
   "metadata": {},
   "outputs": [],
   "source": [
    "R = (lmax + lmin)/2/dellam   # Resolving power is not specified, so assume R = l_mid/del_lambda"
   ]
  },
  {
   "cell_type": "code",
   "execution_count": 22,
   "id": "faad8cf0",
   "metadata": {},
   "outputs": [
    {
     "data": {
      "text/plain": [
       "30.0"
      ]
     },
     "execution_count": 22,
     "metadata": {},
     "output_type": "execute_result"
    }
   ],
   "source": [
    "R"
   ]
  },
  {
   "cell_type": "code",
   "execution_count": 23,
   "id": "7f661bb1",
   "metadata": {},
   "outputs": [],
   "source": [
    "lcen = lmin\n",
    "while lcen<lmax:\n",
    "    lcen = lmin * ((2*R + 1)/(2*R - 1))**(Nchan+0.5)\n",
    "    Nchan += 1\n",
    "    lcenlist.append(lcen)\n",
    "lcenlist = lcenlist[:-1]\n",
    "Nchan -= 1"
   ]
  },
  {
   "cell_type": "code",
   "execution_count": 24,
   "id": "63619a2d",
   "metadata": {},
   "outputs": [
    {
     "data": {
      "text/plain": [
       "[4067.23159917848,\n",
       " 4205.10385677775,\n",
       " 4347.649750227843,\n",
       " 4495.027707862684,\n",
       " 4647.401528468198,\n",
       " 4804.940563331526,\n",
       " 4967.819904461408,\n",
       " 5136.220579188914,\n",
       " 5310.329751364808,\n",
       " 5490.340929377174,\n",
       " 5676.454181220468,\n",
       " 5868.876356855059,\n",
       " 6067.821318104383,\n",
       " 6273.5101763452085,\n",
       " 6486.171538255216,\n",
       " 6706.041759890984,\n",
       " 6933.365209378814,\n",
       " 7168.394538510299,\n",
       " 7411.390963544545,\n",
       " 7662.624555529105,\n",
       " 7922.374540462295]"
      ]
     },
     "execution_count": 24,
     "metadata": {},
     "output_type": "execute_result"
    }
   ],
   "source": [
    "lcenlist"
   ]
  },
  {
   "cell_type": "code",
   "execution_count": 25,
   "id": "a9686b4c",
   "metadata": {},
   "outputs": [
    {
     "data": {
      "text/plain": [
       "21"
      ]
     },
     "execution_count": 25,
     "metadata": {},
     "output_type": "execute_result"
    }
   ],
   "source": [
    "Nchan"
   ]
  },
  {
   "cell_type": "markdown",
   "id": "f51b3ca8",
   "metadata": {},
   "source": [
    "## Excercise 1.7 (7DT/7DS)\n",
    "- Assume that we like to carry out the 7DS using LVF filters instead of 40 filters and 20 telescopes. How many spectral channels would be required if a single LVF will be used? Design this LVF wavelength map."
   ]
  },
  {
   "cell_type": "markdown",
   "id": "38d158c3",
   "metadata": {},
   "source": [
    "### We need 21 channals to carry out the 7DS from the previous "
   ]
  },
  {
   "cell_type": "code",
   "execution_count": 26,
   "id": "a6f5fb55",
   "metadata": {},
   "outputs": [],
   "source": [
    "def get_ichan(ypix, Nchan, nx = 1024, ny =2048):\n",
    "    ichan = (ypix / ny)*Nchan -0.5\n",
    "    return ichan"
   ]
  },
  {
   "cell_type": "code",
   "execution_count": 27,
   "id": "4676b5cb",
   "metadata": {},
   "outputs": [],
   "source": [
    "lcen = lmin\n",
    "Nchan = 1\n",
    "lcenlist = []\n",
    "nx, ny = 1024, 2048\n",
    "lminlist = [4000]\n",
    "lmaxlist = [8000]\n",
    "Rlist = [30]\n",
    "colorlist = ['Purples']\n",
    "wavelist = []\n",
    "lcenlistlist = []\n"
   ]
  },
  {
   "cell_type": "code",
   "execution_count": 28,
   "id": "d5f61306",
   "metadata": {},
   "outputs": [],
   "source": [
    "for lmin, lmax, R in zip(lminlist,lmaxlist,Rlist):\n",
    "    Nchan = 1\n",
    "    lcenlist = []\n",
    "    lcen = lmin\n",
    "    while lcen<lmax:\n",
    "        lcen = lmin * ((2*R + 1)/(2*R - 1))**Nchan\n",
    "        Nchan += 1\n",
    "    Nchan -= 1\n",
    "    ichan = np.arange(Nchan)\n",
    "    lcenlist = lmin * ((2*R + 1)/(2*R - 1))**ichan\n",
    "    ypix = ny/Nchan * (ichan+0.5)\n",
    "    xv = np.arange(nx)\n",
    "    yv = np.arange(ny)\n",
    "    xx, yy = np.meshgrid(xv, yv, indexing='xy')\n",
    "    wavemap = lmin * ( (2*R+1)/(2*R-1) )**get_ichan(yy, Nchan)\n",
    "    wavelist.append(wavemap)\n",
    "    lcenlistlist.append(lcenlist)\n",
    "    \n"
   ]
  },
  {
   "cell_type": "code",
   "execution_count": 29,
   "id": "daa34517",
   "metadata": {},
   "outputs": [
    {
     "data": {
      "text/plain": [
       "21"
      ]
     },
     "execution_count": 29,
     "metadata": {},
     "output_type": "execute_result"
    }
   ],
   "source": [
    "Nchan"
   ]
  },
  {
   "cell_type": "code",
   "execution_count": 30,
   "id": "ca604761",
   "metadata": {},
   "outputs": [
    {
     "data": {
      "image/png": "[encoded data removed]",
      "text/plain": [
       "<Figure size 1440x720 with 2 Axes>"
      ]
     },
     "metadata": {
      "needs_background": "light"
     },
     "output_type": "display_data"
    }
   ],
   "source": [
    "plt.figure(figsize = (20,10))\n",
    "for i in range(len(wavelist)):\n",
    "    wavemap = wavelist[i]\n",
    "    lcenlist = lcenlistlist[i]\n",
    "    color = colorlist[i]\n",
    "    \n",
    "    ax = plt.subplot(2,3,i+1)\n",
    "    ax.set_title(f'band{i+1}')\n",
    "    image = ax.imshow(wavemap, cmap = color, origin = 'lower')\n",
    "    plt.colorbar(image, ax=ax)\n",
    "    plt.contour(wavemap, lcenlist, colors='black', linewidths=0.5)\n",
    "\n",
    "plt.show()"
   ]
  }
 ],
 "metadata": {
  "kernelspec": {
   "display_name": "Python 3 (ipykernel)",
   "language": "python",
   "name": "python3"
  },
  "language_info": {
   "codemirror_mode": {
    "name": "ipython",
    "version": 3
   },
   "file_extension": ".py",
   "mimetype": "text/x-python",
   "name": "python",
   "nbconvert_exporter": "python",
   "pygments_lexer": "ipython3",
   "version": "3.9.12"
  }
 },
 "nbformat": 4,
 "nbformat_minor": 5
}
