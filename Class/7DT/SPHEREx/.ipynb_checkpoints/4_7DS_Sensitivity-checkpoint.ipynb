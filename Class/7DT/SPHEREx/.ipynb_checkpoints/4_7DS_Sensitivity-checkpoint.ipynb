{
 "cells": [
  {
   "cell_type": "markdown",
   "id": "6a2ab929",
   "metadata": {},
   "source": [
    "# 4_7DS_Sensitivity\n",
    "# Estimate 7DS sensitivity limits\n",
    "\n",
    "## Author\n",
    "- Yujin Yang (KASI SPHEREx Team)\n",
    "\n",
    "## Goal\n",
    "- Estimate 7DS survey depth\n",
    "- Understand how 7DS detection limits are determined\n",
    "- Build your own ETC for ground-based observation"
   ]
  },
  {
   "cell_type": "markdown",
   "id": "military-tuesday",
   "metadata": {},
   "source": [
    "<div class=\"alert alert-block alert-danger\">\n",
    "    <span style='font-size:18px'>\n",
    "    The numbers in this notebook is for approximation only! Consult the 7DS project scientist or manager!\n",
    "    </span>    \n",
    "</div>"
   ]
  },
  {
   "cell_type": "markdown",
   "id": "friendly-puppy",
   "metadata": {},
   "source": [
    "## <span style='color:DarkSlateBlue'> Setting for this notebook </span>"
   ]
  },
  {
   "cell_type": "code",
   "execution_count": null,
   "id": "fdd5caea",
   "metadata": {},
   "outputs": [],
   "source": [
    "from IPython.core.interactiveshell import InteractiveShell\n",
    "InteractiveShell.ast_node_interactivity = \"last_expr\""
   ]
  },
  {
   "cell_type": "code",
   "execution_count": null,
   "id": "3b35366d",
   "metadata": {},
   "outputs": [],
   "source": [
    "import os\n",
    "import numpy as np\n",
    "import matplotlib as mpl\n",
    "import matplotlib.pyplot as plt\n",
    "\n",
    "from numpy import sqrt, exp, log10, pi\n",
    "from scipy.integrate import trapezoid\n",
    "\n",
    "from astropy import units as u\n",
    "from astropy import constants as const\n",
    "from astropy.table import Table, QTable, join, vstack\n",
    "\n",
    "mpl.rcParams[\"axes.titlesize\"] = 13\n",
    "mpl.rcParams[\"axes.labelsize\"] = 15"
   ]
  },
  {
   "cell_type": "code",
   "execution_count": null,
   "id": "ffc9d811",
   "metadata": {},
   "outputs": [],
   "source": [
    "# Constants\n",
    "h = 6.626e-27 # erg/Hz\n",
    "c = 3e10      # cm/s \n",
    "\n",
    "rad2arcsec = (180/pi*3600) # 206265 arcsec\n",
    "arcsec2rad = 1/rad2arcsec"
   ]
  },
  {
   "cell_type": "markdown",
   "id": "b1e41d19",
   "metadata": {},
   "source": [
    "## <span style='color:DarkSlateBlue'> Helper functions </span>"
   ]
  },
  {
   "cell_type": "code",
   "execution_count": null,
   "id": "735659a7",
   "metadata": {},
   "outputs": [],
   "source": [
    "from spherex_helper import tophat_trans\n",
    "from spherex_helper import plot_SPHEREx_limit"
   ]
  },
  {
   "cell_type": "markdown",
   "id": "cadac2da",
   "metadata": {},
   "source": [
    "## <span style='color:DarkSlateBlue'> 1. 7DT/7DS Parameters - telescope, detectors, LVFs, efficiencies </span>"
   ]
  },
  {
   "cell_type": "markdown",
   "id": "controlled-habitat",
   "metadata": {},
   "source": [
    "### LVF / Filter Information"
   ]
  },
  {
   "cell_type": "code",
   "execution_count": null,
   "id": "a0bfcbb9",
   "metadata": {},
   "outputs": [],
   "source": [
    "plt.figure(figsize=(10, 4))\n",
    "plt.title(f'7DS filter transmission')\n",
    "\n",
    "fwhm = 200 # [Angstrom] FWHM\n",
    "\n",
    "lambda_7ds = np.arange(4000., 8000., 100)\n",
    "wave_lvf = np.linspace(0.1, 1.0, 1001)\n",
    "\n",
    "# Create filter_set definition\n",
    "filter_set = {'cwl': lambda_7ds,\n",
    "              'wave': wave_lvf}\n",
    "\n",
    "for ii, wl_cen in enumerate(lambda_7ds):\n",
    "    resp_lvf = tophat_trans(wave_lvf, center=wl_cen/1e4, fwhm=fwhm/1e4)\n",
    "    filter_set.update({f'{ii}': resp_lvf})\n",
    "    plt.plot(wave_lvf, resp_lvf)\n",
    "    \n",
    "plt.xlim(0.35, 0.85)\n",
    "plt.ylim(0.00, 1.20)"
   ]
  },
  {
   "cell_type": "code",
   "execution_count": null,
   "id": "e214a43b",
   "metadata": {},
   "outputs": [],
   "source": [
    "filter_set.keys()"
   ]
  },
  {
   "cell_type": "code",
   "execution_count": null,
   "id": "41025c84",
   "metadata": {},
   "outputs": [],
   "source": [
    "filter_set"
   ]
  },
  {
   "cell_type": "code",
   "execution_count": null,
   "id": "rough-lightweight",
   "metadata": {},
   "outputs": [],
   "source": [
    "plt.plot(filter_set['wave'], filter_set['0'])\n",
    "plt.xlabel('wavelength [$\\mu m$]')\n",
    "plt.ylabel('Normalized Transmission')"
   ]
  },
  {
   "cell_type": "markdown",
   "id": "bottom-isolation",
   "metadata": {},
   "source": [
    "### Telescope\n",
    "- Twenty 0.5m telescopes, f/3\n",
    "- Planewave DR50 model (2021.12.02)"
   ]
  },
  {
   "cell_type": "code",
   "execution_count": null,
   "id": "a294cc31",
   "metadata": {},
   "outputs": [],
   "source": [
    "D = 50.5               # effetive diameter [cm]\n",
    "D_obscuration = 29.8   # Central Obscuration (diameter)\n",
    "EFL = 1537.3           # [mm]\n",
    "\n",
    "Deff = sqrt(D**2 - D_obscuration**2)"
   ]
  },
  {
   "cell_type": "markdown",
   "id": "chronic-mumbai",
   "metadata": {},
   "source": [
    "### Detectors (nominal)\n",
    "- We don't know the detail of the detector (as of 2022/04/29, it is not determined)\n",
    "- Let's use typical parameters \n",
    "- Assume quantum efficiency (QE) of the Gemini GMOS as an example\n",
    "- `C3-61000 PRO`"
   ]
  },
  {
   "cell_type": "code",
   "execution_count": null,
   "id": "acoustic-grade",
   "metadata": {},
   "outputs": [],
   "source": [
    "array = 'CMOS'       # detector array type\n",
    "dQ_RN = 3.           # [e], readout noise \n",
    "I_dark = 0.01        # [e/s], dark current\n",
    "pixel_size = 3.76    # [um], \"pitch\"\n",
    "theta_pixel = 0.517  # [arcsec], pixel scale \n",
    "nxpix, nypix = 9576, 6388  # [pixels], detector format, approx. 9k x 6k\n",
    "\n",
    "# QE table of Gemini GMOS-N Hamamatsu CCD\n",
    "T_qe = Table.read('http://www.gemini.edu/sciops/instruments/gmos/gmos_n_ccd_hamamatsu_sc.txt', \n",
    "                  format='ascii.no_header', names=('wavelength', 'QE'))\n",
    "T_qe['wavelength'] = T_qe['wavelength'].astype(float) * 1e-3\n",
    "T_qe['wavelength'].unit = u.um\n",
    "T_qe['wavelength'].format = '8.4f'\n",
    "\n",
    "plt.figure(figsize=(8,4))\n",
    "plt.plot(T_qe['wavelength'], T_qe['QE'], 'o-')\n",
    "plt.xlabel('wavelength [$\\mu m$]')\n",
    "plt.ylabel('QE')\n",
    "plt.title('Gemini GMOS-N Hamamatsu CCD')"
   ]
  },
  {
   "cell_type": "markdown",
   "id": "empirical-fundamentals",
   "metadata": {},
   "source": [
    "### Efficiencies\n",
    "- For coatings and camera optics, we can implement wavelength dependent efficiencies"
   ]
  },
  {
   "cell_type": "code",
   "execution_count": null,
   "id": "1ef5a180",
   "metadata": {},
   "outputs": [],
   "source": [
    "eff_mirrors = (0.92)**2  # Aluminium coating, 2 mirrors\n",
    "eff_optics = 0.95        # Camera optics \n",
    "eff_LVF = 0.90           # LVF peak transmission (filter top transmission)\n",
    "eff_fpa = 0.80           # Detector Quantum Efficiency (QE), nominal value\n",
    "\n",
    "lambda_mid = 0.6\n",
    "eff_fpa = np.interp(lambda_mid, T_qe['wavelength']/1000, T_qe['QE'])\n",
    "\n",
    "eff_opt   = eff_mirrors * eff_optics * eff_LVF\n",
    "eff_total = eff_opt * eff_fpa\n",
    "\n",
    "eff_fpa, eff_opt, eff_total"
   ]
  },
  {
   "cell_type": "markdown",
   "id": "22666f95",
   "metadata": {},
   "source": [
    "## <span style='color:DarkSlateBlue'> 2. System Response Function  </span>"
   ]
  },
  {
   "cell_type": "markdown",
   "id": "30056378",
   "metadata": {},
   "source": [
    "### Atmospheric transmission\n",
    "- Site dependent!\n",
    "- Model for Paranal site (VLT)\n",
    "    - https://www.eso.org/sci/software/pipelines/skytools/skycalc\n",
    "    - Run web-based calculator with \n",
    "        - `airmass = 1.3`\n",
    "        - `PWV` = 2.5mm (very good, not critical in the optical)\n",
    "        - `$\\lambda_{min}$ =  300nm`\n",
    "        - `$\\lambda_{min}$ = 5000nm`\n",
    "        - `Logarithmic binning` λ/Δλ = 20000 (default; decrease to save time and space)\n",
    "        - Check `Calculate Broad-Band`"
   ]
  },
  {
   "cell_type": "code",
   "execution_count": null,
   "id": "0e692ef7",
   "metadata": {},
   "outputs": [],
   "source": [
    "s = Table.read('./data/skytable.fits')\n",
    "\n",
    "plt.figure(figsize=(12,4))\n",
    "plt.plot(s['lam']/1e3, s['trans'])\n",
    "plt.xlabel('wavelength [$\\mu m$]')\n",
    "plt.ylabel('Transmission')\n",
    "# plt.xlim(0.3, 2)"
   ]
  },
  {
   "cell_type": "markdown",
   "id": "82fdfd73",
   "metadata": {},
   "source": [
    "### Smooth transmission to match filter's R"
   ]
  },
  {
   "cell_type": "code",
   "execution_count": null,
   "id": "a2e2318d",
   "metadata": {},
   "outputs": [],
   "source": [
    "plt.figure(figsize=(8,4))\n",
    "plt.plot(s['lam']/1e3, s['trans'], alpha=0.5)\n",
    "plt.xlabel('wavelength [$\\mu m$]')\n",
    "plt.ylabel('Transmission')\n",
    "plt.xlim(0,3)\n",
    "plt.xlim(0.3,1)\n",
    "\n",
    "from scipy.ndimage import gaussian_filter\n",
    "trans_smooth = gaussian_filter(s['trans'], 10)\n",
    "plt.plot(s['lam']/1e3, trans_smooth)"
   ]
  },
  {
   "cell_type": "markdown",
   "id": "41951179",
   "metadata": {},
   "source": [
    "### Build system response including all components\n",
    "- `response` dictionary (you can create python `class`)\n",
    "- `_lvf`: filter\n",
    "- `_sys`: system"
   ]
  },
  {
   "cell_type": "code",
   "execution_count": null,
   "id": "5a049b80",
   "metadata": {},
   "outputs": [],
   "source": [
    "response = {'cwl': lambda_7ds,\n",
    "            'wave': wave_lvf}\n",
    "\n",
    "_ = plt.figure(figsize=(8,5))\n",
    "for ii, cwl in enumerate(filter_set['cwl']):\n",
    "    \n",
    "    wave_lvf = filter_set['wave']\n",
    "    resp_lvf = filter_set[f'{ii}']\n",
    "    \n",
    "    resp_sys = resp_lvf.copy()\n",
    "    intp_qe = np.interp(wave_lvf, T_qe['wavelength'], T_qe['QE'])\n",
    "    intp_trans = np.interp(wave_lvf, s['lam']*1e-3, trans_smooth)\n",
    "    \n",
    "    resp_sys = resp_sys * intp_qe * intp_trans \n",
    "    resp_sys *= eff_mirrors * eff_optics\n",
    "    \n",
    "    response.update({f'{ii}': resp_sys})\n",
    "    \n",
    "    if ii == 0:\n",
    "        plt.plot(wave_lvf, resp_lvf, label='LVF')\n",
    "        plt.plot(wave_lvf, intp_qe, label='CCD QE')\n",
    "        plt.plot(wave_lvf, intp_trans, label='Sky trans')\n",
    "        plt.plot(wave_lvf, resp_sys, label='Total response')\n",
    "    \n",
    "plt.xlabel('wavelength [$\\mu m$]')\n",
    "plt.ylabel('Response')\n",
    "plt.xlim(0.3,1)\n",
    "plt.legend()"
   ]
  },
  {
   "cell_type": "code",
   "execution_count": null,
   "id": "a3b50386",
   "metadata": {},
   "outputs": [],
   "source": [
    "plt.figure(figsize=(8,4))\n",
    "\n",
    "for ii, cwl in enumerate(response['cwl']):\n",
    "    wave_lvf = response['wave']\n",
    "    resp_sys = response[f'{ii}']\n",
    "    \n",
    "    if not ii % 2:\n",
    "        plt.plot(wave_lvf, resp_sys, color='r', alpha=0.7)\n",
    "    else:\n",
    "        plt.plot(wave_lvf, resp_sys, color='b', alpha=0.7)\n",
    "    \n",
    "plt.xlabel('wavelength [$\\mu m$]')\n",
    "plt.ylabel('System Response')\n",
    "plt.xlim(0.35,0.85)"
   ]
  },
  {
   "cell_type": "markdown",
   "id": "1d4c0bb4",
   "metadata": {},
   "source": [
    "## <span style='color:DarkSlateBlue'> 3. Survey Plan & Design </span>\n",
    "- **Site**\n",
    "    - Chile, El Sauce Observatory\n",
    "- **Surveys**\n",
    "    - Reference (RIS): 20,000 deg^2\n",
    "    - Wide-Field (Wide)\n",
    "    - Intensive Monitoring Survey (IMS)\n",
    "- **Details**\n",
    "    - Moon phases\n",
    "    - Weather loss"
   ]
  },
  {
   "cell_type": "code",
   "execution_count": null,
   "id": "398d9352",
   "metadata": {},
   "outputs": [],
   "source": [
    "survey_area_per_night = 113.  # [deg^2]\n",
    "hrs_per_night = 9.            # hours per night\n",
    "\n",
    "FOV_per_pointing = nxpix*nypix * theta_pixel**2 / 3600**2\n",
    "T_exposure = hrs_per_night / (survey_area_per_night/FOV_per_pointing) * 3600 / 2\n",
    "\n",
    "print(f'FOV           = {FOV_per_pointing:10.3g} deg^2')\n",
    "print(f'Exposure time = {T_exposure:10.3g} sec')"
   ]
  },
  {
   "cell_type": "code",
   "execution_count": null,
   "id": "concrete-function",
   "metadata": {},
   "outputs": [],
   "source": [
    "fwhm_seeing = 1.5     # [arcsec]\n",
    "FWHM0 = fwhm_seeing   # analysis aperture size\n",
    "Tsamp = 180.          # individual exposure time [sec], 3min\n",
    "\n",
    "# How many pixels does a point source occupy?\n",
    "# Effective number of pixels for a Gaussian PSF with FWHM0\n",
    "Npix_ptsrc = pi*(FWHM0/theta_pixel)**2\n",
    "Npix_ptsrc"
   ]
  },
  {
   "cell_type": "markdown",
   "id": "987d61f4",
   "metadata": {},
   "source": [
    "### Number of exposures per field\n",
    "Need to determine Nexp for each survey depending on the science requirements and funds."
   ]
  },
  {
   "cell_type": "code",
   "execution_count": null,
   "id": "99fec01f",
   "metadata": {},
   "outputs": [],
   "source": [
    "Nexp = 1"
   ]
  },
  {
   "cell_type": "markdown",
   "id": "43b0b82b",
   "metadata": {},
   "source": [
    "## <span style='color:DarkSlateBlue'> 4. Noise Sources </span>"
   ]
  },
  {
   "cell_type": "markdown",
   "id": "a53b6323",
   "metadata": {},
   "source": [
    "### Readout noise per integration"
   ]
  },
  {
   "cell_type": "code",
   "execution_count": null,
   "id": "attempted-insured",
   "metadata": {},
   "outputs": [],
   "source": [
    "dQ_RN"
   ]
  },
  {
   "cell_type": "markdown",
   "id": "1ffc7f3c",
   "metadata": {},
   "source": [
    "### Sky background: atmosphere\n",
    "- Use sky model from ESO (`skytable.fits`)\n",
    "- Ignore Zodi, telescope, instruments\n",
    "- TODO: Scale or update the model for the actual site"
   ]
  },
  {
   "cell_type": "code",
   "execution_count": null,
   "id": "2026bcb4",
   "metadata": {},
   "outputs": [],
   "source": [
    "s = Table.read('./data/skytable.fits')\n",
    "s"
   ]
  },
  {
   "cell_type": "code",
   "execution_count": null,
   "id": "d6ededed",
   "metadata": {},
   "outputs": [],
   "source": [
    "s.meta"
   ]
  },
  {
   "cell_type": "markdown",
   "id": "d088e915",
   "metadata": {},
   "source": [
    "### Sky emission in various units\n",
    "- photon rate   (ph/s/m$^2$/micron/arcsec$^2$)\n",
    "- $f_\\lambda$   (erg/s/cm$^2$/A/arcsec$^2$)\n",
    "- $f_\\nu$       (erg/s/cm$^2$/Hz/arcsec$^2$)\n"
   ]
  },
  {
   "cell_type": "code",
   "execution_count": null,
   "id": "5a34d807",
   "metadata": {},
   "outputs": [],
   "source": [
    "wl_nm = s['lam']          # nm\n",
    "wl_um = wl_nm / 1e3       # micron\n",
    "wl_cm = wl_um / 1e4       # cm\n",
    "wl_am = wl_angstrom = wl_nm * 10  # angstrom\n",
    "nu = 3e18 / wl_angstrom   # Hz\n",
    "\n",
    "I_lambda = s['flux']      # [ph/s/m2/micron/arcsec2] photon reate\n",
    "f_lambda = I_lambda * (h*c/wl_cm) / (1e2**2) / (1e4)  # erg/s/cm2/A"
   ]
  },
  {
   "cell_type": "code",
   "execution_count": null,
   "id": "b62d9e7f",
   "metadata": {},
   "outputs": [],
   "source": [
    "plt.figure(figsize=(12,4))\n",
    "plt.plot(wl_um, I_lambda)\n",
    "plt.xlabel('wavelength [$\\mu m$]')\n",
    "plt.ylabel('$SB_\\lambda$ [$ph/s/m^2/\\mu m/arcsec^2$]')"
   ]
  },
  {
   "cell_type": "code",
   "execution_count": null,
   "id": "51bee954",
   "metadata": {},
   "outputs": [],
   "source": [
    "o = (wl_angstrom > 3000) & (wl_angstrom < 10000)\n",
    "\n",
    "plt.figure(figsize=(12,4))\n",
    "plt.plot(wl_am[o], f_lambda[o])\n",
    "plt.xlabel('wavelength [$\\AA$]')\n",
    "plt.ylabel('$SB_\\lambda$ [$erg/s/cm^2/\\AA/arcsec^2$]')"
   ]
  },
  {
   "cell_type": "code",
   "execution_count": null,
   "id": "dce76253",
   "metadata": {},
   "outputs": [],
   "source": [
    "f_nu = f_lambda * wl_angstrom * (wl_cm/c) / (1e-23 * 1e-6)  # micro Jansky\n",
    "\n",
    "o = (wl_angstrom > 3000) & (wl_angstrom < 10000)\n",
    "\n",
    "plt.figure(figsize=(12,4))\n",
    "plt.plot(wl_angstrom[o], f_nu[o])\n",
    "plt.xlabel(r'wavelength [$\\AA$]')\n",
    "plt.ylabel(r'$SB_\\nu$ [$\\mu Jy/arcsec^2$]')"
   ]
  },
  {
   "cell_type": "code",
   "execution_count": null,
   "id": "76f0c191",
   "metadata": {},
   "outputs": [],
   "source": [
    "plt.figure(figsize=(12,4))\n",
    "plt.plot(wl_angstrom[o], -2.5*np.log10(f_nu[o]*1e-6*1e-23)-48.60)\n",
    "plt.xlabel(r'wavelength [$\\AA$]')\n",
    "plt.ylabel(r'$SB_\\nu$ [$mag/arcsec^2$]')\n",
    "plt.title('Sky brightness in AB mag')\n",
    "plt.ylim(24,14)"
   ]
  },
  {
   "cell_type": "code",
   "execution_count": null,
   "id": "53738cd6",
   "metadata": {},
   "outputs": [],
   "source": [
    "# check\n",
    "# f_lambda / (h*nu)  # erg/s/cm2/A\n",
    "# f_lambda / (h*nu) / (1e-2**2) / (1e-4) # erg/s/m2/um\n",
    "# plt.plot(wl_um,f_lambda / (h*nu) / (1e-2**2) / (1e-4))"
   ]
  },
  {
   "cell_type": "markdown",
   "id": "8cf3d620",
   "metadata": {},
   "source": [
    "### Zodi\n",
    "- Not significant contribution compared to atmosphere"
   ]
  },
  {
   "cell_type": "markdown",
   "id": "administrative-cooler",
   "metadata": {},
   "source": [
    "## <span style='color:DarkSlateBlue'> 5. Sensitivity Estimates </span>"
   ]
  },
  {
   "cell_type": "markdown",
   "id": "ee2bd202",
   "metadata": {},
   "source": [
    "### Update the synthetic photometry function to return `photon rate`"
   ]
  },
  {
   "cell_type": "code",
   "execution_count": null,
   "id": "hairy-parcel",
   "metadata": {},
   "outputs": [],
   "source": [
    "def synth_phot(wave, flux, wave_lvf, resp_lvf, tol=1e-3, return_photonrate = False):\n",
    "    \"\"\"\n",
    "    Quick synthetic photometry routine.\n",
    "\n",
    "    Parameters\n",
    "    ----------\n",
    "    wave : `numpy.ndarray`\n",
    "        wavelength of input spectrum.\n",
    "    flux : `numpy.ndarray`\n",
    "        flux density of input spectrum in f_nu unit\n",
    "        if `return_countrate` = True, erg/s/cm2/Hz is assumed\n",
    "    wave_lvf : `numpy.ndarray`\n",
    "        wavelength of the response function\n",
    "    resp_lvf : `numpy.ndarray`\n",
    "        response function. assume that this is a QE.\n",
    "    tol : float, optional\n",
    "        Consider only wavelength range above this tolerence (peak * tol).\n",
    "        The default is 1e-3.\n",
    "\n",
    "    Returns\n",
    "    -------\n",
    "    synthethic flux density in the input unit\n",
    "        if return_photonrate = True, photon rates [ph/s/cm2]\n",
    "\n",
    "    \"\"\"\n",
    "    index_filt, = np.where(resp_lvf > resp_lvf.max()*tol)\n",
    "\n",
    "    index_flux, = np.where(np.logical_and( wave > wave_lvf[index_filt].min(), \n",
    "                                           wave < wave_lvf[index_filt].max() ))\n",
    "\n",
    "    wave_resamp = np.concatenate( (wave[index_flux], wave_lvf[index_filt]) )\n",
    "    wave_resamp.sort()\n",
    "    wave_resamp = np.unique(wave_resamp)\n",
    "    flux_resamp = np.interp(wave_resamp, wave, flux)\n",
    "    resp_resamp = np.interp(wave_resamp, wave_lvf, resp_lvf)\n",
    "\n",
    "    if return_photonrate:\n",
    "        h_planck = 6.626e-27 # erg/Hz\n",
    "        return trapezoid(resp_resamp / wave_resamp * flux_resamp, wave_resamp) / h_planck\n",
    "        \n",
    "    return trapezoid(resp_resamp / wave_resamp * flux_resamp, wave_resamp) \\\n",
    "         / trapezoid(resp_resamp / wave_resamp, wave_resamp)"
   ]
  },
  {
   "cell_type": "code",
   "execution_count": null,
   "id": "793aa7ea",
   "metadata": {},
   "outputs": [],
   "source": [
    "# Choose a band\n",
    "band_key = '39'\n",
    "wave_sys = response['wave']\n",
    "resp_sys = response[band_key]\n",
    "resp_lvf = filter_set[band_key]\n",
    "\n",
    "lambda_mid = response['cwl'][39]\n",
    "\n",
    "plt.figure(figsize=(8,4))\n",
    "plt.plot(wave_lvf, resp_lvf)\n",
    "plt.plot(wave_lvf, resp_sys)\n",
    "\n",
    "plt.xlabel(r'wavelength [$\\mu m$]')\n",
    "plt.ylabel(r'Response')"
   ]
  },
  {
   "cell_type": "markdown",
   "id": "06320fd1",
   "metadata": {},
   "source": [
    "### Extended source or surface brightness [one pixel]"
   ]
  },
  {
   "cell_type": "code",
   "execution_count": null,
   "id": "1a0cfe7d",
   "metadata": {},
   "outputs": [],
   "source": [
    "# photon_rate: ph/s/cm2/arcsec2\n",
    "photon_rate = synth_phot(wl_um, f_nu*(1e-23*1e-6), wave_sys, resp_sys, return_photonrate=True)\n",
    "print(f'{photon_rate:10.3g} ph/s/cm2/arcsec2')\n",
    "\n",
    "# Sky surface brightness \n",
    "SB_sky = synth_phot(wl_um, f_nu*(1e-23*1e-6), wave_lvf, resp_lvf)\n",
    "SB_sky_abmag = -2.5*log10(SB_sky) - 48.60\n",
    "print(f'{SB_sky:10.3g} erg/s/cm2/Hz/arcsec2')\n",
    "print(f'{SB_sky_abmag:10.3g} mag/arcsec2')"
   ]
  },
  {
   "cell_type": "code",
   "execution_count": null,
   "id": "average-struggle",
   "metadata": {},
   "outputs": [],
   "source": [
    "# Sky background rate\n",
    "# I_photo = photo-current rate    [e/s]\n",
    "# Q_photo = total counts          [e]\n",
    "\n",
    "# Photo-current rate\n",
    "I_photo = photon_rate * (pi/4*Deff**2) * (theta_pixel**2)\n",
    "print(f'{I_photo:10.3g} e/s')\n",
    "\n",
    "# Noise in count per obs [e]. \n",
    "Q_photo = (I_photo+I_dark)*Tsamp\n",
    "dQ_photo = np.sqrt(Q_photo)\n",
    "print(f'{Q_photo:10.3g} e')\n",
    "\n",
    "# Noise in count rate [e/s]\n",
    "# Readnoise (indistinguishable from signal) is added \n",
    "dI_photo = np.sqrt(dQ_photo**2 + dQ_RN**2)/Tsamp\n",
    "\n",
    "# Noise in SB_sky\n",
    "dSB_sky = (dI_photo/I_photo)*SB_sky\n",
    "mag_sky = -2.5*log10(5*dSB_sky) - 48.60\n",
    "print(f'{mag_sky:10.3g} mag/arcsec2')"
   ]
  },
  {
   "cell_type": "markdown",
   "id": "0e8e66b7",
   "metadata": {},
   "source": [
    "### Point source"
   ]
  },
  {
   "cell_type": "code",
   "execution_count": null,
   "id": "bf07e4a5",
   "metadata": {},
   "outputs": [],
   "source": [
    "dFnu = sqrt(Npix_ptsrc) * dSB_sky*(theta_pixel)**2\n",
    "mag_pts = -2.5*log10(5*dFnu) - 48.60\n",
    "print(f'{mag_pts:10.3g} mag')"
   ]
  },
  {
   "cell_type": "code",
   "execution_count": null,
   "id": "silent-performer",
   "metadata": {},
   "outputs": [],
   "source": [
    "print(f\"wavelength_mid = {lambda_mid:12.3f} um\")\n",
    "print(f\"SB_sky         = {SB_sky:12.5g} erg/s/cm2/Hz/arcsec2\")\n",
    "print(f\"I_photo        = {I_photo:12.5g} e-/s\")\n",
    "print(f\"dI_photo       = {dI_photo:12.5g} e-/s\")\n",
    "print(f\"Q_photo        = {Q_photo:12.5g} e-\")\n",
    "print(f\"dQ_photo       = {dQ_photo:12.5g} e-\")\n",
    "print(f\"dSB_sky        = {dSB_sky:12.5g} erg/s/cm2/Hz/arcsec2\")\n",
    "print(f\"mag_sky (5sig) = {mag_sky:12.5g} mag/arcsec2\")\n",
    "print(f\"mag_pts (5sig) = {mag_pts:12.5g} mag\")"
   ]
  },
  {
   "cell_type": "markdown",
   "id": "faab4979",
   "metadata": {},
   "source": [
    "### In ETC style\n",
    "- SN as a function of Texp\n",
    "- SN as a function of input flux"
   ]
  },
  {
   "cell_type": "code",
   "execution_count": null,
   "id": "69c68130",
   "metadata": {},
   "outputs": [],
   "source": [
    "def pointsrc_signal2noise(mag_src, Tsamp):\n",
    "    \"\"\"\n",
    "    Calculate SN for a point source\n",
    "    \n",
    "    Input\n",
    "        mag_src: AB mag of the source, scalar\n",
    "        Tsamp: individual exposure time [sec], can be scalar or array\n",
    "\n",
    "    WARNING: !!! ALL VARIABLES ARE GLOBALLY DECLARED !!!\n",
    "    \"\"\"\n",
    "    # mag_src = 19.7\n",
    "    Naper = Npix_ptsrc \n",
    "\n",
    "    # mag_src = 20.1 - 2.5*np.log10(theta_pixel**2)\n",
    "    # Naper = 1\n",
    "\n",
    "    f_nu_src = f_nu*0 + 10**(-0.4*(mag_src + 48.6))  # erg/s/cm2/Hz\n",
    "    f_nu_sky = f_nu*(1e-23*1e-6)                     # erg/s/cm2/Hz/arcsec2\n",
    "\n",
    "    photon_rate_src = synth_phot(wl_um, f_nu_src, wave_sys, resp_sys, return_photonrate=True)  # ph/s/cm2\n",
    "    photon_rate_sky = synth_phot(wl_um, f_nu_sky, wave_sys, resp_sys, return_photonrate=True)  # ph/s/cm2/arcsec2\n",
    "\n",
    "    I_photo_src = photon_rate_src * (pi/4*Deff**2)                     # [e/s] per aperture (no aperture loss)\n",
    "    I_photo_sky = photon_rate_sky * (pi/4*Deff**2) * (theta_pixel**2)  # [e/s] per pixel \n",
    "\n",
    "    Q_photo_src = I_photo_src * Tsamp\n",
    "    Q_photo_sky = I_photo_sky * Tsamp\n",
    "    Q_photo_dark = I_dark * Tsamp\n",
    "\n",
    "    SN = Q_photo_src / np.sqrt(Q_photo_src + Naper*Q_photo_sky + Naper*Q_photo_dark + Naper*dQ_RN**2)\n",
    "\n",
    "    return SN"
   ]
  },
  {
   "cell_type": "code",
   "execution_count": null,
   "id": "bae70451",
   "metadata": {},
   "outputs": [],
   "source": [
    "# Test\n",
    "pointsrc_signal2noise(19.74, 180)"
   ]
  },
  {
   "cell_type": "code",
   "execution_count": null,
   "id": "9477631c",
   "metadata": {},
   "outputs": [],
   "source": [
    "t_vec = np.logspace(0, 4, 100)\n",
    "\n",
    "plt.figure(figsize=(8,5))\n",
    "\n",
    "plt.plot(t_vec, pointsrc_signal2noise(19.7, t_vec))\n",
    "plt.plot(t_vec, pointsrc_signal2noise(22.7, t_vec))\n",
    "_, ymax = plt.gca().get_ylim()\n",
    "\n",
    "\n",
    "plt.xscale('log')\n",
    "plt.yscale('log')\n",
    "plt.grid()\n",
    "plt.xlabel('Tsamp [sec]')\n",
    "plt.ylabel('S/N')\n",
    "\n",
    "sn_sqrt   = np.sqrt(t_vec/t_vec.max()) * pointsrc_signal2noise(19.7, t_vec.max())\n",
    "sn_linear = t_vec/t_vec.max() * pointsrc_signal2noise(19.7, t_vec.min())\n",
    "\n",
    "plt.plot(t_vec, sn_sqrt, alpha=0.2, linestyle='--')\n",
    "plt.plot(t_vec, t_vec/10, alpha=0.2, linestyle='--')\n",
    "plt.ylim(2e-3, ymax*5)"
   ]
  },
  {
   "cell_type": "code",
   "execution_count": null,
   "id": "391dd306",
   "metadata": {},
   "outputs": [],
   "source": [
    "t_vec = 180.\n",
    "m_vec = np.linspace(25, 10)\n",
    "\n",
    "sn_vec = [pointsrc_signal2noise(m, t_vec) for m in m_vec]\n",
    "\n",
    "plt.figure(figsize=(8,5))\n",
    "plt.plot(m_vec, sn_vec)\n",
    "plt.yscale('log')\n",
    "plt.grid()\n",
    "plt.xlim(m_vec.max(), m_vec.min())\n",
    "plt.xlabel('Source Magnitude')\n",
    "plt.ylabel('S/N')"
   ]
  },
  {
   "cell_type": "code",
   "execution_count": null,
   "id": "3d34e83b",
   "metadata": {},
   "outputs": [],
   "source": [
    "# Check 5sigma detection limit\n",
    "np.interp(5, sn_vec, m_vec)"
   ]
  },
  {
   "cell_type": "markdown",
   "id": "8c22f89d",
   "metadata": {},
   "source": [
    "### For all 7DS bands\n",
    "- from 7DS spec sheet:\n",
    "    - 20.2 AB mag at 425nm\n",
    "    - 19.8 AB mag at 675nm \n",
    "    - 18.9 AB mag at 825nm (5-sigma, pt source, 3min)"
   ]
  },
  {
   "cell_type": "code",
   "execution_count": null,
   "id": "ba21e735",
   "metadata": {},
   "outputs": [],
   "source": [
    "unit_SB  = u.nW/(u.m)**2/u.sr\n",
    "unit_cntrate = u.electron / u.s\n",
    "\n",
    "T_sens = (QTable( \n",
    "             names=('band', 'wavelength', 'I_photo_sky', 'mag_sky', 'mag_pts'),\n",
    "             dtype=(np.int16,float,float,float,float,) )\n",
    "         )\n",
    "for key in T_sens.colnames:\n",
    "    T_sens[key].info.format = '.4g'\n",
    "T_sens"
   ]
  },
  {
   "cell_type": "code",
   "execution_count": null,
   "id": "82a2f87a",
   "metadata": {
    "scrolled": false
   },
   "outputs": [],
   "source": [
    "for ii, cwl in enumerate(response['cwl']):\n",
    "    wave_sys = response['wave']\n",
    "    resp_sys = response[f'{ii}']\n",
    "    resp_lvf = filter_set[f'{ii}']\n",
    "    \n",
    "    # photon rate\n",
    "    photon_rate = synth_phot(wl_um, f_nu*(1e-23*1e-6), wave_sys, resp_sys, return_photonrate=True)\n",
    "\n",
    "    # SB\n",
    "    SB_sky = synth_phot(wl_um, f_nu*(1e-23*1e-6), wave_lvf, resp_lvf)\n",
    "\n",
    "    # photo-current or count rate\n",
    "    I_photo = photon_rate * (pi/4*D**2) * (theta_pixel**2)\n",
    "\n",
    "    # noise in count per obs [e]. \n",
    "    Q_photo = (I_photo+I_dark)*Tsamp\n",
    "    dQ_photo = np.sqrt(Q_photo)\n",
    "\n",
    "    # noise in count rate [e/s]\n",
    "    # read-noise (indistinguishable from signal) should be added \n",
    "    dI_photo = np.sqrt(dQ_photo**2 + dQ_RN**2)/Tsamp\n",
    "\n",
    "    # surface brightness limit [one pixel]\n",
    "    dSB_sky = (dI_photo/I_photo)*SB_sky\n",
    "    mag_sky = -2.5*log10(5*dSB_sky) - 48.60\n",
    "\n",
    "    # point source limit\n",
    "    dFnu = sqrt(Npix_ptsrc) * dSB_sky*(theta_pixel)**2\n",
    "    mag_pts = -2.5*log10(5*dFnu) - 48.60\n",
    "    \n",
    "    # Add data to the table\n",
    "    T_sens.add_row([ii, cwl, I_photo, mag_sky, mag_pts]) \n",
    "\n",
    "# Put units\n",
    "T_sens['wavelength'].unit = u.um\n",
    "T_sens['I_photo_sky'].unit = unit_cntrate\n",
    "T_sens['mag_sky'].unit = u.mag\n",
    "T_sens['mag_pts'].unit = u.mag    "
   ]
  },
  {
   "cell_type": "code",
   "execution_count": null,
   "id": "portable-gabriel",
   "metadata": {},
   "outputs": [],
   "source": [
    "T_sens"
   ]
  },
  {
   "cell_type": "code",
   "execution_count": null,
   "id": "aggressive-postage",
   "metadata": {},
   "outputs": [],
   "source": [
    "fig, ax = plt.subplots(1, figsize=(10,5))\n",
    "\n",
    "ax.plot(T_sens['wavelength']/1e4, T_sens['mag_pts'], 'o')\n",
    "ax.set_ylim(23,17)\n",
    "\n",
    "CBE = Table.read('data/Public-products/Point_Source_Sensitivity_v28_base_cbe.txt', format='ascii.no_header')\n",
    "lambda_um, mag_5sig = CBE['col1'], CBE['col2']\n",
    "plot_SPHEREx_limit(lambda_um, mag_5sig, ax=ax)\n",
    "\n",
    "plt.xlabel(r'wavelength [$\\mu m$]')\n",
    "plt.ylabel(r'Point source limits (5$\\sigma$)')\n",
    "\n",
    "plt.plot(np.array([425, 675, 825])/1000, [20.2, 19.8, 18.9], 'o')\n",
    "\n",
    "# ax.set_xscale('log')\n",
    "# ax.set_ylim(24.5,14.5)"
   ]
  },
  {
   "cell_type": "markdown",
   "id": "922920c7",
   "metadata": {},
   "source": [
    "# <span style='color:DarkSlateBlue'> Exercises </span>"
   ]
  },
  {
   "cell_type": "markdown",
   "id": "cc6bd849",
   "metadata": {},
   "source": [
    "## 4.1 Calculate the point source sensitivity assuming that the 7DT is located in Paranal or LCO sites (median seeing = 0.8arcsec)\n",
    "- Translate potential improvement into the upgrade of telescope aperture. $D_{\\rm equiv}$ = ?"
   ]
  },
  {
   "cell_type": "markdown",
   "id": "20680a9a",
   "metadata": {},
   "source": [
    "## 4.2 Repeat for the Wide & IMS surveys"
   ]
  }
 ],
 "metadata": {
  "kernelspec": {
   "display_name": "Python 3 (ipykernel)",
   "language": "python",
   "name": "python3"
  },
  "language_info": {
   "codemirror_mode": {
    "name": "ipython",
    "version": 3
   },
   "file_extension": ".py",
   "mimetype": "text/x-python",
   "name": "python",
   "nbconvert_exporter": "python",
   "pygments_lexer": "ipython3",
   "version": "3.9.12"
  }
 },
 "nbformat": 4,
 "nbformat_minor": 5
}
