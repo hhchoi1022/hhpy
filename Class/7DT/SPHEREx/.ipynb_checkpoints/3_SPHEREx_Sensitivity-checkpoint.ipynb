{
 "cells": [
  {
   "cell_type": "markdown",
   "id": "6a2ab929",
   "metadata": {},
   "source": [
    "# 3_SPHEREx_Sensitivity\n",
    "# Understand how SPHEREx sensitivity limits are determined\n",
    "\n",
    "## Authors\n",
    "- Yujin Yang, Woong-Seob Jeong (KASI SPHEREx Team)\n",
    "- **Sky background slides from Woong-Seob**\n",
    "\n",
    "## Goal\n",
    "- Understand how T(exp) is determined from the survey requirements\n",
    "- Understand how SPHEREx detection limits are determined"
   ]
  },
  {
   "cell_type": "markdown",
   "id": "military-tuesday",
   "metadata": {},
   "source": [
    "<div class=\"alert alert-block alert-danger\">\n",
    "    <span style='font-size:18px'>\n",
    "    The numbers in this notebook is for approximation only to illustrate SPHEREx sensitivity.\n",
    "    </span>    \n",
    "</div>\n",
    "<div class=\"alert alert-block alert-danger\">\n",
    "    <span style='font-size:18px'>\n",
    "    Always consult offical SPHEREx publications.\n",
    "    </span>    \n",
    "</div>"
   ]
  },
  {
   "cell_type": "markdown",
   "id": "friendly-puppy",
   "metadata": {},
   "source": [
    "## <span style='color:DarkSlateBlue'> Setting for this notebook </span>"
   ]
  },
  {
   "cell_type": "code",
   "execution_count": null,
   "id": "73fb92d4",
   "metadata": {},
   "outputs": [],
   "source": [
    "from IPython.core.interactiveshell import InteractiveShell\n",
    "InteractiveShell.ast_node_interactivity = \"all\"   # last or last_expr"
   ]
  },
  {
   "cell_type": "code",
   "execution_count": null,
   "id": "3b35366d",
   "metadata": {},
   "outputs": [],
   "source": [
    "import os\n",
    "import numpy as np\n",
    "import matplotlib as mpl\n",
    "import matplotlib.pyplot as plt\n",
    "\n",
    "from numpy import sqrt, exp, log10, pi\n",
    "from astropy import units as u\n",
    "from astropy import constants as const\n",
    "from astropy.table import Table, QTable, join, vstack\n",
    "\n",
    "mpl.rcParams[\"axes.titlesize\"] = 13\n",
    "mpl.rcParams[\"axes.labelsize\"] = 15"
   ]
  },
  {
   "cell_type": "code",
   "execution_count": null,
   "id": "ffc9d811",
   "metadata": {},
   "outputs": [],
   "source": [
    "# Constants\n",
    "c_ums = 3e14               # c in um/s\n",
    "c = 3e8                    # m/s\n",
    "h = 6.626e-34              # Planck constant   [J/Hz]\n",
    "k = 1.38e-23               # Boltzman constant [J/K]\n",
    "rad2arcsec = (180/pi*3600) # 206265 arcsec\n",
    "arcsec2rad = 1/rad2arcsec"
   ]
  },
  {
   "cell_type": "markdown",
   "id": "cadac2da",
   "metadata": {},
   "source": [
    "## <span style='color:DarkSlateBlue'> 1. SPHEREx Parameters - telescope, detectors, LVFs, efficiencies </span>"
   ]
  },
  {
   "cell_type": "markdown",
   "id": "controlled-habitat",
   "metadata": {},
   "source": [
    "### Band Information"
   ]
  },
  {
   "cell_type": "code",
   "execution_count": null,
   "id": "similar-equation",
   "metadata": {},
   "outputs": [],
   "source": [
    "# SPHEREx Band ID (1,2,3,4,5,6)\n",
    "iband = 1"
   ]
  },
  {
   "cell_type": "code",
   "execution_count": null,
   "id": "rough-lightweight",
   "metadata": {},
   "outputs": [],
   "source": [
    "SPHEREx_lambda_min = np.array([0.75, 1.11, 1.64, 2.42, 3.82, 4.42])  # starting wavelength\n",
    "SPHEREx_R = np.array([41, 41, 41, 35, 110, 130])                     # Resolving power\n",
    "SPHEREx_eff_LVF = np.array([0.97, 0.97, 0.88, 0.86, 0.78, 0.72])     # LVF efficiency"
   ]
  },
  {
   "cell_type": "markdown",
   "id": "bottom-isolation",
   "metadata": {},
   "source": [
    "### Telescope"
   ]
  },
  {
   "cell_type": "code",
   "execution_count": null,
   "id": "a294cc31",
   "metadata": {},
   "outputs": [],
   "source": [
    "D = 20.             # effetive diameter [cm]\n",
    "F = 3.0             # F-number\n",
    "EFL = D*F           # effective focal length [cm]\n",
    "WFE = 0.25          # wave front error [um]\n",
    "rms_pointing = 1.0  # pointing accuray [arcsec]"
   ]
  },
  {
   "cell_type": "markdown",
   "id": "chronic-mumbai",
   "metadata": {},
   "source": [
    "### H2RG Detectors"
   ]
  },
  {
   "cell_type": "code",
   "execution_count": null,
   "id": "acoustic-grade",
   "metadata": {},
   "outputs": [],
   "source": [
    "array = 'HgCdTe'   # detector array type\n",
    "Npix = 2048        # [pixels], detector format\n",
    "dQ_CDS = 12.5      # [e]\n",
    "I_dark = 0.01      # [e/s], dark current\n",
    "pixel_size = 18.0  # [um], \"pitch\"\n",
    "Tsamp = 1.5        # sampling time of IR detectors [sec]"
   ]
  },
  {
   "cell_type": "markdown",
   "id": "accessible-discount",
   "metadata": {},
   "source": [
    "### Linear Variable Filters (LVFs)"
   ]
  },
  {
   "cell_type": "code",
   "execution_count": null,
   "id": "f87999e3",
   "metadata": {},
   "outputs": [],
   "source": [
    "R = 41             # Resolving power\n",
    "R = SPHEREx_R[iband-1]\n",
    "Nchan = 16         # number of channels per band (or steps)\n",
    "\n",
    "lambda_min = 0.75  # starting wavelength\n",
    "lambda_min = SPHEREx_lambda_min[iband-1]  # starting wavelength\n",
    "lambda_max = lambda_min * ((2*R+1)/(2*R-1))**Nchan\n",
    "lambda_mid = (lambda_min + lambda_max)/2\n",
    "\n",
    "print(f'lambda_min = {lambda_min:8.3f}')\n",
    "print(f'lambda_mid = {lambda_mid:8.3f}')\n",
    "print(f'lambda_max = {lambda_max:8.3f}')"
   ]
  },
  {
   "cell_type": "markdown",
   "id": "empirical-fundamentals",
   "metadata": {},
   "source": [
    "### Efficiencies"
   ]
  },
  {
   "cell_type": "code",
   "execution_count": null,
   "id": "1ef5a180",
   "metadata": {},
   "outputs": [],
   "source": [
    "eff_mirrors_Au = (0.965)**3  # Gold coating, 3 mirrors\n",
    "eff_dichroic = 0.98          # splitter\n",
    "eff_LVF = 0.97               # LVF peak transmission\n",
    "eff_LVF = SPHEREx_eff_LVF[iband-1]\n",
    "eff_fpa = 0.75               # Detector Quantum Efficiency (QE)\n",
    "\n",
    "T_scope = 80.    # temperature of the telescope [K]\n",
    "T_FPA   = 50.    # temperature of the focal plane array (FPA) [K]\n",
    "\n",
    "eff_opt   = eff_mirrors_Au * eff_dichroic * eff_LVF\n",
    "eff_total = eff_opt * eff_fpa\n",
    "\n",
    "eff_opt, eff_total"
   ]
  },
  {
   "cell_type": "markdown",
   "id": "22666f95",
   "metadata": {},
   "source": [
    "## <span style='color:DarkSlateBlue'> 2. (Derived) SPHEREx Properties  </span>"
   ]
  },
  {
   "cell_type": "markdown",
   "id": "46aa03f1",
   "metadata": {},
   "source": [
    "### LVF Channels and Detectors\n",
    " - plate scale [arcsec/mm] = $\\frac{206265}{f [mm]}$\n",
    "     - f = effective focal length (EFL)\n",
    " - convert to pixel scale\n",
    "     - pixscale = plate scale * detector pixel size"
   ]
  },
  {
   "cell_type": "code",
   "execution_count": null,
   "id": "cd868035",
   "metadata": {},
   "outputs": [],
   "source": [
    "# Pixel scale, FOV in spatial direction\n",
    "theta_pixel = rad2arcsec * pixel_size*0.0001/EFL  # [arcsec], pixel scale\n",
    "theta_x = theta_pixel * Npix / 3600               # [deg], FOV in spatial direction (x)\n",
    "theta_x, theta_pixel"
   ]
  },
  {
   "cell_type": "code",
   "execution_count": null,
   "id": "388f547b",
   "metadata": {},
   "outputs": [],
   "source": [
    "# Length of one channel on the sky\n",
    "# Spectral response same for this angle on the sky\n",
    "# \"spec\" == channel\n",
    "theta_spec = Npix / Nchan * theta_pixel / 60  # [arcmin]\n",
    "\n",
    "# Angular area for which one exposure (pointing) can get spectrum for a given channel\n",
    "# 하나의 채널이 검출기에서 차지하는 영역의 각 넓이\n",
    "# 한번에 관측할 수 있는 하늘의 영역\n",
    "FOV_spec = (theta_spec/60) * theta_x          # [deg^2]\n",
    "FOV_spec\n",
    "\n",
    "# Length of spectrum per channel\n",
    "Npix_per_channel = (Npix) / (Nchan)"
   ]
  },
  {
   "cell_type": "code",
   "execution_count": null,
   "id": "54443d29",
   "metadata": {},
   "outputs": [],
   "source": [
    "# diffraction-limited PSF size = 1.22 (lambda/D)\n",
    "theta_diffraction = 1.22 * (lambda_mid*1e-4) / D * rad2arcsec\n",
    "\n",
    "# Area of a pixel in steradian\n",
    "pixel_sr = (theta_pixel*arcsec2rad)**2\n",
    "\n",
    "# (Area) x (solid angle) per pixel [m^2 sr]\n",
    "AOmega = pi * (D/2/100)**2 * pixel_sr"
   ]
  },
  {
   "cell_type": "code",
   "execution_count": null,
   "id": "3e9b7a68",
   "metadata": {},
   "outputs": [],
   "source": [
    "print(f\"FOV_spec          = {FOV_spec:8.3f} deg^2\")\n",
    "print(f\"theta_spec        = {theta_spec:8.3f} arcmin\")\n",
    "print(f\"Npix_per_channel  = {Npix_per_channel:8.3f} pixels\")\n",
    "print(f\"theta_x           = {theta_x:8.3f} deg\")\n",
    "print(f\"theta_pixel       = {theta_pixel:8.3f} arcsec\")\n",
    "print(f\"fwhm_diffraction  = {theta_diffraction:8.3f} arcsec\")\n",
    "print(f\"pixel_sr          = {pixel_sr:8.2e} sr\")\n",
    "print(f\"AOmega            = {AOmega:8.2e} m^2 sr\")"
   ]
  },
  {
   "cell_type": "markdown",
   "id": "promising-possibility",
   "metadata": {},
   "source": [
    "### PSFs due to the optics and the spacecraft\n",
    "- diffraction\n",
    "$$ \\mathbf{FWHM} = 1.22 \\dfrac{\\lambda}{D} $$\n",
    "- imperfections in the optics (wave front error)\n",
    "$$ \\mathbf{Strehl~ratio} \\simeq \\exp{\\left[-\\left(2\\pi\\frac{\\sigma}{\\lambda}\\right)^2\\right]} $$\n",
    "$$ \\mathbf{Strehl~ratio} \\sim \\left(\\frac{\\mathbf{FWHM_{diffration}}}{\\mathbf{FWHM}}\\right)^2 $$\n",
    "- jitter in the spacecraft (pointing stability)"
   ]
  },
  {
   "cell_type": "markdown",
   "id": "located-means",
   "metadata": {},
   "source": [
    "<div class=\"alert alert-block alert-danger\">\n",
    "    <span style='font-size:18px'>\n",
    "        This FWHM approximation is very crude. Use it with a caution outside this notebook!\n",
    "    </span>    \n",
    "</div>"
   ]
  },
  {
   "cell_type": "code",
   "execution_count": null,
   "id": "random-filter",
   "metadata": {},
   "outputs": [],
   "source": [
    "# wavlength vector in um\n",
    "wl = np.linspace(0.75, 5, 100)   \n",
    "\n",
    "# Diffraction-limited PSF width\n",
    "fwhm_diffraction = 1.22*wl/(D*1e4) * rad2arcsec\n",
    "\n",
    "# PSF width due to the wave front error\n",
    "# Note that this equation is over-approximation at shorther wavelength!\n",
    "fwhm_wfe = fwhm_diffraction * sqrt(exp((2*pi*WFE/wl)**2))\n",
    "\n",
    "# Different approximation can be used!\n",
    "# fwhm_wfe = fwhm_diffraction * sqrt(1 + (2*pi*WFE/wl)**2)\n",
    "# fwhm_wfe = fwhm_diffraction *     (1 + (2*pi*WFE/wl)**2)\n",
    "\n",
    "# PSF due to spacecraft pointing stability\n",
    "fwhm_jitter = rms_pointing * 2.35 * np.ones_like(wl)\n",
    "\n",
    "# Final PSF width = quadrature sum of the two\n",
    "fwhm_final = sqrt(fwhm_wfe**2 + fwhm_jitter**2)\n",
    "\n",
    "_ = plt.plot(wl, fwhm_diffraction, label='Diffraction', alpha=0.7)\n",
    "_ = plt.plot(wl, fwhm_wfe, label='Diffraction+WFE', alpha=0.7)\n",
    "_ = plt.plot(wl, fwhm_jitter, label='Jitter', alpha=0.7, linestyle='--')\n",
    "_ = plt.plot(wl, fwhm_final, label='Final', linewidth=3)\n",
    "_ = plt.legend()\n",
    "_ = plt.xlabel('wavelength [$\\mu$m]')\n",
    "_ = plt.ylabel('FWHM [arcsec]')"
   ]
  },
  {
   "cell_type": "code",
   "execution_count": null,
   "id": "conditional-thinking",
   "metadata": {
    "scrolled": false
   },
   "outputs": [],
   "source": [
    "wl  = lambda_mid  # um\n",
    "\n",
    "fwhm_diffraction = 1.22*wl/(D*1e4) * rad2arcsec\n",
    "fwhm_wfe = fwhm_diffraction * sqrt(exp((2*pi*WFE/wl)**2))\n",
    "fwhm_jitter = rms_pointing * 2.35 * np.ones_like(wl)\n",
    "\n",
    "FWHM0 = sqrt(fwhm_wfe**2 + fwhm_jitter**2)\n",
    "wl, FWHM0"
   ]
  },
  {
   "cell_type": "code",
   "execution_count": null,
   "id": "78b0eed1",
   "metadata": {},
   "outputs": [],
   "source": [
    "# How many pixels does a point source occupy?\n",
    "# Effective number of pixels for a Gaussian PSF with FWHM0\n",
    "Npix0 = pi*(FWHM0/theta_pixel)**2\n",
    "Npix0"
   ]
  },
  {
   "cell_type": "markdown",
   "id": "1d4c0bb4",
   "metadata": {},
   "source": [
    "## <span style='color:DarkSlateBlue'> 3. Survey Plan & Design </span>"
   ]
  },
  {
   "cell_type": "markdown",
   "id": "synthetic-genealogy",
   "metadata": {},
   "source": [
    "### Mission cycle"
   ]
  },
  {
   "cell_type": "code",
   "execution_count": null,
   "id": "twelve-nutrition",
   "metadata": {},
   "outputs": [],
   "source": [
    "T_mission = 2  # year\n",
    "resolutionElement_per_survey = 1  # Nyquist = 0.5\n",
    "Sh_Redun  = 2 / resolutionElement_per_survey # per year [2=visit twice]\n",
    "\n",
    "# Survey inefficiency margin\n",
    "# How much will we lose the observing time due to unexpected circumstances?\n",
    "Sh_Inefficiency = 1.2    # 1.0 = perpect, 1.2 = 20% is wasted\n",
    "\n",
    "# All-sky steps per year = (4pi / FOV_spec)\n",
    "Area_allsky = 4*pi*(180/pi)**2  # [deg^2] = 4pi steradian\n",
    "Nsteps_per_year = (Area_allsky/FOV_spec) * Sh_Redun * Sh_Inefficiency\n",
    "\n",
    "# all-sky survey를 위해 1년 동안 필요한 pointing/step 개수\n",
    "Nsteps_per_year"
   ]
  },
  {
   "cell_type": "markdown",
   "id": "actual-eating",
   "metadata": {},
   "source": [
    "### Orbit\n",
    "- Unusable times during an orbit\n",
    "    - Downlink\n",
    "    - SAA (South Atlantic Anomaly): area where Earth's inner Van Allen radiation belt comes closest to Earth's surface (an altitude of 200 km)\n",
    "    - Large slew\n",
    "    - Small slew"
   ]
  },
  {
   "cell_type": "code",
   "execution_count": null,
   "id": "engaging-search",
   "metadata": {},
   "outputs": [],
   "source": [
    "Tmin_orbit = 98.6                 # [min], time per orbit \n",
    "TM_downlink = 60.                 # [sec/orbit] Downlink 시간\n",
    "SAA_time = 415                    # [sec/orbit] South Atlantic Anomaly 시간\n",
    "\n",
    "N_orbits_per_year = 365.25*24*60/Tmin_orbit\n",
    "N_orbits_per_year"
   ]
  },
  {
   "cell_type": "markdown",
   "id": "37d0cb85",
   "metadata": {},
   "source": [
    "### Orbit split to all-sky & deep fields"
   ]
  },
  {
   "cell_type": "code",
   "execution_count": null,
   "id": "49064f07",
   "metadata": {},
   "outputs": [],
   "source": [
    "# Large steps (여러 개의 small step들로 이루어진)\n",
    "lg_steps_per_orbit = 8                          # [/orbit] 한 바퀴당 all-sky에 쓸 large step 개수\n",
    "lg_step_time = Tmin_orbit*60/lg_steps_per_orbit # [sec] large step당 시간\n",
    "\n",
    "lg_SS_time = 90           # [sec]      large slew 당 필요한 시간 (spacecraft 성능)\n",
    "sm_SS_time =  8           # [sec]      small slew 당 필요한 시간 (spacecraft 성능)\n",
    "\n",
    "# Fraction of time to be used fro all-sky\n",
    "# 전체 시간 중 얼마나 전천탐사에 시간을 쓸 것인가?\n",
    "frac_allsky = 0.8   \n",
    "\n",
    "# small steps per one large step to cover all-sky\n",
    "# 전천을 완전히 커버하기 위해, 큰 step 당 필요한 small step 개수\n",
    "sm_steps = Nsteps_per_year / N_orbits_per_year / lg_steps_per_orbit  # [/lg step]\n",
    "sm_steps"
   ]
  },
  {
   "cell_type": "markdown",
   "id": "social-aspect",
   "metadata": {},
   "source": [
    "### All-sky exposure time per channel (= step in this notebook)"
   ]
  },
  {
   "cell_type": "code",
   "execution_count": null,
   "id": "2437f9ec",
   "metadata": {},
   "outputs": [],
   "source": [
    "T_usable_per_orbit = ( Tmin_orbit*60                                   # Total orbit\n",
    "                     - lg_steps_per_orbit * lg_SS_time                 # 큰 스텝 사이의 이동시간\n",
    "                     - lg_steps_per_orbit * (sm_steps-1) * sm_SS_time  # 작은 스텝 사이의 이동시간 (all-sky)\n",
    "                     - TM_downlink                                     # downlink\n",
    "                     - SAA_time )                                      # SAA\n",
    "\n",
    "Tint = T_usable_per_orbit / (lg_steps_per_orbit * sm_steps)\n",
    "Tint *= frac_allsky\n",
    "\n",
    "\n",
    "Tmin_orbit*60       # 한 바퀴 시간 [sec]\n",
    "T_usable_per_orbit  # 한 바퀴당 실제 사용가능한 시간 [sec]\n",
    "TM_downlink         # Downlink 시간\n",
    "SAA_time            # South Atlantic Anomaly 시간\n",
    "Tint                # total integration time"
   ]
  },
  {
   "cell_type": "code",
   "execution_count": null,
   "id": "c21f3090",
   "metadata": {},
   "outputs": [],
   "source": [
    "print(f\"T_mission        = {T_mission:10d} yr\")\n",
    "print(f\"Sh_Redun         = {Sh_Redun:10.2f} survey/yr\")\n",
    "print(f\"Sh_Inefficiency  = {Sh_Inefficiency:10.2f}\")\n",
    "print(f\"T_orbit          = {Tmin_orbit:10.2f} min\")\n",
    "print(f\"T_downlink       = {TM_downlink:10.0f} sec\")\n",
    "print(f\"SAA_time         = {SAA_time:10.0f} sec\")\n",
    "print(f\"N_orbit_per_year = {N_orbits_per_year:10.2f} orbits\")\n",
    "print(\"\")\n",
    "print(f\"lg_SS_time       = {lg_SS_time:10.0f} sec\")\n",
    "print(f\"sm_SS_time       = {sm_SS_time:10.0f} sec\")\n",
    "print(f\"lg_steps         = {lg_steps_per_orbit:10.1f}\")\n",
    "print(\"\")\n",
    "print(f\"All-sky steps    = {Nsteps_per_year:10.2f} step/yr\")\n",
    "print(f\"Tint             = {Tint:10.2f} sec\")"
   ]
  },
  {
   "cell_type": "markdown",
   "id": "e3fcd030",
   "metadata": {},
   "source": [
    "### These are only numbers that matter in the following"
   ]
  },
  {
   "cell_type": "code",
   "execution_count": null,
   "id": "d0cb72b0",
   "metadata": {},
   "outputs": [],
   "source": [
    "# Tint ~ 150"
   ]
  },
  {
   "cell_type": "markdown",
   "id": "43b0b82b",
   "metadata": {},
   "source": [
    "## <span style='color:DarkSlateBlue'> 4. Noise Sources </span>"
   ]
  },
  {
   "cell_type": "markdown",
   "id": "a53b6323",
   "metadata": {},
   "source": [
    "### Readout noise per integration\n",
    "- IR detector sampling scheme"
   ]
  },
  {
   "cell_type": "code",
   "execution_count": null,
   "id": "attempted-insured",
   "metadata": {},
   "outputs": [],
   "source": [
    "dQ_RN_sh = dQ_CDS*np.sqrt(6*Tsamp/Tint) # [e]"
   ]
  },
  {
   "cell_type": "markdown",
   "id": "1ffc7f3c",
   "metadata": {},
   "source": [
    "### Sky background: Zodiacal Light (황도광)\n",
    "- **ZL is time-varying component**, but here we adopet an average\n",
    "- $\\nu I_\\nu$ from ZL\n",
    "- $\\nu I_\\nu$ [nW/m2/sr]\n",
    "- $I_\\nu$ [nW/m2/sr/$\\mu$m]\n"
   ]
  },
  {
   "cell_type": "code",
   "execution_count": null,
   "id": "loaded-restriction",
   "metadata": {},
   "outputs": [],
   "source": [
    "def nuInu_ZL(lambda_um, f_ZL=1.7):\n",
    "    # very rough approximation for ZL\n",
    "    # nuInu(sky): fit for zodiacal light [nW/m2/sr]\n",
    "    # f_ZL = a fudge factor for margin\n",
    "    A_scat = 3800\n",
    "    T_scat = 5500\n",
    "    b_scat = 0.4\n",
    "    A_therm = 5000\n",
    "    T_therm = 270\n",
    "    nuInu = f_ZL * ( A_scat*(lambda_um**b_scat)*((lambda_um)**(-4))/(exp(h*c_ums/(k*T_scat *lambda_um))-1)\n",
    "                    +A_therm*1000000           *((lambda_um)**(-4))/(exp(h*c_ums/(k*T_therm*lambda_um))-1) )\n",
    "    return nuInu"
   ]
  },
  {
   "cell_type": "code",
   "execution_count": null,
   "id": "gorgeous-topic",
   "metadata": {},
   "outputs": [],
   "source": [
    "wl = np.logspace(np.log10(0.3), np.log10(100), 100)   \n",
    "plt.plot(wl, nuInu_ZL(wl))\n",
    "plt.xscale('log')\n",
    "plt.yscale('log')\n",
    "plt.xlabel('wavelength [$\\mu$m]')\n",
    "plt.ylabel(r'$\\nu I_\\nu$ [nW/m2/sr]')"
   ]
  },
  {
   "cell_type": "code",
   "execution_count": null,
   "id": "average-struggle",
   "metadata": {},
   "outputs": [],
   "source": [
    "# Sky background rate\n",
    "# nuInu_sky = surface brightness  [nW/m2/sr]\n",
    "# I_photo = photo-current rate    [e/s]\n",
    "# Q_photo = total counts          [e]\n",
    "\n",
    "nuInu_sky = nuInu_ZL(lambda_mid)   # [nW/m2/sr]\n",
    "I_photo = 1e-9 * nuInu_sky*AOmega*eff_opt*eff_fpa/(R*h*c_ums/lambda_mid)  # [e/s]\n",
    "\n",
    "# Noise in count per obs [e]. \n",
    "# f_margin = 1.2 due to background estimation\n",
    "Q_photo = (I_photo+I_dark)*Tint\n",
    "dQ_photo = np.sqrt( 1.2*(I_photo+I_dark)*Tint )\n",
    "\n",
    "# Noise in count rate [e/s]\n",
    "dI_photo = np.sqrt(dQ_photo**2 + dQ_RN_sh**2)/Tint\n",
    "\n",
    "# Noise in nuInu [nW/M2/sr]\n",
    "dnuInu_sh = (dI_photo/I_photo)*nuInu_sky"
   ]
  },
  {
   "cell_type": "code",
   "execution_count": null,
   "id": "silent-performer",
   "metadata": {},
   "outputs": [],
   "source": [
    "print(f\"wavelength_mid = {lambda_mid:12.3f} um\")\n",
    "print(f\"nuInu_sky      = {nuInu_sky:12.5f} nW/m2/sr\")\n",
    "print(f\"I_photo        = {I_photo:12.5g} e-/s\")\n",
    "print(f\"dI_photo       = {dI_photo:12.5g} e-/s\")\n",
    "print(f\"Q_photo        = {Q_photo:12.5g} e-\")\n",
    "print(f\"dQ_photo       = {dQ_photo:12.5g} e-\")\n",
    "print(f\"dnuInu_sky     = {dnuInu_sh:12.5g} nW/m2/sr\")"
   ]
  },
  {
   "cell_type": "markdown",
   "id": "interested-circuit",
   "metadata": {},
   "source": [
    "### Thermal background from telescope & FPA\n",
    "- $\\nu I_\\nu$ from the instrument [nW/m2/sr]\n",
    "- Blackbody radiation \n",
    " $$ \\nu I_\\nu = \n",
    "    \\dfrac{2h}{c^2}  \\left(\\dfrac{c}{\\lambda}\\right)^4 \n",
    "    \\dfrac{1}{\\exp{\\left(\\dfrac{h c}{k T \\lambda}\\right)} - 1} $$"
   ]
  },
  {
   "cell_type": "code",
   "execution_count": null,
   "id": "virgin-apparel",
   "metadata": {},
   "outputs": [],
   "source": [
    "# Surface brightness in (nu Inu) [nW/m2/sr]\n",
    "# T_scope = 120\n",
    "# T_FPA   = 120\n",
    "\n",
    "# Telescope\n",
    "hc_kTlambda = h * (c_ums/lambda_max) / (k*T_scope)\n",
    "nuInu_scope = (2*h/c**2) * (c_ums / lambda_max)**4 / (np.exp(hc_kTlambda) - 1) / 1e-9\n",
    "\n",
    "# FPA\n",
    "hc_kTlambda = h * (c_ums/lambda_max) / (k*T_FPA)\n",
    "nuInu_FPA   = (2*h/c**2) * (c_ums / lambda_max)**4 / (np.exp(hc_kTlambda) - 1) / 1e-9"
   ]
  },
  {
   "cell_type": "code",
   "execution_count": null,
   "id": "forbidden-tampa",
   "metadata": {},
   "outputs": [],
   "source": [
    "# Iphoto\n",
    "\n",
    "# Count rates [e/s]\n",
    "I_scope = 1e-9 * nuInu_scope * pi*(pixel_size*1e-6)**2/R*eff_LVF*eff_fpa/(h*c_ums/lambda_max)\n",
    "I_FPA   = 1e-9 * nuInu_FPA   * pi*(pixel_size*1e-6)**2          *eff_fpa/(h*c_ums/lambda_max)"
   ]
  },
  {
   "cell_type": "code",
   "execution_count": null,
   "id": "bacterial-pilot",
   "metadata": {},
   "outputs": [],
   "source": [
    "print(f\"wavelength_max = {lambda_max:12.3f} um\")\n",
    "print(f\"nuInu(scope)   = {nuInu_scope:12.3e} nW/m2/sr\")\n",
    "print(f\"nuInu(FPA)     = {nuInu_FPA:12.3e} nW/m2/sr\")\n",
    "print(f\"I(scope)       = {I_scope:12.3e} e-/s\")\n",
    "print(f\"I(FPA)         = {I_FPA:12.3e} e-/s\")"
   ]
  },
  {
   "cell_type": "markdown",
   "id": "administrative-cooler",
   "metadata": {},
   "source": [
    "## <span style='color:DarkSlateBlue'> 5. Sensitivity Estimates </span>"
   ]
  },
  {
   "cell_type": "code",
   "execution_count": null,
   "id": "banner-mediterranean",
   "metadata": {},
   "outputs": [],
   "source": [
    "i_steps = [1]\n",
    "\n",
    "# For all channels in this band\n",
    "i_steps = np.arange(16,dtype=float)\n",
    "\n",
    "lambda_i = lambda_min * (((2*R+1)/(2*R-1))**i_steps)\n",
    "lambda_i\n",
    "\n",
    "# Only for one wavelength\n",
    "# lambda_i = np.array([lambda_mid])\n",
    "\n",
    "# Sky\n",
    "nuInu_sky = nuInu_ZL(lambda_i)\n",
    "I_photo = 1e-9 * nuInu_sky*AOmega*eff_opt*eff_fpa/(R*h*c_ums/lambda_i)\n",
    "\n",
    "# Instrument\n",
    "I_photo = I_photo + I_scope + I_FPA"
   ]
  },
  {
   "cell_type": "markdown",
   "id": "later-egypt",
   "metadata": {},
   "source": [
    "### Extended sources: SB limit"
   ]
  },
  {
   "cell_type": "code",
   "execution_count": null,
   "id": "focal-testimony",
   "metadata": {},
   "outputs": [],
   "source": [
    "# SB noise per pixel: dnuInu [nW/m2/sr] (1sigma)\n",
    "dQ_photo = sqrt( 1.2*(I_photo+I_dark)*Tint )\n",
    "dI_photo = sqrt(dQ_photo**2 + dQ_RN_sh**2) / Tint\n",
    "dnuInu_obs = (dI_photo/I_photo)*(nuInu_sky + nuInu_scope + nuInu_FPA)\n",
    "\n",
    "# Final noise is for the entire mission\n",
    "# - Sh_Redun = 2  # obs per year\n",
    "# - T_mission = 2 # year\n",
    "dnuInu_sh = dnuInu_obs / sqrt(Sh_Redun) / sqrt(T_mission)\n",
    "dnuInu_sh"
   ]
  },
  {
   "cell_type": "markdown",
   "id": "meaning-memorial",
   "metadata": {},
   "source": [
    "### Point sources: flux limit"
   ]
  },
  {
   "cell_type": "code",
   "execution_count": null,
   "id": "strange-celtic",
   "metadata": {},
   "outputs": [],
   "source": [
    "# Flux for point sources: dFnu [uJy] (1sigma)\n",
    "\n",
    "# FWHM of PSF\n",
    "wl = lambda_i\n",
    "\n",
    "FWHM_diffraction = 1.22*wl/(D*1e4) * rad2arcsec\n",
    "FWHM_wfe = FWHM_diffraction * sqrt(exp((2*pi*WFE/wl)**2))\n",
    "FWHM_jitter = rms_pointing * 2.35 * np.ones_like(wl)\n",
    "FWHM = sqrt(FWHM_wfe**2 + FWHM_jitter**2)\n",
    "\n",
    "# N(pixels) for a point-source\n",
    "Npix_ptsrc = pi*(FWHM/theta_pixel)**2\n",
    "\n",
    "# Conversion to flux density & AB magnitude\n",
    "# CHECK!\n",
    "dFnu_sh = sqrt(Npix_ptsrc) * 1e26 * 1e6 * pixel_sr * (dnuInu_sh*1e-9) * (lambda_i/c_ums)\n",
    "mag5sig_sh = -2.5*log10(5*dFnu_sh*1e-6/3631)"
   ]
  },
  {
   "cell_type": "code",
   "execution_count": null,
   "id": "steady-jerusalem",
   "metadata": {
    "scrolled": false
   },
   "outputs": [],
   "source": [
    "if len(lambda_i) == 1:\n",
    "    print(\"lambda_i      = \", lambda_i)\n",
    "    print(\"nuInu_sky     = \", nuInu_sky)\n",
    "    print(\"I_photo       = \", I_photo)\n",
    "    print(\"FWHM          = \", FWHM)\n",
    "    print(\"Npix(ptsrc)   = \", Npix_ptsrc)\n",
    "    print()\n",
    "    print(\"dnuInu_sh     = \", dnuInu_sh)\n",
    "    print(\"dFnu_sh       = \", dFnu_sh)\n",
    "    print(\"mag5sig_sh    = \", mag5sig_sh)"
   ]
  },
  {
   "cell_type": "code",
   "execution_count": null,
   "id": "located-vinyl",
   "metadata": {},
   "outputs": [],
   "source": [
    "# Create Astropy table \n",
    "SB  = u.nW/(u.m)**2/u.sr\n",
    "cnt_rate = u.electron / u.s\n",
    "\n",
    "band = np.zeros_like(lambda_i, dtype='int16') + iband\n",
    "\n",
    "T_sens = (\n",
    "    QTable( [band, lambda_i, nuInu_sky, I_photo, dnuInu_sh, dFnu_sh, mag5sig_sh], \n",
    "             names=('band', 'wavelength', 'nuInu_sky', 'I_photo_sky', 'dnuInu_sh', 'dFnu_sh', 'mag5sig_sh'),\n",
    "             units=(None, u.um, SB, cnt_rate, SB, u.uJy, u.mag) )\n",
    ")\n",
    "\n",
    "# Tweak the print formatting\n",
    "for key in T_sens.colnames:\n",
    "    T_sens[key].info.format = '.4g'\n",
    "    \n",
    "T_sens"
   ]
  },
  {
   "cell_type": "code",
   "execution_count": null,
   "id": "affiliated-mounting",
   "metadata": {},
   "outputs": [],
   "source": [
    "_ = plt.plot(T_sens['wavelength'], T_sens['mag5sig_sh'], 'o-')\n",
    "_ = plt.xlabel('wavelength [$\\mu$m]')\n",
    "_ = plt.ylabel('Flux limit [AB mag]')\n",
    "_ = plt.title('Point Source Sensitivity (5$\\sigma$)')\n",
    "_ = plt.gca().invert_yaxis()"
   ]
  },
  {
   "cell_type": "code",
   "execution_count": null,
   "id": "robust-application",
   "metadata": {},
   "outputs": [],
   "source": [
    "_ = plt.plot(T_sens['wavelength'], T_sens['dFnu_sh'], 'o-')\n",
    "_ = plt.xlabel('wavelength [$\\mu$m]')\n",
    "_ = plt.ylabel('Flux limit [$\\mu$Jy]')\n",
    "_ = plt.title('Point Source Sensitivity (5$\\sigma$)')"
   ]
  },
  {
   "cell_type": "code",
   "execution_count": null,
   "id": "persistent-marble",
   "metadata": {},
   "outputs": [],
   "source": [
    "_ = plt.plot(T_sens['wavelength'], T_sens['dnuInu_sh'], 'o-')\n",
    "_ = plt.xlabel('wavelength [$\\mu$m]')\n",
    "_ = plt.ylabel('Surface brightness limit [$nW/m^2/sr$]')\n",
    "_ = plt.title('Surface brightness Sensitivity per pixel (5$\\sigma$)')"
   ]
  },
  {
   "cell_type": "code",
   "execution_count": null,
   "id": "essential-radar",
   "metadata": {},
   "outputs": [],
   "source": [
    "# In terms of CGS unit\n",
    "# nW/m2/sr = 2.35e-17 erg/s/cm2/arcsec2\n",
    "SB_cgs = T_sens['dnuInu_sh'] * 1e-9 * 1e7 / 1e4 / rad2arcsec**2\n",
    "\n",
    "_ = plt.plot(T_sens['wavelength'], SB_cgs, 'o-')\n",
    "_ = plt.xlabel('wavelength [$\\mu$m]')\n",
    "\n",
    "\n",
    "_ = plt.ylabel('SB limit [$erg/s/cm^2/arcsec^2$]')\n",
    "_ = plt.title('SB Sensitivity per pixel (5$\\sigma$)')"
   ]
  },
  {
   "cell_type": "markdown",
   "id": "binding-halifax",
   "metadata": {},
   "source": [
    "# <span style='color:DarkSlateBlue'> Exercises </span>"
   ]
  },
  {
   "cell_type": "markdown",
   "id": "interesting-whole",
   "metadata": {},
   "source": [
    "## 3.1 Assume that SPHEREx is broken and can be cooled down only 200K instead of 50-80K. What would happen to the sensitivity?\n",
    "\n",
    "## 3.2 (Advanced) Based on this notebook, re-produce the full prediction for SPHEREx All-sky and deep field sensitiviey plot.\n",
    "\n",
    "## 3.3 (Advanced) Design a new space mission following mission goals\n",
    "- **Goal**: We want to detect Ly$\\alpha$ emission from first galaxies at z=10-20 (if exist) using similar LVF mapping technology. \n",
    "- Basic specification\n",
    "    - wavelength range = 1 - 2$\\mu$m\n",
    "    - R = 100\n",
    "    - survey area = 1000 deg$^2$\n",
    "    - point-source sensitivity = 0.5e-17 erg/s/cm$^2$\n",
    "    - pixel scale = 0.25 arcsec/pixel\n",
    "\n",
    "## 3.4 (Advanced) Estimate sensitivity assuming that SPHEREx is a ground-based telescope."
   ]
  }
 ],
 "metadata": {
  "kernelspec": {
   "display_name": "Python 3 (ipykernel)",
   "language": "python",
   "name": "python3"
  },
  "language_info": {
   "codemirror_mode": {
    "name": "ipython",
    "version": 3
   },
   "file_extension": ".py",
   "mimetype": "text/x-python",
   "name": "python",
   "nbconvert_exporter": "python",
   "pygments_lexer": "ipython3",
   "version": "3.9.12"
  }
 },
 "nbformat": 4,
 "nbformat_minor": 5
}
