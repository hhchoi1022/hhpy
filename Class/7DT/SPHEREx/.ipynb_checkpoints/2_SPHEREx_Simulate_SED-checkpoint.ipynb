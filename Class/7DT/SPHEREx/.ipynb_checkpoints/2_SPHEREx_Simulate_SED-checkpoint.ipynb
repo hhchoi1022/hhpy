{
 "cells": [
  {
   "cell_type": "markdown",
   "id": "384610d8",
   "metadata": {},
   "source": [
    "# 2_SPHEREx_Simulate_SED\n",
    "# Simulate SPHEREx Photometry for a Given Input Spectrum\n",
    "\n",
    "## Authors\n",
    "- Yujin Yang, Woong-Seob Jeong (KASI SPHEREx Team)\n",
    "\n",
    "## Goal\n",
    "- Understand synthetic photometry\n",
    "- Simulate SPHEREx photometry for Input Spectra **(without noise)**"
   ]
  },
  {
   "cell_type": "markdown",
   "id": "intelligent-tender",
   "metadata": {},
   "source": [
    "## <span style='color:DarkSlateBlue'> Setting for this notebook </span>"
   ]
  },
  {
   "cell_type": "code",
   "execution_count": 1,
   "id": "07eaa036",
   "metadata": {},
   "outputs": [],
   "source": [
    "from IPython.core.interactiveshell import InteractiveShell\n",
    "InteractiveShell.ast_node_interactivity = \"last_expr\""
   ]
  },
  {
   "cell_type": "code",
   "execution_count": 2,
   "id": "5eac30e3",
   "metadata": {},
   "outputs": [],
   "source": [
    "import os\n",
    "import numpy as np\n",
    "import matplotlib as mpl\n",
    "import matplotlib.pyplot as plt\n",
    "\n",
    "from scipy.integrate import trapezoid\n",
    "from astropy.table import Table, join, vstack\n",
    "from astropy.modeling.models import Gaussian1D\n",
    "\n",
    "np.set_printoptions(threshold=np.inf)\n",
    "mpl.rcParams[\"figure.dpi\"] = 150"
   ]
  },
  {
   "cell_type": "markdown",
   "id": "private-blair",
   "metadata": {},
   "source": [
    "## <span style='color:DarkSlateBlue'> Helper functions </span>"
   ]
  },
  {
   "cell_type": "code",
   "execution_count": 3,
   "id": "28ba94c3",
   "metadata": {},
   "outputs": [],
   "source": [
    "# To remove duplicate entries in the EL COSMOS SED table. \n",
    "# Otherwise, the numerical integration will fail.\n",
    "def remove_duplicate_in_spec(wl, ff):\n",
    "    uq, uq_ind = np.unique(wl, return_index=True, return_inverse=False)\n",
    "    wl = wl[uq_ind]\n",
    "    ff = ff[uq_ind]"
   ]
  },
  {
   "cell_type": "code",
   "execution_count": 4,
   "id": "40142169",
   "metadata": {},
   "outputs": [],
   "source": [
    "# Top-hat like filter transmission curve\n",
    "def tophat_trans(x, center=0, fwhm=1, smoothness=0.2):\n",
    "\n",
    "    from scipy.special import erf, erfc\n",
    "    \n",
    "    t_left  = erfc(+((2*(x-center)/fwhm)-1)/smoothness)/2 \n",
    "    t_right = erfc(-((2*(x-center)/fwhm)+1)/smoothness)/2\n",
    "    \n",
    "    return (t_left*t_right)"
   ]
  },
  {
   "cell_type": "markdown",
   "id": "086527b2",
   "metadata": {},
   "source": [
    "## <span style='color:DarkSlateBlue'> 1. Synthetic Photometry </span>\n",
    "- Concept\n",
    "- magnitude system\n",
    "- flux vs. flux density in $\\lambda$, $\\nu$"
   ]
  },
  {
   "cell_type": "markdown",
   "id": "freelance-tuner",
   "metadata": {},
   "source": [
    "### Our own (quick & dirty) synthetic photometry routine"
   ]
  },
  {
   "cell_type": "code",
   "execution_count": 5,
   "id": "94759ed0",
   "metadata": {},
   "outputs": [],
   "source": [
    "def synth_phot(wave, flux, wave_lvf, resp_lvf, tol=1e-3):\n",
    "    \"\"\"\n",
    "    Quick synthetic photometry routine.\n",
    "\n",
    "    Parameters\n",
    "    ----------\n",
    "    wave : `numpy.ndarray`\n",
    "        wavelength of input spectrum.\n",
    "    flux : `numpy.ndarray`\n",
    "        flux density of input spectrum in f_nu unit\n",
    "    wave_lvf : `numpy.ndarray`\n",
    "        wavelength of the response function\n",
    "    resp_lvf : `numpy.ndarray`\n",
    "        response function. assume that this is a QE.\n",
    "    tol : float, optional\n",
    "        Consider only wavelength range above this tolerence (peak * tol).\n",
    "        The default is 1e-3.\n",
    "\n",
    "    Returns\n",
    "    -------\n",
    "    Astropy.table with [wavelength, f_nu]\n",
    "        wavelength is the center of the response function\n",
    "\n",
    "    \"\"\"\n",
    "    index_filt, = np.where(resp_lvf > resp_lvf.max()*tol)\n",
    "\n",
    "    index_flux, = np.where(np.logical_and( wave > wave_lvf[index_filt].min(), \n",
    "                                           wave < wave_lvf[index_filt].max() ))\n",
    "\n",
    "    wave_resamp = np.concatenate( (wave[index_flux], wave_lvf[index_filt]) )\n",
    "    wave_resamp.sort()\n",
    "    wave_resamp = np.unique(wave_resamp)\n",
    "    flux_resamp = np.interp(wave_resamp, wave, flux)\n",
    "    resp_resamp = np.interp(wave_resamp, wave_lvf, resp_lvf)\n",
    "\n",
    "    return trapezoid(resp_resamp / wave_resamp * flux_resamp, wave_resamp) \\\n",
    "         / trapezoid(resp_resamp / wave_resamp, wave_resamp)"
   ]
  },
  {
   "cell_type": "markdown",
   "id": "dominican-equation",
   "metadata": {},
   "source": [
    "### Sample Data - EL COSMOS\n",
    "- Use model spectra from EL-COSMOS Database\n",
    "- EL COSMOS (Saito et al. 2020)\n",
    "    - The Synthetic Emission Line COSMOS catalogue: Hα and [O II] galaxy luminosity functions and counts at 0.3<z<2.5\n",
    "    - https://ui.adsabs.harvard.edu/abs/2020MNRAS.494..199S/abstract\n",
    "    - http://cesam.lam.fr/aspic/files/elcosmos/readme_elcosmos.html\n",
    "    - http://cesam.lam.fr/aspic/index/download#elcosmos"
   ]
  },
  {
   "cell_type": "code",
   "execution_count": 9,
   "id": "c4eaa364",
   "metadata": {},
   "outputs": [
    {
     "data": {
      "text/plain": [
       "'/home/hhchoi1022/Desktop/Gitrepo/7DT/SPHEREx'"
      ]
     },
     "execution_count": 9,
     "metadata": {},
     "output_type": "execute_result"
    }
   ],
   "source": [
    "os.getcwd()"
   ]
  },
  {
   "cell_type": "code",
   "execution_count": 10,
   "id": "c8a5f01c",
   "metadata": {},
   "outputs": [
    {
     "name": "stdout",
     "output_type": "stream",
     "text": [
      "ELCOSMOS/sed_310412.fits\n"
     ]
    },
    {
     "ename": "FileNotFoundError",
     "evalue": "[Errno 2] No such file or directory: 'ELCOSMOS/sed_310412.fits'",
     "output_type": "error",
     "traceback": [
      "\u001b[0;31m---------------------------------------------------------------------------\u001b[0m",
      "\u001b[0;31mFileNotFoundError\u001b[0m                         Traceback (most recent call last)",
      "\u001b[0;32m/tmp/ipykernel_4152327/503294267.py\u001b[0m in \u001b[0;36m<module>\u001b[0;34m\u001b[0m\n\u001b[1;32m      4\u001b[0m \u001b[0mfilename\u001b[0m \u001b[0;34m=\u001b[0m \u001b[0;34mf'ELCOSMOS/sed_{id_elcosmos:06d}.fits'\u001b[0m\u001b[0;34m\u001b[0m\u001b[0;34m\u001b[0m\u001b[0m\n\u001b[1;32m      5\u001b[0m \u001b[0mprint\u001b[0m\u001b[0;34m(\u001b[0m\u001b[0mfilename\u001b[0m\u001b[0;34m)\u001b[0m\u001b[0;34m\u001b[0m\u001b[0;34m\u001b[0m\u001b[0m\n\u001b[0;32m----> 6\u001b[0;31m \u001b[0mT\u001b[0m \u001b[0;34m=\u001b[0m \u001b[0mTable\u001b[0m\u001b[0;34m.\u001b[0m\u001b[0mread\u001b[0m\u001b[0;34m(\u001b[0m\u001b[0mfilename\u001b[0m\u001b[0;34m)\u001b[0m\u001b[0;34m\u001b[0m\u001b[0;34m\u001b[0m\u001b[0m\n\u001b[0m\u001b[1;32m      7\u001b[0m \u001b[0mT\u001b[0m\u001b[0;34m\u001b[0m\u001b[0;34m\u001b[0m\u001b[0m\n",
      "\u001b[0;32m~/anaconda3/envs/hhchoi1022/lib/python3.7/site-packages/astropy/table/connect.py\u001b[0m in \u001b[0;36m__call__\u001b[0;34m(self, *args, **kwargs)\u001b[0m\n\u001b[1;32m     59\u001b[0m         \u001b[0mdescriptions\u001b[0m \u001b[0;34m=\u001b[0m \u001b[0mkwargs\u001b[0m\u001b[0;34m.\u001b[0m\u001b[0mpop\u001b[0m\u001b[0;34m(\u001b[0m\u001b[0;34m'descriptions'\u001b[0m\u001b[0;34m,\u001b[0m \u001b[0;32mNone\u001b[0m\u001b[0;34m)\u001b[0m\u001b[0;34m\u001b[0m\u001b[0;34m\u001b[0m\u001b[0m\n\u001b[1;32m     60\u001b[0m \u001b[0;34m\u001b[0m\u001b[0m\n\u001b[0;32m---> 61\u001b[0;31m         \u001b[0mout\u001b[0m \u001b[0;34m=\u001b[0m \u001b[0mregistry\u001b[0m\u001b[0;34m.\u001b[0m\u001b[0mread\u001b[0m\u001b[0;34m(\u001b[0m\u001b[0mcls\u001b[0m\u001b[0;34m,\u001b[0m \u001b[0;34m*\u001b[0m\u001b[0margs\u001b[0m\u001b[0;34m,\u001b[0m \u001b[0;34m**\u001b[0m\u001b[0mkwargs\u001b[0m\u001b[0;34m)\u001b[0m\u001b[0;34m\u001b[0m\u001b[0;34m\u001b[0m\u001b[0m\n\u001b[0m\u001b[1;32m     62\u001b[0m \u001b[0;34m\u001b[0m\u001b[0m\n\u001b[1;32m     63\u001b[0m         \u001b[0;31m# For some readers (e.g., ascii.ecsv), the returned `out` class is not\u001b[0m\u001b[0;34m\u001b[0m\u001b[0;34m\u001b[0m\u001b[0;34m\u001b[0m\u001b[0m\n",
      "\u001b[0;32m~/anaconda3/envs/hhchoi1022/lib/python3.7/site-packages/astropy/io/registry.py\u001b[0m in \u001b[0;36mread\u001b[0;34m(cls, format, cache, *args, **kwargs)\u001b[0m\n\u001b[1;32m    510\u001b[0m                     \u001b[0;32mtry\u001b[0m\u001b[0;34m:\u001b[0m\u001b[0;34m\u001b[0m\u001b[0;34m\u001b[0m\u001b[0m\n\u001b[1;32m    511\u001b[0m                         \u001b[0mctx\u001b[0m \u001b[0;34m=\u001b[0m \u001b[0mget_readable_fileobj\u001b[0m\u001b[0;34m(\u001b[0m\u001b[0margs\u001b[0m\u001b[0;34m[\u001b[0m\u001b[0;36m0\u001b[0m\u001b[0;34m]\u001b[0m\u001b[0;34m,\u001b[0m \u001b[0mencoding\u001b[0m\u001b[0;34m=\u001b[0m\u001b[0;34m'binary'\u001b[0m\u001b[0;34m,\u001b[0m \u001b[0mcache\u001b[0m\u001b[0;34m=\u001b[0m\u001b[0mcache\u001b[0m\u001b[0;34m)\u001b[0m\u001b[0;34m\u001b[0m\u001b[0;34m\u001b[0m\u001b[0m\n\u001b[0;32m--> 512\u001b[0;31m                         \u001b[0mfileobj\u001b[0m \u001b[0;34m=\u001b[0m \u001b[0mctx\u001b[0m\u001b[0;34m.\u001b[0m\u001b[0m__enter__\u001b[0m\u001b[0;34m(\u001b[0m\u001b[0;34m)\u001b[0m\u001b[0;34m\u001b[0m\u001b[0;34m\u001b[0m\u001b[0m\n\u001b[0m\u001b[1;32m    513\u001b[0m                     \u001b[0;32mexcept\u001b[0m \u001b[0mOSError\u001b[0m\u001b[0;34m:\u001b[0m\u001b[0;34m\u001b[0m\u001b[0;34m\u001b[0m\u001b[0m\n\u001b[1;32m    514\u001b[0m                         \u001b[0;32mraise\u001b[0m\u001b[0;34m\u001b[0m\u001b[0;34m\u001b[0m\u001b[0m\n",
      "\u001b[0;32m~/anaconda3/envs/hhchoi1022/lib/python3.7/contextlib.py\u001b[0m in \u001b[0;36m__enter__\u001b[0;34m(self)\u001b[0m\n\u001b[1;32m    110\u001b[0m         \u001b[0;32mdel\u001b[0m \u001b[0mself\u001b[0m\u001b[0;34m.\u001b[0m\u001b[0margs\u001b[0m\u001b[0;34m,\u001b[0m \u001b[0mself\u001b[0m\u001b[0;34m.\u001b[0m\u001b[0mkwds\u001b[0m\u001b[0;34m,\u001b[0m \u001b[0mself\u001b[0m\u001b[0;34m.\u001b[0m\u001b[0mfunc\u001b[0m\u001b[0;34m\u001b[0m\u001b[0;34m\u001b[0m\u001b[0m\n\u001b[1;32m    111\u001b[0m         \u001b[0;32mtry\u001b[0m\u001b[0;34m:\u001b[0m\u001b[0;34m\u001b[0m\u001b[0;34m\u001b[0m\u001b[0m\n\u001b[0;32m--> 112\u001b[0;31m             \u001b[0;32mreturn\u001b[0m \u001b[0mnext\u001b[0m\u001b[0;34m(\u001b[0m\u001b[0mself\u001b[0m\u001b[0;34m.\u001b[0m\u001b[0mgen\u001b[0m\u001b[0;34m)\u001b[0m\u001b[0;34m\u001b[0m\u001b[0;34m\u001b[0m\u001b[0m\n\u001b[0m\u001b[1;32m    113\u001b[0m         \u001b[0;32mexcept\u001b[0m \u001b[0mStopIteration\u001b[0m\u001b[0;34m:\u001b[0m\u001b[0;34m\u001b[0m\u001b[0;34m\u001b[0m\u001b[0m\n\u001b[1;32m    114\u001b[0m             \u001b[0;32mraise\u001b[0m \u001b[0mRuntimeError\u001b[0m\u001b[0;34m(\u001b[0m\u001b[0;34m\"generator didn't yield\"\u001b[0m\u001b[0;34m)\u001b[0m \u001b[0;32mfrom\u001b[0m \u001b[0;32mNone\u001b[0m\u001b[0;34m\u001b[0m\u001b[0;34m\u001b[0m\u001b[0m\n",
      "\u001b[0;32m~/anaconda3/envs/hhchoi1022/lib/python3.7/site-packages/astropy/utils/data.py\u001b[0m in \u001b[0;36mget_readable_fileobj\u001b[0;34m(name_or_obj, encoding, cache, show_progress, remote_timeout, sources, http_headers)\u001b[0m\n\u001b[1;32m    260\u001b[0m                 \u001b[0mtimeout\u001b[0m\u001b[0;34m=\u001b[0m\u001b[0mremote_timeout\u001b[0m\u001b[0;34m,\u001b[0m \u001b[0msources\u001b[0m\u001b[0;34m=\u001b[0m\u001b[0msources\u001b[0m\u001b[0;34m,\u001b[0m\u001b[0;34m\u001b[0m\u001b[0;34m\u001b[0m\u001b[0m\n\u001b[1;32m    261\u001b[0m                 http_headers=http_headers)\n\u001b[0;32m--> 262\u001b[0;31m         \u001b[0mfileobj\u001b[0m \u001b[0;34m=\u001b[0m \u001b[0mio\u001b[0m\u001b[0;34m.\u001b[0m\u001b[0mFileIO\u001b[0m\u001b[0;34m(\u001b[0m\u001b[0mname_or_obj\u001b[0m\u001b[0;34m,\u001b[0m \u001b[0;34m'r'\u001b[0m\u001b[0;34m)\u001b[0m\u001b[0;34m\u001b[0m\u001b[0;34m\u001b[0m\u001b[0m\n\u001b[0m\u001b[1;32m    263\u001b[0m         \u001b[0;32mif\u001b[0m \u001b[0mis_url\u001b[0m \u001b[0;32mand\u001b[0m \u001b[0;32mnot\u001b[0m \u001b[0mcache\u001b[0m\u001b[0;34m:\u001b[0m\u001b[0;34m\u001b[0m\u001b[0;34m\u001b[0m\u001b[0m\n\u001b[1;32m    264\u001b[0m             \u001b[0mdelete_fds\u001b[0m\u001b[0;34m.\u001b[0m\u001b[0mappend\u001b[0m\u001b[0;34m(\u001b[0m\u001b[0mfileobj\u001b[0m\u001b[0;34m)\u001b[0m\u001b[0;34m\u001b[0m\u001b[0;34m\u001b[0m\u001b[0m\n",
      "\u001b[0;31mFileNotFoundError\u001b[0m: [Errno 2] No such file or directory: 'ELCOSMOS/sed_310412.fits'"
     ]
    }
   ],
   "source": [
    "id_elcosmos, z = 289608, 0.2001 # spiral galaxy\n",
    "id_elcosmos, z = 310412, 0.1405 # early-type\n",
    "\n",
    "filename = f'ELCOSMOS/sed_{id_elcosmos:06d}.fits'\n",
    "print(filename)\n",
    "T = Table.read(filename)\n",
    "T"
   ]
  },
  {
   "cell_type": "code",
   "execution_count": null,
   "id": "d21cb201",
   "metadata": {
    "scrolled": false
   },
   "outputs": [],
   "source": [
    "plt.plot(T['wavelength'], T['flux'])\n",
    "plt.xlabel(r'observed wavelength $[\\AA]$')\n",
    "plt.ylabel(r'$f_{\\lambda}$  [$erg/s/cm^2/\\AA$] ')"
   ]
  },
  {
   "cell_type": "code",
   "execution_count": null,
   "id": "classified-second",
   "metadata": {},
   "outputs": [],
   "source": [
    "fig, axes = plt.subplots(2,1)\n",
    "\n",
    "axes[0].plot(T['wavelength'], T['flux'])\n",
    "axes[0].set_xlabel(r'observed wavelength $[\\AA]$')\n",
    "axes[0].set_ylabel(r'$f_{\\lambda}$  [$erg/s/cm^2/\\AA$] ')\n",
    "axes[0].set_xscale('log')\n",
    "\n",
    "axes[1].plot(T['wavelength'], T['flux'])\n",
    "axes[1].set_xlabel(r'observed wavelength $[\\AA]$')\n",
    "axes[1].set_ylabel(r'$f_{\\lambda}$  [$erg/s/cm^2/\\AA$] ')\n",
    "axes[1].set_xscale('log')\n",
    "axes[1].set_yscale('log')"
   ]
  },
  {
   "cell_type": "code",
   "execution_count": null,
   "id": "split-pursuit",
   "metadata": {},
   "outputs": [],
   "source": [
    "fig, axes = plt.subplots(2,1)\n",
    "\n",
    "axes[0].plot(T['wavelength']/(1+z), T['flux'])\n",
    "axes[0].set_xlabel(r'rest-frame wavelength $[\\AA]$')\n",
    "axes[0].set_ylabel(r'$f_{\\lambda}$  [$erg/s/cm^2/\\AA$] ')\n",
    "axes[0].set_xscale('log')\n",
    "axes[0].set_xlim(8e2,5e4)\n",
    "axes[0].set_ylim(1e-18,4e-15)\n",
    "\n",
    "axes[1].plot(T['wavelength']/(1+z), T['flux'])\n",
    "axes[1].set_xlabel(r'rest-frame wavelength $[\\AA]$')\n",
    "axes[1].set_ylabel(r'$f_{\\lambda}$  [$erg/s/cm^2/\\AA$] ')\n",
    "axes[1].set_xscale('log')\n",
    "axes[1].set_yscale('log')\n",
    "axes[1].set_xlim(8e2,5e4)\n",
    "axes[1].set_ylim(1e-18,4e-15)\n",
    "\n",
    "wl_line = [1216, 3727, 4863, 5007, 6563]\n",
    "for w in wl_line:\n",
    "    axes[0].vlines(wl_line, axes[0].get_ylim()[0], axes[0].get_ylim()[1], color='red', alpha=0.1, linewidth=1)\n",
    "    axes[1].vlines(wl_line, axes[0].get_ylim()[0], axes[0].get_ylim()[1], color='red', alpha=0.1, linewidth=1)"
   ]
  },
  {
   "cell_type": "markdown",
   "id": "religious-financing",
   "metadata": {},
   "source": [
    "### Conversion to $f_\\nu$\n",
    "- 1.6um bump feature"
   ]
  },
  {
   "cell_type": "code",
   "execution_count": null,
   "id": "cb726718",
   "metadata": {},
   "outputs": [],
   "source": [
    "wl = T['wavelength'] # angstrom\n",
    "f_lambda = T['flux'] # erg/s/cm2/A\n",
    "\n",
    "f_nu = f_lambda * wl * (wl / 2.99792e18) / (1e-23 * 1e-6)  # micro Jansky\n",
    "wl = wl / 10000      # micron\n",
    "\n",
    "# Fix the input SED table\n",
    "remove_duplicate_in_spec(wl, f_nu)\n",
    "\n",
    "# plot\n",
    "plt.figure(figsize=(7,3))\n",
    "plt.plot(wl, f_nu)\n",
    "plt.xlabel(r'observed wavelength [$\\mu m$]')\n",
    "plt.ylabel(r'$f_{\\nu}$ [$\\mu Jy$]')\n",
    "plt.yscale('log')\n",
    "plt.xlim(0.0, 5.5)\n",
    "plt.ylim(1e1,1e4)\n",
    "\n",
    "plt.figure(figsize=(7,3))\n",
    "plt.plot(wl/(1+z), f_nu)\n",
    "plt.xlabel(r'rest-frame wavelength [$\\mu m$]')\n",
    "plt.ylabel(r'$f_{\\nu}$ [$\\mu Jy$]')\n",
    "plt.yscale('log')\n",
    "plt.xlim(0., 5.5)\n",
    "plt.ylim(1e1,1e4)"
   ]
  },
  {
   "cell_type": "markdown",
   "id": "b1a9bfa4",
   "metadata": {},
   "source": [
    "## <span style='color:DarkSlateBlue'> 2. SPHEREx LVF (from Tutorial 1) </span>"
   ]
  },
  {
   "cell_type": "code",
   "execution_count": null,
   "id": "a9b97f39",
   "metadata": {
    "scrolled": false
   },
   "outputs": [],
   "source": [
    "lmin = np.array([0.75, 1.11, 1.64, 2.42, 3.82, 4.42])  # hard-coded\n",
    "lmax = np.array([1.11, 1.64, 2.42, 3.82, 4.42, 5.00])  # hard-coded\n",
    "resolving_power = np.array([ 41, 41, 41, 35, 110, 130])\n",
    "\n",
    "for iband, (l1, l2, R) in enumerate(zip(lmin, lmax, resolving_power)):\n",
    "    i_steps  = np.arange(16, dtype=float)\n",
    "    lambda_i = l1 * (((2*R+1)/(2*R-1))**i_steps)\n",
    "    plt.figure(figsize=(8,2))\n",
    "    plt.title(f'Band {iband+1}, R = {R}')\n",
    "    for ii, wl_cen in enumerate(lambda_i):\n",
    "        stddev = wl_cen / R / 2.35\n",
    "        lvf_profile = Gaussian1D(amplitude=1.0, mean=wl_cen, stddev=stddev)\n",
    "        wave_lvf = np.linspace(0.7, 5.1, 5001)\n",
    "        plt.plot(wave_lvf, lvf_profile(wave_lvf))\n",
    "        # plt.plot(wave_lvf, tophat_trans(wave_lvf, center=wl_cen, fwhm=wl_cen/R))"
   ]
  },
  {
   "cell_type": "markdown",
   "id": "c243bbda",
   "metadata": {},
   "source": [
    "## <span style='color:DarkSlateBlue'> 3. Synthetic Photometry for SPHEREx </span>\n",
    "- Note that here we are using only LVF transmission for the response function to estimate $\\bar{f_\\nu}$. Why is it OK?\n",
    "- Example: synthetic photometry with SDSS\n",
    "![astroML plot](https://www.astroml.org/_images/plot_sdss_filters_1.png)"
   ]
  },
  {
   "cell_type": "code",
   "execution_count": null,
   "id": "76a32a78",
   "metadata": {
    "scrolled": false
   },
   "outputs": [],
   "source": [
    "mpl.rcParams['figure.dpi'] = 100\n",
    "\n",
    "_ = plt.figure(figsize=(10,5))\n",
    "_ = plt.plot(wl, f_nu)\n",
    "\n",
    "iband = 0\n",
    "T_syn = None\n",
    "for l1, l2, R in zip(lmin, lmax, resolving_power):\n",
    "    iband += 1\n",
    "    i_steps  = np.arange(16, dtype=float)\n",
    "    lambda_i = l1 * (((2*R+1)/(2*R-1))**i_steps)\n",
    "\n",
    "    flux_i = np.zeros_like(lambda_i)\n",
    "    \n",
    "    for ii, wl_cen in enumerate(lambda_i):\n",
    "        stddev = wl_cen / R / 2.35\n",
    "        lvf_profile = Gaussian1D(amplitude=1.0, mean=wl_cen, stddev=stddev)\n",
    "        wave_lvf = np.arange(0.5, 5.5, 0.001)\n",
    "        resp_lvf = lvf_profile(wave_lvf)\n",
    "        resp_lvf = resp_lvf / trapezoid(resp_lvf, wave_lvf)\n",
    "        \n",
    "        flux_i[ii] = synth_phot(wl, f_nu, wave_lvf, resp_lvf)\n",
    "\n",
    "    band_i = np.zeros(len(lambda_i)) + iband\n",
    "    _ = plt.plot(lambda_i, flux_i,'o', alpha=0.5)\n",
    "    \n",
    "    # Make a photometry table for this band and stack\n",
    "    t = Table([band_i, lambda_i, flux_i], names=('band', 'wavelength', 'f_nu'))\n",
    "    if T_syn is None:\n",
    "        T_syn = t\n",
    "    else:\n",
    "        T_syn = vstack([T_syn, t])\n",
    "\n",
    "plt.yscale('log')\n",
    "plt.xlim(0.0, 5.5)\n",
    "plt.ylim(1e1,1e4)\n",
    "plt.xlabel(r'observed wavelength [$\\mu m$]')\n",
    "plt.ylabel(r'$f_{\\nu}$ [$\\mu Jy$]')"
   ]
  },
  {
   "cell_type": "code",
   "execution_count": null,
   "id": "e175f776",
   "metadata": {
    "scrolled": false
   },
   "outputs": [],
   "source": [
    "T_syn"
   ]
  },
  {
   "cell_type": "markdown",
   "id": "aafc63df",
   "metadata": {},
   "source": [
    "## <span style='color:DarkSlateBlue'> 4. Compare with SPHEREx Detection Limits </span>"
   ]
  },
  {
   "cell_type": "markdown",
   "id": "accessory-jefferson",
   "metadata": {},
   "source": [
    "### SPHEREx Publicly Released Sensitivity Estimates\n",
    "- Point source & surface brightness sensitivity from SPHEREx Public-products\n",
    "- https://github.com/SPHEREx/Public-products"
   ]
  },
  {
   "cell_type": "code",
   "execution_count": null,
   "id": "50e76e84",
   "metadata": {},
   "outputs": [],
   "source": [
    "def plot_SPHEREx_limit(lambda_um, fnu_limit, ax=None, label=None, **kwarg):\n",
    "    lambda_min = np.array([0.75, 1.11, 1.64, 2.42, 3.82, 4.42])  # hard-coded\n",
    "    lambda_max = np.array([1.11, 1.64, 2.42, 3.82, 4.42, 5.00])  # hard-coded\n",
    "    color = ['darkblue', 'blue', 'green', 'gold', 'red', 'darkred']\n",
    "\n",
    "    if ax is None:\n",
    "        fig, ax = plt.subplots()\n",
    "    \n",
    "    for lmin, lmax, c in zip(lambda_min, lambda_max, color):\n",
    "        gd, = np.where(np.logical_and(lambda_um >= lmin,\n",
    "                                      lambda_um < lmax))\n",
    "        ax.plot(lambda_um[gd], fnu_limit[gd], color=c, label=label, **kwarg)"
   ]
  },
  {
   "cell_type": "code",
   "execution_count": null,
   "id": "7aff79df",
   "metadata": {},
   "outputs": [],
   "source": [
    "CBE = Table.read('data/Public-products/Point_Source_Sensitivity_v28_base_cbe.txt', format='ascii.no_header')\n",
    "lambda_um = CBE['col1']\n",
    "mag_5sig = CBE['col2']\n",
    "fnu_limit = 10**(-0.4*(mag_5sig-23.9))\n",
    "\n",
    "plot_SPHEREx_limit(lambda_um, fnu_limit)"
   ]
  },
  {
   "cell_type": "code",
   "execution_count": null,
   "id": "ranging-cleveland",
   "metadata": {},
   "outputs": [],
   "source": [
    "fig, ax = plt.subplots(1, figsize=(10,5))\n",
    "ax.plot(wl, f_nu)\n",
    "plt.xlabel(r'observed wavelength [$\\mu m$]')\n",
    "plt.ylabel(r'$f_{\\nu}$ [$\\mu Jy$]')\n",
    "plt.ylim(10, 3.5e3)\n",
    "# plt.yscale('log')\n",
    "\n",
    "for iband in [1,2,3,4,5,6]:\n",
    "    this, = np.where(T_syn['band'] == iband)\n",
    "    _ = ax.plot(T_syn['wavelength'][this], T_syn['f_nu'][this], 'o', alpha=0.5)\n",
    "\n",
    "plot_SPHEREx_limit(lambda_um, fnu_limit, ax=ax)"
   ]
  },
  {
   "cell_type": "markdown",
   "id": "832b3da8",
   "metadata": {},
   "source": [
    "## <span style='color:DarkSlateBlue'> 5. Add 7DS without atmospheric absorption </span>"
   ]
  },
  {
   "cell_type": "code",
   "execution_count": null,
   "id": "2e529b44",
   "metadata": {},
   "outputs": [],
   "source": [
    "plt.figure(figsize=(8, 4))\n",
    "plt.title(f'7DS filter transmission')\n",
    "\n",
    "lambda_7ds = np.arange(4000., 8000., 100)\n",
    "flux_7ds = np.zeros_like(lambda_7ds)\n",
    "\n",
    "for ii, wl_cen in enumerate(lambda_7ds):\n",
    "    fwhm = 100\n",
    "    wave_lvf = np.linspace(0.1, 1.0, 1001)\n",
    "    resp_lvf = tophat_trans(wave_lvf, center=wl_cen/1e4, fwhm=200/1e4)\n",
    "    plt.plot(wave_lvf, resp_lvf)\n",
    "    \n",
    "    flux_7ds[ii] = synth_phot(wl, f_nu, wave_lvf, resp_lvf)\n",
    "\n",
    "plt.xlim(0.3, 0.9)"
   ]
  },
  {
   "cell_type": "code",
   "execution_count": null,
   "id": "02d58df0",
   "metadata": {},
   "outputs": [],
   "source": [
    "T_syn_7ds = Table([lambda_7ds/1e4, flux_7ds], names=('wavelength', 'f_nu'))\n",
    "T_syn_7ds"
   ]
  },
  {
   "cell_type": "markdown",
   "id": "44f1e096",
   "metadata": {},
   "source": [
    "### Plot 7DS + SPHEREx data\n",
    "- 7DS: 40 Nyquist sampled (x N_epoch)\n",
    "- SPHEREx: 96 x 2 Nyquist sampled data x 2 survay"
   ]
  },
  {
   "cell_type": "code",
   "execution_count": null,
   "id": "3f612e2e",
   "metadata": {},
   "outputs": [],
   "source": [
    "fig, ax = plt.subplots(1, figsize=(10,5))\n",
    "ax.plot(wl, f_nu)\n",
    "plt.xlabel(r'observed wavelength [$\\mu m$]')\n",
    "plt.ylabel(r'$f_{\\nu}$ [$\\mu Jy$]')\n",
    "plt.xlim(0, 6)\n",
    "# plt.xlim(0, 1.5)\n",
    "plt.ylim(10, 3.5e3)\n",
    "plt.yscale('log')\n",
    "\n",
    "plt.title('7DS + SPHEREx Synthetic Photometry: 40 Nyquist sampled + 96 critically sampled points)')\n",
    "\n",
    "for iband in [1,2,3,4,5,6]:\n",
    "    this, = np.where(T_syn['band'] == iband)\n",
    "    _ = ax.plot(T_syn['wavelength'][this], T_syn['f_nu'][this], 'o', alpha=0.5)\n",
    "\n",
    "_ = ax.plot(T_syn_7ds['wavelength'], T_syn_7ds['f_nu'], 's', alpha=0.5, color='blue')\n",
    "\n",
    "plot_SPHEREx_limit(lambda_um, fnu_limit, ax=ax)"
   ]
  },
  {
   "cell_type": "markdown",
   "id": "italian-mathematics",
   "metadata": {},
   "source": [
    "# <span style='color:DarkSlateBlue'> Exercises </span>"
   ]
  },
  {
   "cell_type": "markdown",
   "id": "random-education",
   "metadata": {},
   "source": [
    "## 2.1 Simulate SPHEREx synthetic photometries of your favorite objects.\n",
    "- https://www.stsci.edu/hst/instrumentation/reference-data-for-calibration-and-tools/astronomical-catalogs\n",
    "- broadline AGNs\n",
    "- strong emission line galaxies\n",
    "- stars\n",
    "- asteriods\n",
    "- Were you able to find proper templates to simulate? If no, that's probably a good news for you!"
   ]
  },
  {
   "cell_type": "markdown",
   "id": "entitled-theme",
   "metadata": {},
   "source": [
    "## 2.2 Shift the spectral channels by the half of a spectral element & repeat the above. Plot all 96 x 2 bands.\n",
    "- SPHEREx Survey 1 & 2 (6 months + 6 months)\n",
    "- SPHEREx Survey 3 & 4 (6 months + 6 months)"
   ]
  },
  {
   "cell_type": "markdown",
   "id": "harmful-blake",
   "metadata": {},
   "source": [
    "## 2.3 Choose one of the following photometric systems and plot the response functions & do the syntheic photometry. You can compare your own results with those of other Python packages (e.g. pyphot). Do the synthetic photometry with these system.\n",
    "- Gaia\n",
    "- SDSS DR2\n",
    "- PanSTARRS\n",
    "- 2MASS\n",
    "- WISE"
   ]
  },
  {
   "cell_type": "markdown",
   "id": "05469c42",
   "metadata": {},
   "source": [
    "## 2.4 Write a Python Wrapper Function that returns 96 bands for a input spectrum - advanced Python\n",
    "- Input = `wl_spec`, `fnu_spec`\n",
    "- Ouput = `wl_spherex`, `fnu_spherex`\n",
    "- Option\n",
    "    - survey ID [1,2,3,4]\n",
    "    - fraction shift in SPHEREx band, e.g., 0.1"
   ]
  },
  {
   "cell_type": "markdown",
   "id": "sublime-registration",
   "metadata": {},
   "source": [
    "## 2.5 Photometric redshift - advanced\n",
    "- For a given input spectrum with the known z, artificially redshift the spectrum by 1%, 5%, 10%.\n",
    "- $\\Delta z / (1+z) = 1\\%$\n",
    "- Repeat synthetic photometry\n",
    "- Compare the results with those of the original spectrum. \n",
    "- How different fluxes do you get for given SPHEREx bands? Can we distinguish these redshifts?"
   ]
  }
 ],
 "metadata": {
  "kernelspec": {
   "display_name": "Python 3 (ipykernel)",
   "language": "python",
   "name": "python3"
  },
  "language_info": {
   "codemirror_mode": {
    "name": "ipython",
    "version": 3
   },
   "file_extension": ".py",
   "mimetype": "text/x-python",
   "name": "python",
   "nbconvert_exporter": "python",
   "pygments_lexer": "ipython3",
   "version": "3.7.11"
  }
 },
 "nbformat": 4,
 "nbformat_minor": 5
}
