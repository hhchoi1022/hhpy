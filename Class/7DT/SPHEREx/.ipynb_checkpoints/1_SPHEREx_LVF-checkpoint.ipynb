{
 "cells": [
  {
   "cell_type": "markdown",
   "id": "0698b611",
   "metadata": {},
   "source": [
    "# 1_SPHEREx_LVF\n",
    "\n",
    "# Build SPHEREx LVF Design\n",
    "\n",
    "## Authors\n",
    "- Yujin Yang, Woong-Seob Jeong (KASI SPHEREx Team)\n",
    "\n",
    "## Goal\n",
    "- Understand various photometric systems & filter transmission (broadband, narrowband)\n",
    "- Understand linear variable filter\n",
    "- Simulate LVF transmission\n",
    "- Simulate SPHEREx wavelength map"
   ]
  },
  {
   "cell_type": "markdown",
   "id": "documented-commonwealth",
   "metadata": {},
   "source": [
    "## Recap: SPHEREx LVF definition"
   ]
  },
  {
   "cell_type": "code",
   "execution_count": null,
   "id": "czech-blend",
   "metadata": {},
   "outputs": [],
   "source": [
    "# TODO: Include SPHEREx LVF specification here (image & table)"
   ]
  },
  {
   "cell_type": "markdown",
   "id": "bdeba65e",
   "metadata": {},
   "source": [
    "## Setting for this notebook"
   ]
  },
  {
   "cell_type": "code",
   "execution_count": null,
   "id": "77085a5c",
   "metadata": {},
   "outputs": [],
   "source": [
    "# Setting for Jupyter notebook environment\n",
    "# Display full output in Jupyter, not only last result.\n",
    "from IPython.core.interactiveshell import InteractiveShell\n",
    "InteractiveShell.ast_node_interactivity = \"all\"   # last or last_expr"
   ]
  },
  {
   "cell_type": "code",
   "execution_count": null,
   "id": "e2fc4e47",
   "metadata": {},
   "outputs": [],
   "source": [
    "from IPython.display import display, HTML\n",
    "display(HTML(\"<style>.container { width:100% !important; }</style>\"))"
   ]
  },
  {
   "cell_type": "code",
   "execution_count": null,
   "id": "8746d318",
   "metadata": {},
   "outputs": [],
   "source": [
    "import numpy as np\n",
    "import matplotlib as mpl\n",
    "import matplotlib.pyplot as plt\n",
    "\n",
    "from astropy.table import Table\n",
    "\n",
    "# Do not truncate outputs\n",
    "np.set_printoptions(threshold=np.inf)\n",
    "\n",
    "# Set default resolution for plots\n",
    "mpl.rcParams[\"figure.dpi\"] = 150"
   ]
  },
  {
   "cell_type": "markdown",
   "id": "91d17e03",
   "metadata": {},
   "source": [
    "## 1. Filter Transmission Curves"
   ]
  },
  {
   "cell_type": "markdown",
   "id": "870b788d",
   "metadata": {},
   "source": [
    "### Broadband filters\n",
    "* Examples for photometric system\n",
    "    - Johnson, JHK, WISE, PanSTARRS, Subaru, Gaia DR2 \n",
    "    - [Link of Spectlite package](https://speclite.readthedocs.io/en/latest/filters.html)\n",
    "    - SDSS (https://www.astroml.org/_images/plot_sdss_filters_1.png)\n",
    "    \n",
    "![astroML plot](https://www.astroml.org/_images/plot_sdss_filters_1.png)"
   ]
  },
  {
   "cell_type": "markdown",
   "id": "e9c302e6",
   "metadata": {},
   "source": [
    "### Narrowband filters\n",
    "- An example transmission curve for a narrowband filter"
   ]
  },
  {
   "cell_type": "code",
   "execution_count": null,
   "id": "083e8c68",
   "metadata": {},
   "outputs": [],
   "source": [
    "T = Table.read('data/transmission_n419.csv')\n",
    "\n",
    "plt.figure(figsize=(7,3))\n",
    "plt.plot(T['Wavelength']*10, T['trans'])\n",
    "plt.xlabel('wavelength [$\\AA$]')\n",
    "plt.ylabel('transmission')\n",
    "plt.title('DECam N419 narrowband filter')"
   ]
  },
  {
   "cell_type": "markdown",
   "id": "9b8e2321",
   "metadata": {},
   "source": [
    "### Gaussian Approximation for narrowband filters"
   ]
  },
  {
   "cell_type": "code",
   "execution_count": null,
   "id": "c0dd5bdb",
   "metadata": {},
   "outputs": [],
   "source": [
    "from astropy.modeling.models import Gaussian1D\n",
    "\n",
    "prof = Gaussian1D(amplitude=1, mean=2, stddev=0.2/2.35)\n",
    "x = np.arange(1, 4, .01)\n",
    "plt.plot(x, prof(x))\n",
    "plt.xlabel('wavelength [um]')\n",
    "plt.ylabel('transmission')"
   ]
  },
  {
   "cell_type": "markdown",
   "id": "702c8ca5",
   "metadata": {},
   "source": [
    "### Top Hat Function Approximation for narrowband filters"
   ]
  },
  {
   "cell_type": "code",
   "execution_count": null,
   "id": "suspended-collective",
   "metadata": {},
   "outputs": [],
   "source": [
    "def tophat_trans(x, center=0, fwhm=1, smoothness=0.2):\n",
    "\n",
    "    from scipy.special import erf, erfc\n",
    "    \n",
    "    t_left  = erfc(+((2*(x-center)/fwhm)-1)/smoothness)/2 \n",
    "    t_right = erfc(-((2*(x-center)/fwhm)+1)/smoothness)/2\n",
    "    \n",
    "    return (t_left*t_right)"
   ]
  },
  {
   "cell_type": "code",
   "execution_count": null,
   "id": "atomic-rwanda",
   "metadata": {},
   "outputs": [],
   "source": [
    "x = np.arange(1.8, 2.2, 0.001)\n",
    "_ = plt.plot(x, tophat_trans(x, center=2, fwhm=0.1, smoothness=0.2), '-', alpha=0.5, label='smoothness=0.2')\n",
    "_ = plt.plot(x, tophat_trans(x, center=2, fwhm=0.1, smoothness=0.6), '-', alpha=0.5, label='smoothness=0.6')\n",
    "_ = plt.legend()\n",
    "_ = plt.xlabel('wavelength [um]')\n",
    "_ = plt.ylabel('transmission')"
   ]
  },
  {
   "cell_type": "markdown",
   "id": "a59f3a7a",
   "metadata": {},
   "source": [
    "## 2. LVF Design\n",
    "- Figure for LVF parameters\n",
    "- Q. generate transmission as a function of (x, y)?\n",
    "  - We will approximate the transmission curve as a Gaussian\n",
    "  - `wl_lvf, tr_lvf = get_lvf_trans(xpos, ypos, index=index)`"
   ]
  },
  {
   "cell_type": "markdown",
   "id": "2865d090",
   "metadata": {},
   "source": [
    "### LVF with a fixed $\\Delta\\lambda$"
   ]
  },
  {
   "cell_type": "code",
   "execution_count": null,
   "id": "90976c58",
   "metadata": {},
   "outputs": [],
   "source": [
    "# Free parameters\n",
    "R = 40        # Resolving power at each LVF point \n",
    "lmin = 1.00   # minimum wavelength [um]\n",
    "dl = lmin / R # filter width [FWHM]\n",
    "Nchan = 20    # Number of independent resolution elements with the LVF\n",
    "\n",
    "ichan = np.arange(Nchan)\n",
    "lcen = lmin + dl * ichan\n",
    "width = np.zeros_like(ichan) + dl"
   ]
  },
  {
   "cell_type": "code",
   "execution_count": null,
   "id": "seven-evidence",
   "metadata": {},
   "outputs": [],
   "source": [
    "ichan\n",
    "lcen\n",
    "width"
   ]
  },
  {
   "cell_type": "code",
   "execution_count": null,
   "id": "e2ec9c0c",
   "metadata": {
    "scrolled": false
   },
   "outputs": [],
   "source": [
    "# Different ways to print the data\n",
    "for i, l, w in zip(ichan, lcen, width):\n",
    "    print(f\"{i:02d} {l:8.3f} {w:8.3f}\")\n",
    "\n",
    "T = Table([ichan, lcen], names=('ichan', 'lcen'))\n",
    "T\n",
    "\n",
    "print(np.c_[ichan, lcen, width])"
   ]
  },
  {
   "cell_type": "code",
   "execution_count": null,
   "id": "c3727503",
   "metadata": {},
   "outputs": [],
   "source": [
    "# Plot\n",
    "wvec = np.linspace(0.5, 5.5, 5001)\n",
    "plt.figure(figsize=(12,4))\n",
    "for i, l, w in zip(ichan, lcen, width):\n",
    "    prof = Gaussian1D(amplitude=1, mean=l, stddev=w/2.35)\n",
    "    _ = plt.plot(wvec, prof(wvec))\n",
    "\n",
    "_ = plt.xlim(0.9,2.0)\n",
    "_ = plt.xlabel('wavelength [um]')\n",
    "_ = plt.ylabel('transmission')"
   ]
  },
  {
   "cell_type": "code",
   "execution_count": null,
   "id": "a09f6d31",
   "metadata": {},
   "outputs": [],
   "source": [
    "plt.figure(figsize=(12,4))\n",
    "for i, l, w in zip(ichan, lcen, width):\n",
    "    trans = tophat_trans(wvec, center=l, fwhm=w)\n",
    "    _ = plt.plot(wvec, trans)\n",
    "\n",
    "_ = plt.xlim(0.9,2.0)\n",
    "_ = plt.xlabel('wavelength [um]')\n",
    "_ = plt.ylabel('transmission')"
   ]
  },
  {
   "cell_type": "code",
   "execution_count": null,
   "id": "9e976ca7",
   "metadata": {},
   "outputs": [],
   "source": [
    "# Spectral resolution\n",
    "lcen / width\n",
    "print(np.c_[ichan, lcen, lcen/width])"
   ]
  },
  {
   "cell_type": "markdown",
   "id": "b6966809",
   "metadata": {},
   "source": [
    "### LVF with a fixed resolving power ($R$)"
   ]
  },
  {
   "cell_type": "code",
   "execution_count": null,
   "id": "9ac9f647",
   "metadata": {},
   "outputs": [],
   "source": [
    "# Free parameters\n",
    "# lmin, lmax, Nchan --> R\n",
    "lmin = 1.00  # minimum wavelength [um]\n",
    "Nchan = 5    # Number of independent resolution elements with the LVF\n",
    "R = 40       # Resolving power at each LVF point\n",
    "\n",
    "ichan = np.arange(Nchan)\n",
    "lcen  = lmin * ( (2*R+1)/(2*R-1) )**ichan  # Why?\n",
    "width = lcen / R\n",
    "\n",
    "lcen\n",
    "width"
   ]
  },
  {
   "cell_type": "code",
   "execution_count": null,
   "id": "89d7dddf",
   "metadata": {},
   "outputs": [],
   "source": [
    "# Free parameters\n",
    "# lmin, lmax, Nchan --> R\n",
    "lmin = 1.00  # minimum wavelength [um]\n",
    "Nchan = 20   # Number of independent resolution elements with the LVF\n",
    "R = 40       # Resolving power at each LVF point \n",
    "\n",
    "ichan = np.arange(Nchan)\n",
    "lcen = lmin * ( (2*R+1)/(2*R-1) )**ichan\n",
    "width = lcen / R\n",
    "Rvec = np.zeros_like(lcen) + R\n",
    "\n",
    "print(np.c_[ichan, lcen, width])"
   ]
  },
  {
   "cell_type": "code",
   "execution_count": null,
   "id": "b0c846cb",
   "metadata": {},
   "outputs": [],
   "source": [
    "# Plot in linear space\n",
    "wvec = np.linspace(0.5,5.5,2001)\n",
    "plt.figure(figsize=(12,4))\n",
    "for i, l, w in zip(ichan, lcen, width):\n",
    "    # prof = Gaussian1D(amplitude=1, mean=l, stddev=w/2.35)\n",
    "    # _ = plt.plot(wvec, prof(wvec))\n",
    "    trans = tophat_trans(wvec, center=l, fwhm=w)\n",
    "    _ = plt.plot(wvec, trans)\n",
    "    \n",
    "_ = plt.xlim(0.9,1.9)\n",
    "_ = plt.xlabel('wavelength [um]')\n",
    "_ = plt.ylabel('transmission')"
   ]
  },
  {
   "cell_type": "code",
   "execution_count": null,
   "id": "f3bec355",
   "metadata": {},
   "outputs": [],
   "source": [
    "# Plot in log space\n",
    "wvec = np.linspace(0.5,5.5,5001)\n",
    "plt.figure(figsize=(12,4))\n",
    "for i, l, w in zip(ichan, lcen, width):\n",
    "    trans = tophat_trans(wvec, center=l, fwhm=w)\n",
    "    _ = plt.plot(wvec, trans)\n",
    "    \n",
    "_ = plt.xlim(0.9,1.9)\n",
    "_ = plt.xscale('log')\n",
    "_ = plt.xlabel('wavelength [um]')\n",
    "_ = plt.ylabel('transmission')"
   ]
  },
  {
   "cell_type": "markdown",
   "id": "b7d98dc9",
   "metadata": {},
   "source": [
    "## 3. LVF Implementation\n",
    "\n",
    "### Mapping from detector pixels to central wavelengths\n",
    "- 2D LVF wavelength map: (xpos, ypos) to $\\lambda_C$\n",
    "- Now we have to implement the LVF specification into a physical LVF. (**Engineers' regime**)\n",
    "- Close interaction between astronomers and engineers are essential (like NISS & SPHEREx mission)\n",
    "- Pointing accuray: spacing that we can sample\n",
    "- 1D first, map ypos (in pixels) to lambda_C"
   ]
  },
  {
   "cell_type": "code",
   "execution_count": null,
   "id": "fcee16cd",
   "metadata": {},
   "outputs": [],
   "source": [
    "nx, ny = 1024, 2048\n",
    "\n",
    "# place 0.5 channel at the beginning and end of the detector\n",
    "ypos = (ny / Nchan) * (ichan+0.5)\n",
    "\n",
    "(ny / Nchan) * (-0.5        + 0.5)   # edge: channel = -0.5  \n",
    "(ny / Nchan) * (Nchan-1+0.5 + 0.5)   # edge: channel = Nchan-1 + 0.5"
   ]
  },
  {
   "cell_type": "code",
   "execution_count": null,
   "id": "650e9fe7",
   "metadata": {},
   "outputs": [],
   "source": [
    "def get_ichan(ypix):\n",
    "    \"\"\"\n",
    "    Returns channel number for detector ypix\n",
    "    \"\"\"\n",
    "    nx, ny = 1024, 2048\n",
    "    return Nchan / ny * ypix - 0.5\n",
    "\n",
    "lcen = lmin * ( (2*R+1)/(2*R-1) )**ichan\n",
    "\n",
    "yvec = np.arange(2048)\n",
    "_ = plt.plot(yvec, lmin * ( (2*R+1)/(2*R-1) )**get_ichan(yvec))\n",
    "_ = plt.plot(ypos, lcen, 'o', alpha=0.7)\n",
    "_ = plt.xlabel('Y [pixel]')\n",
    "_ = plt.ylabel('Central Wavelength [um]')"
   ]
  },
  {
   "cell_type": "markdown",
   "id": "565e52e7",
   "metadata": {},
   "source": [
    "### Telescope focal length & plate scale\n",
    " - plate scale [arcsec/mm] = $\\frac{206265}{f [mm]}$\n",
    "     - f = effective focal length\n",
    " - convert to pixel scale\n",
    "     - pixscale = plate scale * detector pixel size\n",
    " - FOV: determined by optical performance, in this case, determined by the field stop (i.e., detector size)"
   ]
  },
  {
   "cell_type": "markdown",
   "id": "ef6db205",
   "metadata": {},
   "source": [
    "- SPHEREx six H2RG (Hawaii-2RG infrared detectors)\n",
    "    - Short wavelength: 2.6um cutoff\n",
    "    - Long wavelength: 5.3um cutoff\n",
    "    - 2048 x 2048 array, 18um x 18um pixels, HgCdTe technology"
   ]
  },
  {
   "cell_type": "code",
   "execution_count": null,
   "id": "8edb3cc7",
   "metadata": {},
   "outputs": [],
   "source": [
    "# SPHEREx F-number = 3\n",
    "206265 / (200*3) * 18e-3                   # pixel scale [arcsec]\n",
    "206265 / (200*3) * 18e-3 * 2048 / 60 / 60  # FOV [deg]"
   ]
  },
  {
   "cell_type": "markdown",
   "id": "46eeac7b",
   "metadata": {},
   "source": [
    "### Make a LVF map & display"
   ]
  },
  {
   "cell_type": "code",
   "execution_count": null,
   "id": "1ff48fa4",
   "metadata": {
    "scrolled": false
   },
   "outputs": [],
   "source": [
    "xv = np.arange(nx)\n",
    "yv = np.arange(ny)\n",
    "\n",
    "xx, yy = np.meshgrid(xv, yv, indexing='xy')\n",
    "\n",
    "wavemap = lmin * ( (2*R+1)/(2*R-1) )**get_ichan(yy)\n",
    "\n",
    "wavemap.shape\n",
    "xv.shape\n",
    "xx.shape"
   ]
  },
  {
   "cell_type": "code",
   "execution_count": null,
   "id": "7a4897c7",
   "metadata": {},
   "outputs": [],
   "source": [
    "plt.imshow(xx, origin='lower', cmap='Blues')\n",
    "plt.colorbar()\n",
    "plt.title('X')"
   ]
  },
  {
   "cell_type": "code",
   "execution_count": null,
   "id": "9adcce14",
   "metadata": {},
   "outputs": [],
   "source": [
    "plt.imshow(yy, origin='lower', cmap='Reds')\n",
    "plt.colorbar()\n",
    "plt.title('Y')"
   ]
  },
  {
   "cell_type": "code",
   "execution_count": null,
   "id": "35bc0b19",
   "metadata": {},
   "outputs": [],
   "source": [
    "plt.imshow(wavemap, origin='lower')\n",
    "plt.colorbar()\n",
    "plt.contour(wavemap, lcen, colors='k', linewidths=1, alpha=0.5)\n",
    "plt.title('Wavelenth [$\\mu$m]')"
   ]
  },
  {
   "cell_type": "markdown",
   "id": "932b973f",
   "metadata": {},
   "source": [
    "### Generate `get_lvf_trans()` function\n",
    "- Write a Python function to get LVF transmission for a given detector position (xpos, ypos)\n",
    "- `wl_lvf, tr_lvf = get_lvf_trans(x, y, band=1)`"
   ]
  },
  {
   "cell_type": "code",
   "execution_count": null,
   "id": "1b0e84d0",
   "metadata": {},
   "outputs": [],
   "source": [
    "def get_lvf_trans(x, y, band=1):\n",
    "    # `band` not used at the moments\n",
    "\n",
    "    # Get R (hard-coded for now)\n",
    "    # TODO: R should be determined from the band\n",
    "    R = 40\n",
    "    lmin = 1.0\n",
    "\n",
    "    # get the central wavelenth\n",
    "    wcen = lmin * ( (2*R+1)/(2*R-1) )**get_ichan(y)\n",
    "    fwhm = wcen / R\n",
    "    \n",
    "    prof = Gaussian1D(amplitude=1, mean=wcen, stddev=fwhm/2.35)\n",
    "    \n",
    "    # wavelenth vector\n",
    "    wl_lvf = np.linspace(wcen-fwhm*3, wcen+fwhm*3, 200)\n",
    "    tr_lvf = prof(wl_lvf)\n",
    "    \n",
    "    return wl_lvf, tr_lvf"
   ]
  },
  {
   "cell_type": "code",
   "execution_count": null,
   "id": "0c4c391b",
   "metadata": {},
   "outputs": [],
   "source": [
    "xpos, ypos = 100, 2048/2\n",
    "wl_lvf, tr_lvf = get_lvf_trans(xpos, ypos)\n",
    "plt.plot(wl_lvf, tr_lvf)\n",
    "_ = plt.xlabel('wavelength [um]')\n",
    "_ = plt.ylabel('transmission')\n",
    "_ = plt.title(f'Transmission at ({xpos}, {ypos})')"
   ]
  },
  {
   "cell_type": "markdown",
   "id": "7e3b5dce",
   "metadata": {},
   "source": [
    "### Advanced: Smile Pattern\n",
    "In reallity, it is not possible to apply coating exactly parallel to one of the axes. There will be small curvatures in LVF coatings, the so-called **smile pattern**. Let's simulate this patteren in an ad-hoc manner."
   ]
  },
  {
   "cell_type": "code",
   "execution_count": null,
   "id": "9b1f45ea",
   "metadata": {},
   "outputs": [],
   "source": [
    "x0 = nx/2\n",
    "y0 = -10000\n",
    "r2 = (xx-x0)**2 + (yy-y0)**2\n",
    "yy_eff = np.sqrt(r2) + y0\n",
    "\n",
    "plt.imshow(yy_eff, origin='lower', cmap='Reds')\n",
    "plt.colorbar()\n",
    "plt.title('Y')"
   ]
  },
  {
   "cell_type": "code",
   "execution_count": null,
   "id": "ceab4609",
   "metadata": {},
   "outputs": [],
   "source": [
    "wavemap_smile = lmin * ( (2*R+1)/(2*R-1) )**get_ichan(yy_eff)\n",
    "plt.imshow(wavemap_smile, origin='lower')\n",
    "plt.colorbar()\n",
    "levels = lcen\n",
    "plt.contour(wavemap_smile, levels, colors='gray', linewidths=0.5, alpha=0.5)"
   ]
  },
  {
   "cell_type": "markdown",
   "id": "1737ea1c",
   "metadata": {},
   "source": [
    "# <span style='color:DarkSlateBlue'> Exercises </span>\n"
   ]
  },
  {
   "cell_type": "markdown",
   "id": "1c14e0e7",
   "metadata": {},
   "source": [
    "## Exercise 1.1\n",
    "- How many resolution elements (channels) do we need to cover from 0.75um to 5.0um with a constant R = 40?\n",
    "- How many LVFs are required if each LVF can house 15 channels?"
   ]
  },
  {
   "cell_type": "markdown",
   "id": "816b2e2f",
   "metadata": {},
   "source": [
    "## Exercise 1.2\n",
    "- For a given lmin = 1.0, lmax = 2.0, R = 100, how many independent channels can this LVF have?"
   ]
  },
  {
   "cell_type": "markdown",
   "id": "b3c82384",
   "metadata": {},
   "source": [
    "## Exercise 1.3\n",
    "- How many pointings does it take to cover the all sky?\n",
    "- Assume a FOV = 3.5 degree"
   ]
  },
  {
   "cell_type": "markdown",
   "id": "5136136c",
   "metadata": {},
   "source": [
    "## Excercise 1.4 (SPHEREx) - advanced\n",
    "- Repeat the above analysis for the current SPHEREx LVF design. Build the six SPHEREx LVF wavelength maps. You can ignore the `smiles`."
   ]
  },
  {
   "cell_type": "markdown",
   "id": "fe17914b",
   "metadata": {},
   "source": [
    "## Excercise 1.5 (Python)  - advanced\n",
    "- update get_lvf_trans() function to have a profile function also as an argument\n",
    "- `wl_lvf, tr_lvf = get_lvf_trans(x, y, profile='gaussian', band=1)`\n",
    "- In fact, the `tophat_trans` function is broken or is destined to fail in a certain regime. Can you find it?"
   ]
  },
  {
   "cell_type": "markdown",
   "id": "8101e927",
   "metadata": {},
   "source": [
    "## Excercise 1.6 (7DT/7DS)\n",
    "- Plot 7DT/7DS filter transmission curves\n",
    "  - 40 medium band filters: $\\Delta \\lambda$ = 200A, $\\lambda_{min}$ = 4,000, $\\lambda_{max}$ = 8,000\n",
    "- Re-design 7DS filter system so that the bandpass has a constant resolving power ($R$) instead"
   ]
  },
  {
   "cell_type": "markdown",
   "id": "f51b3ca8",
   "metadata": {},
   "source": [
    "## Excercise 1.7 (7DT/7DS)\n",
    "- Assume that we like to carry out the 7DS using LVF filters instead of 40 filters and 20 telescopes. How many spectral channels would be required if a single LVF will be used? Design this LVF wavelength map."
   ]
  }
 ],
 "metadata": {
  "kernelspec": {
   "display_name": "Python 3 (ipykernel)",
   "language": "python",
   "name": "python3"
  },
  "language_info": {
   "codemirror_mode": {
    "name": "ipython",
    "version": 3
   },
   "file_extension": ".py",
   "mimetype": "text/x-python",
   "name": "python",
   "nbconvert_exporter": "python",
   "pygments_lexer": "ipython3",
   "version": "3.9.12"
  }
 },
 "nbformat": 4,
 "nbformat_minor": 5
}
