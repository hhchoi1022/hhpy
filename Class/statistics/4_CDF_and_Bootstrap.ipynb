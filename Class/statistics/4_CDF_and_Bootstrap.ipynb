{
 "cells": [
  {
   "cell_type": "code",
   "execution_count": 1,
   "metadata": {
    "ExecuteTime": {
     "end_time": "2021-01-29T06:19:11.351973Z",
     "start_time": "2021-01-29T06:19:11.339056Z"
    }
   },
   "outputs": [],
   "source": [
    "import numpy as np\n",
    "import pandas as pd\n",
    "import matplotlib.pyplot as plt\n",
    "import seaborn as sns\n",
    "from statsmodels.distributions.empirical_distribution import ECDF\n",
    "%matplotlib inline"
   ]
  },
  {
   "cell_type": "code",
   "execution_count": 2,
   "metadata": {
    "ExecuteTime": {
     "end_time": "2021-01-29T06:19:11.587086Z",
     "start_time": "2021-01-29T06:19:11.582543Z"
    }
   },
   "outputs": [],
   "source": [
    "plt.rcParams[\"figure.figsize\"] = (12,6) # set figure size"
   ]
  },
  {
   "cell_type": "markdown",
   "metadata": {},
   "source": [
    "## Coris data analysis\n",
    "It is well known that LDL (low density lipoprotein) is a bad cholesterol which increases the risk of coronary heart diseases (CHD). From the coris data analysis, we can show it. First we read the data and get summary statistics."
   ]
  },
  {
   "cell_type": "code",
   "execution_count": 3,
   "metadata": {
    "ExecuteTime": {
     "end_time": "2021-01-29T06:19:12.181001Z",
     "start_time": "2021-01-29T06:19:12.143161Z"
    }
   },
   "outputs": [
    {
     "data": {
      "text/html": [
       "<div>\n",
       "<style scoped>\n",
       "    .dataframe tbody tr th:only-of-type {\n",
       "        vertical-align: middle;\n",
       "    }\n",
       "\n",
       "    .dataframe tbody tr th {\n",
       "        vertical-align: top;\n",
       "    }\n",
       "\n",
       "    .dataframe thead th {\n",
       "        text-align: right;\n",
       "    }\n",
       "</style>\n",
       "<table border=\"1\" class=\"dataframe\">\n",
       "  <thead>\n",
       "    <tr style=\"text-align: right;\">\n",
       "      <th></th>\n",
       "      <th>row.names</th>\n",
       "      <th>sbp</th>\n",
       "      <th>tobacco</th>\n",
       "      <th>ldl</th>\n",
       "      <th>adiposity</th>\n",
       "      <th>famhist</th>\n",
       "      <th>typea</th>\n",
       "      <th>obesity</th>\n",
       "      <th>alcohol</th>\n",
       "      <th>age</th>\n",
       "      <th>chd</th>\n",
       "    </tr>\n",
       "  </thead>\n",
       "  <tbody>\n",
       "    <tr>\n",
       "      <th>0</th>\n",
       "      <td>1</td>\n",
       "      <td>160</td>\n",
       "      <td>12.00</td>\n",
       "      <td>5.73</td>\n",
       "      <td>23.11</td>\n",
       "      <td>1</td>\n",
       "      <td>49</td>\n",
       "      <td>25.30</td>\n",
       "      <td>97.20</td>\n",
       "      <td>52</td>\n",
       "      <td>1</td>\n",
       "    </tr>\n",
       "    <tr>\n",
       "      <th>1</th>\n",
       "      <td>2</td>\n",
       "      <td>144</td>\n",
       "      <td>0.01</td>\n",
       "      <td>4.41</td>\n",
       "      <td>28.61</td>\n",
       "      <td>0</td>\n",
       "      <td>55</td>\n",
       "      <td>28.87</td>\n",
       "      <td>2.06</td>\n",
       "      <td>63</td>\n",
       "      <td>1</td>\n",
       "    </tr>\n",
       "  </tbody>\n",
       "</table>\n",
       "</div>"
      ],
      "text/plain": [
       "   row.names  sbp  tobacco   ldl  adiposity  famhist  typea  obesity  alcohol  \\\n",
       "0          1  160    12.00  5.73      23.11        1     49    25.30    97.20   \n",
       "1          2  144     0.01  4.41      28.61        0     55    28.87     2.06   \n",
       "\n",
       "   age  chd  \n",
       "0   52    1  \n",
       "1   63    1  "
      ]
     },
     "execution_count": 3,
     "metadata": {},
     "output_type": "execute_result"
    }
   ],
   "source": [
    "df = pd.read_csv('coris.txt', sep=',', skiprows=[0, 1])\n",
    "df.head(2)"
   ]
  },
  {
   "cell_type": "code",
   "execution_count": 4,
   "metadata": {
    "ExecuteTime": {
     "end_time": "2021-01-29T06:19:12.426384Z",
     "start_time": "2021-01-29T06:19:12.414844Z"
    }
   },
   "outputs": [
    {
     "data": {
      "text/plain": [
       "0    302\n",
       "1    160\n",
       "Name: chd, dtype: int64"
      ]
     },
     "execution_count": 4,
     "metadata": {},
     "output_type": "execute_result"
    }
   ],
   "source": [
    "df['chd'] = df['chd'].astype('category')\n",
    "df['chd'].value_counts()"
   ]
  },
  {
   "cell_type": "code",
   "execution_count": 5,
   "metadata": {
    "ExecuteTime": {
     "end_time": "2021-01-29T06:19:13.235600Z",
     "start_time": "2021-01-29T06:19:12.698166Z"
    }
   },
   "outputs": [
    {
     "data": {
      "image/png": "[encoded data removed]",
      "text/plain": [
       "<Figure size 864x432 with 2 Axes>"
      ]
     },
     "metadata": {
      "needs_background": "light"
     },
     "output_type": "display_data"
    }
   ],
   "source": [
    "plt.subplot(1, 2, 1)\n",
    "plt.hist(df['ldl'])\n",
    "plt.xlabel('LDL')\n",
    "plt.ylabel('Frequency')\n",
    "plt.title('Histogram of LDL')\n",
    "\n",
    "plt.subplot(1, 2, 2)\n",
    "sns.boxplot(data=df, x='chd', y='ldl')\n",
    "plt.xlabel('CHD')\n",
    "plt.ylabel('LDL')\n",
    "plt.title('LDL by CHD');"
   ]
  },
  {
   "cell_type": "markdown",
   "metadata": {},
   "source": [
    "### Get a little bit fancier plots using seaborn."
   ]
  },
  {
   "cell_type": "code",
   "execution_count": 6,
   "metadata": {
    "ExecuteTime": {
     "end_time": "2021-01-29T06:19:13.933235Z",
     "start_time": "2021-01-29T06:19:13.362185Z"
    }
   },
   "outputs": [
    {
     "data": {
      "image/png": "[encoded data removed]",
      "text/plain": [
       "<Figure size 864x432 with 2 Axes>"
      ]
     },
     "metadata": {
      "needs_background": "light"
     },
     "output_type": "display_data"
    }
   ],
   "source": [
    "plt.subplot(1, 2, 1)\n",
    "sns.histplot(data=df, x=\"ldl\", kde = False, bins = 30, hue=\"chd\")\n",
    "\n",
    "# Violin plot\n",
    "plt.subplot(1, 2, 2)\n",
    "sns.violinplot(data=df, x='chd', y='ldl', inner = 'box');"
   ]
  },
  {
   "cell_type": "markdown",
   "metadata": {
    "ExecuteTime": {
     "end_time": "2021-01-28T20:06:25.041505Z",
     "start_time": "2021-01-28T20:06:25.036903Z"
    }
   },
   "source": [
    "### Following shows that empirical CDF of two groups are different."
   ]
  },
  {
   "cell_type": "code",
   "execution_count": 7,
   "metadata": {
    "ExecuteTime": {
     "end_time": "2021-01-29T06:19:14.454018Z",
     "start_time": "2021-01-29T06:19:14.045862Z"
    }
   },
   "outputs": [
    {
     "data": {
      "image/png": "[encoded data removed]",
      "text/plain": [
       "<Figure size 864x432 with 1 Axes>"
      ]
     },
     "metadata": {
      "needs_background": "light"
     },
     "output_type": "display_data"
    }
   ],
   "source": [
    "x_range = np.linspace(min(df['ldl']), max(df['ldl']), 1000)\n",
    "\n",
    "for i in set(df['chd']):\n",
    "    ecdf = ECDF(df[df['chd'] == i]['ldl'])\n",
    "    sns.regplot(x=x_range, y=ecdf(x_range), fit_reg = False, label = i)\n",
    "plt.xlabel('x_range')\n",
    "plt.ylabel('ecdf(x_range)')\n",
    "plt.legend(title='CHD');"
   ]
  },
  {
   "cell_type": "markdown",
   "metadata": {},
   "source": [
    "### Now we get the statistics. In particular, we get the mean LDL difference between two groups and its confidence interval."
   ]
  },
  {
   "cell_type": "code",
   "execution_count": 8,
   "metadata": {
    "ExecuteTime": {
     "end_time": "2021-01-29T06:19:15.165976Z",
     "start_time": "2021-01-29T06:19:15.145100Z"
    }
   },
   "outputs": [
    {
     "name": "stdout",
     "output_type": "stream",
     "text": [
      "mu_0: 4.344238\n",
      "mu_1: 5.487938\n",
      "se_0: 0.10745359002978645\n",
      "se_1: 0.17535689270552196\n"
     ]
    }
   ],
   "source": [
    "df0 = df[df['chd'] == 0]\n",
    "df1 = df[df['chd'] == 1]\n",
    "n0, n1 = len(df0), len(df1)\n",
    "\n",
    "mu_0 = np.mean(df0['ldl'])\n",
    "mu_1 = np.mean(df1['ldl'])\n",
    "se_0 = np.std(df0['ldl']) / np.sqrt(n0)\n",
    "se_1 = np.std(df1['ldl']) / np.sqrt(n1)\n",
    "\n",
    "print('mu_0:', np.round(mu_0, 6))\n",
    "print('mu_1:', np.round(mu_1, 6))\n",
    "print('se_0:', se_0)\n",
    "print('se_1:', se_1)"
   ]
  },
  {
   "cell_type": "code",
   "execution_count": 9,
   "metadata": {
    "ExecuteTime": {
     "end_time": "2021-01-29T06:19:15.819415Z",
     "start_time": "2021-01-29T06:19:15.810863Z"
    }
   },
   "outputs": [
    {
     "name": "stdout",
     "output_type": "stream",
     "text": [
      "T: 1.143699089403972\n",
      "T_se: 0.20566067642995187\n"
     ]
    }
   ],
   "source": [
    "# Plug in estimator\n",
    "T = mu_1 - mu_0\n",
    "T_se = np.sqrt(se_0**2 + se_1**2)  \n",
    "\n",
    "print('T:', T)\n",
    "print('T_se:', T_se)"
   ]
  },
  {
   "cell_type": "code",
   "execution_count": 10,
   "metadata": {
    "ExecuteTime": {
     "end_time": "2021-01-29T06:19:16.179294Z",
     "start_time": "2021-01-29T06:19:16.172074Z"
    }
   },
   "outputs": [
    {
     "data": {
      "text/plain": [
       "(0.7406041636012664, 1.5467940152066777)"
      ]
     },
     "execution_count": 10,
     "metadata": {},
     "output_type": "execute_result"
    }
   ],
   "source": [
    "# 95% Interval\n",
    "(T - 1.96*T_se, T + 1.96*T_se)"
   ]
  },
  {
   "cell_type": "markdown",
   "metadata": {},
   "source": [
    "## Bootstrap\n",
    "Now we consider to get the distribution of median LDL for CHD=1"
   ]
  },
  {
   "cell_type": "code",
   "execution_count": 11,
   "metadata": {
    "ExecuteTime": {
     "end_time": "2021-01-28T21:31:02.596337Z",
     "start_time": "2021-01-28T21:31:01.687864Z"
    }
   },
   "outputs": [
    {
     "name": "stdout",
     "output_type": "stream",
     "text": [
      "Median: 5.0649999999999995 \n",
      "\n"
     ]
    },
    {
     "data": {
      "text/plain": [
       "<AxesSubplot:ylabel='Count'>"
      ]
     },
     "execution_count": 11,
     "metadata": {},
     "output_type": "execute_result"
    },
    {
     "data": {
      "image/png": "[encoded data removed]",
      "text/plain": [
       "<Figure size 864x432 with 1 Axes>"
      ]
     },
     "metadata": {
      "needs_background": "light"
     },
     "output_type": "display_data"
    }
   ],
   "source": [
    "\n",
    "LDL_1 = df1['ldl']\n",
    "T_Median = np.median(LDL_1)\n",
    "print(\"Median:\", T_Median, \"\\n\")\n",
    "\n",
    "# Bootstrap\n",
    "\n",
    "B = 1000\n",
    "B_Median = np.zeros(B)\n",
    "\n",
    "for i in range(B):\n",
    "    B_sample = LDL_1.sample(frac=1, replace = True)\n",
    "    B_Median[i] = np.median(B_sample)\n",
    "    \n",
    "sns.histplot(x=B_Median, bins=15)\n"
   ]
  },
  {
   "cell_type": "markdown",
   "metadata": {},
   "source": [
    "### Now we get various Bootstrap confidence intervals"
   ]
  },
  {
   "cell_type": "code",
   "execution_count": 12,
   "metadata": {
    "ExecuteTime": {
     "end_time": "2021-01-29T06:21:51.377073Z",
     "start_time": "2021-01-29T06:21:51.357911Z"
    }
   },
   "outputs": [
    {
     "data": {
      "text/plain": [
       "{'CI_Percent(2.5%, 97.5%)': [4.68, 5.46],\n",
       " 'CI_Normal(2.5%, 97.5%)': [4.701752987168, 5.428247012831999],\n",
       " 'CI_Pivot(2.5%, 97.5%)': [4.669999999999999, 5.449999999999999]}"
      ]
     },
     "execution_count": 12,
     "metadata": {},
     "output_type": "execute_result"
    }
   ],
   "source": [
    "def Get_CI(T, B_Sample):\n",
    "    # Percentile Interval\n",
    "    CI_Percent = list(np.quantile(B_Sample, q=[0.025, 0.975]))\n",
    "    # Normal Interval\n",
    "    se_b = np.std(B_Sample, ddof=1)\n",
    "    CI_Normal = [T - 1.96*se_b, T + 1.96*se_b]\n",
    "    # Pivot Interval\n",
    "    CI_Pivot = [2*T - CI_Percent[1], 2*T - CI_Percent[0]]\n",
    "\n",
    "    re = {'CI_Percent(2.5%, 97.5%)':CI_Percent, 'CI_Normal(2.5%, 97.5%)':CI_Normal, 'CI_Pivot(2.5%, 97.5%)':CI_Pivot}\n",
    "    return re\n",
    "\n",
    "Get_CI(T_Median, B_Median)"
   ]
  },
  {
   "cell_type": "markdown",
   "metadata": {},
   "source": [
    "## LDL difference between CHD groups\n",
    "Now we are interested in checking whether LDL levels are different by CHD groups. Here we use Bootstrap to get the confidence interval."
   ]
  },
  {
   "cell_type": "code",
   "execution_count": 13,
   "metadata": {},
   "outputs": [
    {
     "name": "stdout",
     "output_type": "stream",
     "text": [
      "1.143699089403972\n"
     ]
    }
   ],
   "source": [
    "T_MeanDiff = np.mean(df1['ldl']) - np.mean(df0['ldl'])\n",
    "print(T_MeanDiff)"
   ]
  },
  {
   "cell_type": "code",
   "execution_count": 14,
   "metadata": {
    "ExecuteTime": {
     "end_time": "2021-01-29T07:00:05.621585Z",
     "start_time": "2021-01-29T07:00:03.468568Z"
    }
   },
   "outputs": [
    {
     "data": {
      "text/plain": [
       "<AxesSubplot:ylabel='Count'>"
      ]
     },
     "execution_count": 14,
     "metadata": {},
     "output_type": "execute_result"
    },
    {
     "data": {
      "image/png": "[encoded data removed]",
      "text/plain": [
       "<Figure size 864x432 with 1 Axes>"
      ]
     },
     "metadata": {
      "needs_background": "light"
     },
     "output_type": "display_data"
    }
   ],
   "source": [
    "n = df.shape[0]\n",
    "B = 1000\n",
    "B_MeanDiff = np.zeros(B)\n",
    "\n",
    "for i in range(B):\n",
    "    B_sample_idx = np.random.choice(n, size=n, replace=True)\n",
    "    df_B = df.iloc[B_sample_idx, ]\n",
    "    mean1 = np.mean(df_B[df_B['chd'] == 1]['ldl'])\n",
    "    mean0 = np.mean(df_B[df_B['chd'] == 0]['ldl'])\n",
    "    B_MeanDiff[i] = mean1 - mean0\n",
    "    \n",
    "sns.histplot(x=B_MeanDiff, bins=15)"
   ]
  },
  {
   "cell_type": "code",
   "execution_count": 15,
   "metadata": {
    "ExecuteTime": {
     "end_time": "2021-01-29T07:00:08.072111Z",
     "start_time": "2021-01-29T07:00:08.064035Z"
    }
   },
   "outputs": [
    {
     "data": {
      "text/plain": [
       "{'CI_Percent(2.5%, 97.5%)': [0.7726960633878258, 1.5434728151626],\n",
       " 'CI_Normal(2.5%, 97.5%)': [0.7425689113475734, 1.5448292674603707],\n",
       " 'CI_Pivot(2.5%, 97.5%)': [0.743925363645344, 1.5147021154201181]}"
      ]
     },
     "execution_count": 15,
     "metadata": {},
     "output_type": "execute_result"
    }
   ],
   "source": [
    "# Confidence Interval\n",
    "Get_CI(T_MeanDiff, B_MeanDiff)"
   ]
  },
  {
   "cell_type": "markdown",
   "metadata": {},
   "source": [
    "# Correlation between LDL and sbp\n",
    "## Now researchers are interested in the correlation between LDL and sbp"
   ]
  },
  {
   "cell_type": "code",
   "execution_count": 16,
   "metadata": {
    "ExecuteTime": {
     "end_time": "2021-01-29T06:24:05.988320Z",
     "start_time": "2021-01-29T06:24:05.572112Z"
    }
   },
   "outputs": [
    {
     "data": {
      "text/plain": [
       "0.1582963276560127"
      ]
     },
     "execution_count": 16,
     "metadata": {},
     "output_type": "execute_result"
    },
    {
     "data": {
      "image/png": "[encoded data removed]",
      "text/plain": [
       "<Figure size 864x432 with 1 Axes>"
      ]
     },
     "metadata": {
      "needs_background": "light"
     },
     "output_type": "display_data"
    }
   ],
   "source": [
    "sns.scatterplot(x=df['ldl'], y=df['sbp'])\n",
    "T_Corr = np.corrcoef(df['ldl'], df['sbp'])[0, 1]\n",
    "T_Corr"
   ]
  },
  {
   "cell_type": "code",
   "execution_count": 17,
   "metadata": {
    "ExecuteTime": {
     "end_time": "2021-01-29T06:28:05.810935Z",
     "start_time": "2021-01-29T06:28:00.444444Z"
    }
   },
   "outputs": [
    {
     "data": {
      "text/plain": [
       "<AxesSubplot:ylabel='Count'>"
      ]
     },
     "execution_count": 17,
     "metadata": {},
     "output_type": "execute_result"
    },
    {
     "data": {
      "image/png": "[encoded data removed]",
      "text/plain": [
       "<Figure size 864x432 with 1 Axes>"
      ]
     },
     "metadata": {
      "needs_background": "light"
     },
     "output_type": "display_data"
    }
   ],
   "source": [
    "n = df.shape[0]\n",
    "B = 1000\n",
    "B_Corr = np.zeros(B)\n",
    "\n",
    "for i in range(B):\n",
    "    B_sample_idx = np.random.choice(n, size=n, replace=True)\n",
    "    df1 = df.iloc[B_sample_idx, ]\n",
    "    B_Corr[i] = np.corrcoef(df1['ldl'], df1['sbp'])[0, 1]\n",
    "\n",
    "sns.histplot(B_Corr, bins=15)"
   ]
  },
  {
   "cell_type": "code",
   "execution_count": 18,
   "metadata": {
    "ExecuteTime": {
     "end_time": "2021-01-29T06:28:05.900657Z",
     "start_time": "2021-01-29T06:28:05.895869Z"
    }
   },
   "outputs": [
    {
     "data": {
      "text/plain": [
       "{'CI_Percent(2.5%, 97.5%)': [0.060717687303444276, 0.2544310458989034],\n",
       " 'CI_Normal(2.5%, 97.5%)': [0.061336282477173265, 0.25525637283485214],\n",
       " 'CI_Pivot(2.5%, 97.5%)': [0.06216160941312199, 0.2558749680085811]}"
      ]
     },
     "execution_count": 18,
     "metadata": {},
     "output_type": "execute_result"
    }
   ],
   "source": [
    "# Percentile Interval\n",
    "Get_CI(T_Corr, B_Corr)"
   ]
  },
  {
   "cell_type": "code",
   "execution_count": 19,
   "metadata": {},
   "outputs": [
    {
     "name": "stdout",
     "output_type": "stream",
     "text": [
      "BootstrapResult(confidence_interval=ConfidenceInterval(low=0.060981120154608805, high=0.255554906839566), standard_error=0.04934912342627097)\n"
     ]
    }
   ],
   "source": [
    "# Use scipy.stats.bootstrap\n",
    "#pip install -U scipy\n",
    "\n",
    "import scipy.stats as st\n",
    "def corr1(x1, y1):\n",
    "    return np.corrcoef(x1,y1)[0,1]\n",
    "\n",
    "x1 = df['ldl']\n",
    "y1 = df['sbp']\n",
    "\n",
    "out = st.bootstrap((df['ldl'],df['sbp']), corr1, paired=True, vectorized=False, method='BCa')\n",
    "\n",
    "print(out)\n",
    "\n"
   ]
  }
 ],
 "metadata": {
  "kernelspec": {
   "display_name": "Python 3",
   "language": "python",
   "name": "python3"
  },
  "language_info": {
   "codemirror_mode": {
    "name": "ipython",
    "version": 3
   },
   "file_extension": ".py",
   "mimetype": "text/x-python",
   "name": "python",
   "nbconvert_exporter": "python",
   "pygments_lexer": "ipython3",
   "version": "3.8.8"
  },
  "varInspector": {
   "cols": {
    "lenName": 16,
    "lenType": 16,
    "lenVar": 40
   },
   "kernels_config": {
    "python": {
     "delete_cmd_postfix": "",
     "delete_cmd_prefix": "del ",
     "library": "var_list.py",
     "varRefreshCmd": "print(var_dic_list())"
    },
    "r": {
     "delete_cmd_postfix": ") ",
     "delete_cmd_prefix": "rm(",
     "library": "var_list.r",
     "varRefreshCmd": "cat(var_dic_list()) "
    }
   },
   "types_to_exclude": [
    "module",
    "function",
    "builtin_function_or_method",
    "instance",
    "_Feature"
   ],
   "window_display": false
  }
 },
 "nbformat": 4,
 "nbformat_minor": 4
}
