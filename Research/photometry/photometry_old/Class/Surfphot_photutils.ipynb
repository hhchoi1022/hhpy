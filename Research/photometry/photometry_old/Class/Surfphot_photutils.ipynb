{
 "cells": [
  {
   "cell_type": "markdown",
   "metadata": {},
   "source": [
    "# 0. Importing Necessary Packages"
   ]
  },
  {
   "cell_type": "code",
   "execution_count": 1,
   "metadata": {},
   "outputs": [
    {
     "data": {
      "application/json": {
       "Software versions": [
        {
         "module": "Python",
         "version": "3.7.9 64bit [GCC 7.3.0]"
        },
        {
         "module": "IPython",
         "version": "7.16.1"
        },
        {
         "module": "OS",
         "version": "Linux 5.8.18 100.fc31.x86_64 x86_64 with fedora 31 Thirty_One"
        }
       ]
      },
      "text/html": [
       "<table><tr><th>Software</th><th>Version</th></tr><tr><td>Python</td><td>3.7.9 64bit [GCC 7.3.0]</td></tr><tr><td>IPython</td><td>7.16.1</td></tr><tr><td>OS</td><td>Linux 5.8.18 100.fc31.x86_64 x86_64 with fedora 31 Thirty_One</td></tr><tr><td colspan='2'>Mon May 02 10:40:24 2022 KST</td></tr></table>"
      ],
      "text/latex": [
       "\\begin{tabular}{|l|l|}\\hline\n",
       "{\\bf Software} & {\\bf Version} \\\\ \\hline\\hline\n",
       "Python & 3.7.9 64bit [GCC 7.3.0] \\\\ \\hline\n",
       "IPython & 7.16.1 \\\\ \\hline\n",
       "OS & Linux 5.8.18 100.fc31.x86\\_64 x86\\_64 with fedora 31 Thirty\\_One \\\\ \\hline\n",
       "\\hline \\multicolumn{2}{|l|}{Mon May 02 10:40:24 2022 KST} \\\\ \\hline\n",
       "\\end{tabular}\n"
      ],
      "text/plain": [
       "Software versions\n",
       "Python 3.7.9 64bit [GCC 7.3.0]\n",
       "IPython 7.16.1\n",
       "OS Linux 5.8.18 100.fc31.x86_64 x86_64 with fedora 31 Thirty_One\n",
       "Mon May 02 10:40:24 2022 KST"
      ]
     },
     "execution_count": 1,
     "metadata": {},
     "output_type": "execute_result"
    }
   ],
   "source": [
    "# Printing the information of Python, IPython, OS, and the generation date.\n",
    "# Before running this, you have to install version_information module with \"pip install version_information\".\n",
    "%load_ext version_information\n",
    "%version_information"
   ]
  },
  {
   "cell_type": "code",
   "execution_count": 2,
   "metadata": {},
   "outputs": [
    {
     "name": "stdout",
     "output_type": "stream",
     "text": [
      "numpy: ver 1.21.0\n",
      "matplotlib: ver 3.2.2\n",
      "pandas: ver 1.2.4\n",
      "astropy: ver 4.2.1\n",
      "photutils: ver 1.0.2\n"
     ]
    }
   ],
   "source": [
    "# Printing the versions of packages\n",
    "from importlib_metadata import version\n",
    "for pkg in ['numpy', 'matplotlib', 'pandas', 'astropy', 'photutils']:\n",
    "    print(pkg+\": ver \"+version(pkg))"
   ]
  },
  {
   "cell_type": "code",
   "execution_count": 3,
   "metadata": {},
   "outputs": [],
   "source": [
    "# Matplotlib backend\n",
    "%matplotlib notebook\n",
    "\n",
    "# Importing necessary modules\n",
    "import time\n",
    "import numpy as np\n",
    "import glob, os, copy\n",
    "from matplotlib import pyplot as plt\n",
    "import pandas as pd\n",
    "from astropy.io import fits\n",
    "from astropy.stats import sigma_clipped_stats\n",
    "# from matplotlib.patches import Ellipse as ell"
   ]
  },
  {
   "cell_type": "markdown",
   "metadata": {},
   "source": [
    "# 1. Displaying the Images"
   ]
  },
  {
   "cell_type": "markdown",
   "metadata": {},
   "source": [
    "### 1) Image names"
   ]
  },
  {
   "cell_type": "code",
   "execution_count": 4,
   "metadata": {},
   "outputs": [
    {
     "data": {
      "text/plain": [
       "['Combined_images/M105-g.fits',\n",
       " 'Combined_images/M105-i.fits',\n",
       " 'Combined_images/M100-g.fits',\n",
       " 'Combined_images/M100-i.fits']"
      ]
     },
     "execution_count": 4,
     "metadata": {},
     "output_type": "execute_result"
    }
   ],
   "source": [
    "dir_img = \"Combined_images/\"\n",
    "imglist = [dir_img+\"M105-g.fits\", dir_img+\"M105-i.fits\",\n",
    "           dir_img+\"M100-g.fits\", dir_img+\"M100-i.fits\"]\n",
    "n_img = len(imglist)\n",
    "imglist"
   ]
  },
  {
   "cell_type": "markdown",
   "metadata": {},
   "source": [
    "### 2) Running DS9"
   ]
  },
  {
   "cell_type": "code",
   "execution_count": 5,
   "metadata": {},
   "outputs": [
    {
     "name": "stdout",
     "output_type": "stream",
     "text": [
      "Running \"ds9 -scalemode zscale -scale lock yes -frame lock image Combined_images/M105-g.fits Combined_images/M105-i.fits Combined_images/M100-g.fits Combined_images/M100-i.fits &\" in the terminal...\n"
     ]
    },
    {
     "data": {
      "text/plain": [
       "0"
      ]
     },
     "execution_count": 5,
     "metadata": {},
     "output_type": "execute_result"
    }
   ],
   "source": [
    "# You can also run this command in terminal.\n",
    "ds9_options = \"-scalemode zscale -scale lock yes -frame lock image \"\n",
    "names = \"\"\n",
    "for i in np.arange(n_img):\n",
    "    names += imglist[i]+\" \"\n",
    "ds9_command = \"ds9 \"+ds9_options+names+\"&\"\n",
    "print('Running \"'+ds9_command+'\" in the terminal...')\n",
    "os.system(ds9_command)"
   ]
  },
  {
   "cell_type": "markdown",
   "metadata": {},
   "source": [
    "# 2. Running Photutils Task "
   ]
  },
  {
   "cell_type": "markdown",
   "metadata": {},
   "source": [
    "### 1) Parameter Information of Photutils/Ellipse Task\n",
    "\n",
    "#### Reference Link: [Elliptical Isophote Analysis](https://photutils.readthedocs.io/en/stable/isophote.html), [API for EllipseGeometry](https://photutils.readthedocs.io/en/stable/api/photutils.isophote.EllipseGeometry.html), and [API for Ellipse](https://photutils.readthedocs.io/en/stable/api/photutils.isophote.Ellipse.html)"
   ]
  },
  {
   "cell_type": "code",
   "execution_count": 6,
   "metadata": {},
   "outputs": [],
   "source": [
    "from photutils.isophote import EllipseGeometry, Ellipse\n",
    "from photutils.isophote import build_ellipse_model"
   ]
  },
  {
   "cell_type": "markdown",
   "metadata": {},
   "source": [
    "### 2) Declaration of Function (for convenience!)"
   ]
  },
  {
   "cell_type": "code",
   "execution_count": 7,
   "metadata": {},
   "outputs": [],
   "source": [
    "def fit_ellipse(input_image,\n",
    "                model_image=None, residual_image=None, display=False,\n",
    "                x0=100.0, y0=100.0, ellip0=0.1, pa0=45.0, sma0=10.0,\n",
    "                minsma=0.0, maxsma=50.0, step=1.0, linear=False,\n",
    "                minit=10, maxit=100, hcenter=False, hellip=False, hpa=False,\n",
    "                sclip=3.0, nclip=0,\n",
    "                mag0=25.0, refer=1.0, zerolevel=0.0,\n",
    "                backgr=0.0):\n",
    "\n",
    "    '''\n",
    "    # --- basic input parameters --- #\n",
    "    input_image - input image name ('[FILENAME].fits')\n",
    "    model_image - output model image (default: '[FILENAME]_mod.fits')\n",
    "    residual_image - output residual image (default: '[FILENAME]_res.fits')\n",
    "    display - display the results or not? (boolean, default: False)\n",
    "    \n",
    "    # --- geompar set --- #\n",
    "    x0, y0 - initial isophote center X, Y [pixel]\n",
    "    ellip0, pa0 - initial ellipticity, position angle [degree]\n",
    "    sma0 - initial semi-major axis (SMA) length [pixel]\n",
    "    minsma - minimum SMA length for fitting [pixel] (default: 0.0)\n",
    "    maxsma - maximum SMA length for fitting [pixel]\n",
    "    step - SMA step between successive ellipses [pixel OR relative value]\n",
    "    linear - linear SMA step for fitting? (boolean, default: False)\n",
    "    \n",
    "    # --- controlpar set --- #\n",
    "    minit - minimum iteration number at each step of SMA (default: 10)\n",
    "    maxit - maximum iteration number at each step of SMA (default: 100)\n",
    "    hcenter - do you want to hold center fixed? (boolean, default: False)\n",
    "    hellip - do you want to hold ellipticity fixed? (boolean, default: False)\n",
    "    hpa - do you want to hold position angle fixed? (boolean, default: False)\n",
    "    \n",
    "    # --- samplepar set --- #\n",
    "    sclip - sigma-clip criterion (default: 3)\n",
    "    nclip - iteration number for the sigma clipping (default: 0)\n",
    "    \n",
    "    # --- magpar set --- #\n",
    "    mag0 - magnitude zeropoint for sky brightness (default: 25.0)\n",
    "    refer - reference count for sky brightness (default: 1.0)\n",
    "    zerolevel - bias level (default: 0.0)    \n",
    "    ### mag = mag0-2.5*log10((intensity-zerolevel)/refer)\n",
    "    \n",
    "    # --- bmodel parameter set --- #\n",
    "    backgr - background level for making model image (default: 0.0)\n",
    "    '''\n",
    "    \n",
    "    imgdata = fits.getdata(input_image, ext=0)    # If you use multi-extension images, you should revise this.\n",
    "    iname = input_image.split('.fits')[0].split('/')[-1]    # Image name\n",
    "    if (model_image is None):\n",
    "        model_image = iname+'_mod2.fits'    # Output model image name\n",
    "    if (residual_image is None):\n",
    "        residual_image = iname+'_res2.fits'    # Output residual image name\n",
    "\n",
    "    # Running Photutils/ellipse task\n",
    "    g = EllipseGeometry(x0-1, y0-1, sma0, ellip0, pa0*np.pi/180., astep=step, linear_growth=linear,\n",
    "                        fix_center=hcenter, fix_pa=hpa, fix_eps=hellip)\n",
    "    ellipse = Ellipse(imgdata, geometry=g)\n",
    "    \n",
    "    kwargs = {\"sma0\":sma0, \"minsma\":minsma, \"maxsma\":maxsma, \"step\":step, \"conver\":0.05,\n",
    "              \"minit\":minit, \"maxit\":maxit, \"fflag\":0.7, \"maxgerr\":0.5, \"sclip\":sclip, \"nclip\":nclip,\n",
    "              \"integrmode\":\"bilinear\", \"linear\":linear, \"maxrit\":maxsma,\n",
    "              \"fix_center\":hcenter, \"fix_pa\":hpa, \"fix_eps\":hellip}\n",
    "    isolist = ellipse.fit_image(**kwargs)\n",
    "    iso_tbl = isolist.to_table()\n",
    "    iso_df  = iso_tbl.to_pandas()\n",
    "    \n",
    "    # Making model, residual images\n",
    "    model = build_ellipse_model(imgdata.shape, isolist, fill=backgr)\n",
    "    residual = imgdata - model\n",
    "    fits.writeto(model_image, model, overwrite=True)\n",
    "    fits.writeto(residual_image, residual, overwrite=True)\n",
    "\n",
    "    if display:    # if display == True, DS9 will display input, model, and residual images.\n",
    "        opt = \" -scalemode zscale -scale lock yes -frame lock image \"\n",
    "        opt += \" -tile grid mode manual -tile grid layout 3 1 \"\n",
    "        os.system(\"ds9 \"+opt+input_image+\" \"+model_image+\" \"+residual_image+\"&\")\n",
    "\n",
    "    return iso_df"
   ]
  },
  {
   "cell_type": "markdown",
   "metadata": {},
   "source": [
    "### 4) Sky Estimation (depending on your image)"
   ]
  },
  {
   "cell_type": "code",
   "execution_count": 8,
   "metadata": {},
   "outputs": [],
   "source": [
    "# ----- SDSS pixel scale & Magnitude zeropoint ----- #\n",
    "pixel_scale = 0.396    # arcsec/pixel (SDSS image)\n",
    "mag0_g = 23.85   # SDSS g-magnitude zeropoint for sky brightness (just for example)\n",
    "# mag0_g = 21.84 + 2.5*np.log10(pixel_scale**(-2))  # mag/arcsec^2 --> mag/pixel^2\n",
    "mag0_i = 22.17    # SDSS i-magnitude zeropoint for sky brightness (just for example)\n",
    "# mag0_i = 20.16 + 2.5*np.log10(pixel_scale**(-2))  # mag/arcsec^2 --> mag/pixel^2\n",
    "### You should revise these depending on your images! (Maybe) the above magnitude zeropoint is not so accurate... \n",
    "### https://www.sdss.org/dr14/imaging/other_info/"
   ]
  },
  {
   "cell_type": "markdown",
   "metadata": {},
   "source": [
    "#### For magnitude zeropoint, please use the given value on the website below.\n",
    "\n",
    "* **SDSS: [SDSS Imaging Information](https://www.sdss.org/dr14/imaging/other_info/)**\n",
    "* **HST: [HST ACS Zeropoint](https://www.stsci.edu/hst/instrumentation/acs/data-analysis/zeropoints)**\n",
    "\n",
    "#### Or you can also measure the zeropoint by yourself using (secondary) calibration in your image.\n",
    "\n",
    "#### Pixel scale is for tranforming the unit of surface brightness from ${\\rm mag/pixel^2}$ to ${\\rm mag/arcsec^2}$ (or the opposite).\n",
    "\n",
    "#### If you just want to use ${\\rm mag/pixel^2}$ unit, you do not have to use pixel scale of the images.\n",
    "\n",
    "#### However, ${\\rm mag/arcsec^2}$ unit is generally used for surface photometry."
   ]
  },
  {
   "cell_type": "code",
   "execution_count": 9,
   "metadata": {},
   "outputs": [
    {
     "name": "stdout",
     "output_type": "stream",
     "text": [
      "Image: Combined_images/M105-g.fits\n",
      "sky level: 0.0202\n",
      "sky sigma: 0.0154\n"
     ]
    }
   ],
   "source": [
    "# For g-band image of M105\n",
    "imgname = \"Combined_images/M105-g.fits\"\n",
    "x_center, y_center = 455.0, 455.0    # depending on your object & image size\n",
    "r0 = 420.0    # outer boundary for sky estimation (up to you)\n",
    "\n",
    "# --- Background estimation for determining backgroun level --- #\n",
    "### (This is up to you! You do not have to do this if the background level in your images can be obviously determined.)\n",
    "img = fits.getdata(imgname, ext=0)\n",
    "\n",
    "x1d = np.arange(0, img.shape[1], 1)\n",
    "y1d = np.arange(0, img.shape[0], 1)\n",
    "xx, yy = np.meshgrid(x1d, y1d, sparse=True)\n",
    "z = ((xx-x_center)**2.0 + (yy-y_center)**2.0 - r0**2.0)\n",
    "sky_region = (z > 0.0)\n",
    "\n",
    "avg, med, std = sigma_clipped_stats(img[sky_region], sigma=3.0)\n",
    "sky_val, sky_sig = 3.0*med - 2.0*avg, std\n",
    "print(\"Image: \"+imgname)\n",
    "print(\"sky level: {0:.4f}\".format(sky_val))\n",
    "print(\"sky sigma: {0:.4f}\".format(sky_sig))\n",
    "# ---------- #"
   ]
  },
  {
   "cell_type": "markdown",
   "metadata": {},
   "source": [
    "### 5) Running Photutils/Ellipse Task & Showing the Results"
   ]
  },
  {
   "cell_type": "code",
   "execution_count": null,
   "metadata": {},
   "outputs": [],
   "source": [
    "sky_val_g = sky_val    # sky brightness (unit: pixel count)\n",
    "rmax = 470.0    # maximum SMA (up to you)\n",
    "kwargs = {\"x0\":x_center, \"y0\":y_center, \"ellip0\":0.05, \"sma0\":5.0,\n",
    "          \"minsma\":0.05, \"maxsma\":rmax, \"step\":0.05,\n",
    "          \"hcenter\":False, \"hellip\":False, \"hpa\":False,\n",
    "          \"nclip\":2, \"mag0\":mag0_g, \"refer\":sky_val_g,    # https://www.sdss.org/dr12/algorithms/magnitudes/\n",
    "          \"backgr\":sky_val_g}  # Here you can change input (default) parameter if needed!\n",
    "iso_df_g = fit_ellipse(imgname, display=True, **kwargs)\n",
    "\n",
    "# def fit_ellipse(input_image, #output_table=None, interactive=False,\n",
    "#                 model_image=None, residual_image=None, display=False, #data_file=None,\n",
    "#                 x0=100.0, y0=100.0, ellip0=0.1, pa0=45.0, sma0=10.0,  # geompar\n",
    "#                 minsma=0.0, maxsma=50.0, step=1.0, linear=False, #recenter=False,  # geompar\n",
    "#                 minit=10, maxit=100, hcenter=False, hellip=False, hpa=False,  # controlpar\n",
    "#                 sclip=3.0, nclip=0,  # samplepar\n",
    "#                 mag0=25.0, refer=1.0, zerolevel=0.0,  # magpar\n",
    "#                 backgr=0.0):#, interp='linear'):  # bmodel"
   ]
  },
  {
   "cell_type": "code",
   "execution_count": null,
   "metadata": {},
   "outputs": [],
   "source": [
    "# Columns in the result array\n",
    "iso_df_g.columns"
   ]
  },
  {
   "cell_type": "code",
   "execution_count": null,
   "metadata": {},
   "outputs": [],
   "source": [
    "# Some useful information in the results\n",
    "iso_df_g[[\"sma\",\"intens\",\"intens_err\",\"x0\",\"y0\",\"ellipticity\",\"pa\"]].head(10)"
   ]
  },
  {
   "cell_type": "markdown",
   "metadata": {},
   "source": [
    "# 3. Surface Photometry Example #1 (Elliptical, M105)"
   ]
  },
  {
   "cell_type": "markdown",
   "metadata": {},
   "source": [
    "### 1) $i$-band ($g$-band for M105 has already been done above!)"
   ]
  },
  {
   "cell_type": "code",
   "execution_count": null,
   "metadata": {},
   "outputs": [],
   "source": [
    "# -------------------------- #\n",
    "# ----- Sky Estimation ----- #\n",
    "# -------------------------- #\n",
    "# For i-band image of M105\n",
    "imgname = \"Combined_images/M105-i.fits\"\n",
    "x_center, y_center = 455.0, 455.0    # depending on your object & image size\n",
    "r0 = 420.0    # outer boundary for sky estimation (up to you)\n",
    "\n",
    "# --- Background estimation for determining backgroun level --- #\n",
    "### (This is up to you! You do not have to do this if the background level in your images can be obviously determined.)\n",
    "img = fits.getdata(imgname, ext=0)\n",
    "\n",
    "x1d = np.arange(0, img.shape[1], 1)\n",
    "y1d = np.arange(0, img.shape[0], 1)\n",
    "xx, yy = np.meshgrid(x1d, y1d, sparse=True)\n",
    "z = ((xx-x_center)**2.0 + (yy-y_center)**2.0 - r0**2.0)\n",
    "sky_region = (z > 0.0)\n",
    "\n",
    "avg, med, std = sigma_clipped_stats(img[sky_region], sigma=3.0)\n",
    "sky_val, sky_sig = 3.0*med - 2.0*avg, std\n",
    "print(\"Image: \"+imgname)\n",
    "print(\"sky level: {0:.4f}\".format(sky_val))\n",
    "print(\"sky sigma: {0:.4f}\".format(sky_sig))\n",
    "# ---------- #\n",
    "\n",
    "# -------------------------------- #\n",
    "# ----- Running IRAF/Ellipse ----- #\n",
    "# -------------------------------- #\n",
    "sky_val_i = sky_val    # sky brightness (unit: pixel count)\n",
    "rmax = 470.0    # maximum SMA (up to you)\n",
    "kwargs = {\"x0\":x_center, \"y0\":y_center, \"ellip0\":0.05, \"sma0\":5.0,\n",
    "          \"minsma\":0.05, \"maxsma\":rmax, \"step\":0.05,\n",
    "          \"hcenter\":False, \"hellip\":False, \"hpa\":False,\n",
    "          \"nclip\":2, \"mag0\":mag0_i, \"refer\":sky_val_i,    # https://www.sdss.org/dr12/algorithms/magnitudes/\n",
    "          \"backgr\":sky_val_i}  # Here you can change input (default) parameter if needed!\n",
    "iso_df_i = fit_ellipse(imgname, display=True, **kwargs)"
   ]
  },
  {
   "cell_type": "markdown",
   "metadata": {},
   "source": [
    "### 2) Drawing the Radial Profile"
   ]
  },
  {
   "cell_type": "code",
   "execution_count": null,
   "metadata": {},
   "outputs": [],
   "source": [
    "# Unit conversion\n",
    "r_sma_g = iso_df_g['sma'].values * pixel_scale    # pixel to arcsec\n",
    "mu_g = mag0_g - 2.5*np.log10(iso_df_g['intens']/sky_val_g) - 2.5*np.log10(pixel_scale**(-2))    # mag/pixel^2 to mag/arcsec^2\n",
    "r_sma_i = iso_df_i['sma'].values * pixel_scale    # pixel to arcsec\n",
    "mu_i = mag0_i - 2.5*np.log10(iso_df_i['intens']/sky_val_i) - 2.5*np.log10(pixel_scale**(-2))    # mag/pixel^2 to mag/arcsec^2\n",
    "### If you already set the mag0 in the unit of 'mag/arcsec^2',\n",
    "### then you do not have to convert the unit from 'mag/pixel^2' to 'mag/arcsec^2'!\n",
    "\n",
    "# Plotting\n",
    "fig, ax = plt.subplots(figsize=(6,4))\n",
    "ax.plot(r_sma_g, mu_g, 'o', ms=3.0, color='dodgerblue', alpha=0.6)#, linewidth=2.0, alpha=0.9)\n",
    "ax.plot(r_sma_i, mu_i, 'o', ms=3.0, color='magenta', alpha=0.6)#, linewidth=2.0, alpha=0.9)\n",
    "ax.axhline(mag0_g - 2.5*np.log10(pixel_scale**(-2)), 0, 1,\n",
    "           linestyle='--', color='dodgerblue', linewidth=1.5, alpha=0.4)\n",
    "ax.axhline(mag0_i - 2.5*np.log10(pixel_scale**(-2)), 0, 1,\n",
    "           linestyle='--', color='magenta', linewidth=1.5, alpha=0.4)\n",
    "ax.axvline(1.5, 0, 1, linestyle='--', color='gray', linewidth=1.5, alpha=0.7)\n",
    "ax.set_xlim([0.3, 300])\n",
    "ax.set_xscale('log')\n",
    "ax.set_ylim([23.5, 9.5])\n",
    "ax.set_xlabel(\"Semi-major Axis [arcsec]\")\n",
    "ax.set_ylabel(r\"$\\mu$ [mag ${\\rm arcsec^{-2}}$]\")\n",
    "plt.tight_layout()"
   ]
  },
  {
   "cell_type": "markdown",
   "metadata": {},
   "source": [
    "### 3) Sersic Profile Fitting"
   ]
  },
  {
   "cell_type": "code",
   "execution_count": null,
   "metadata": {},
   "outputs": [],
   "source": [
    "from scipy.optimize import curve_fit"
   ]
  },
  {
   "cell_type": "markdown",
   "metadata": {},
   "source": [
    "#### Sersic profile (Useful reference: [Graham & Driver 2005](https://ui.adsabs.harvard.edu/abs/2005PASA...22..118G/abstract))\n",
    "\n",
    "$\\large \\mu(R)=\\mu_{e}+\\frac{2.5b_{n}}{\\rm ln(10)}\\left[(R/R_{e})^{1/n}-1\\right]$\n",
    "\n",
    "where $b_{n}=2n-1/3$"
   ]
  },
  {
   "cell_type": "code",
   "execution_count": null,
   "metadata": {},
   "outputs": [],
   "source": [
    "def sersic(r, mu_e, re, n):\n",
    "    bn = 2 * n - 1/3\n",
    "    return mu_e + (2.5 * bn / np.log(10)) * ((r / re)**(1/n) - 1)"
   ]
  },
  {
   "cell_type": "code",
   "execution_count": null,
   "metadata": {},
   "outputs": [],
   "source": [
    "# Fitting range except r < 1.5 arcsec (Seeing effect)\n",
    "\n",
    "print(\"\\n*** g-band ***\")\n",
    "popt_g, pcov_g = curve_fit(sersic, r_sma_g[r_sma_g > 1.5], mu_g[r_sma_g > 1.5])\n",
    "perr_g = np.sqrt(np.diag(pcov_g))\n",
    "print(\"Effective radius: {0:.2f} +/- {1:.2f} arcsec\".format(popt_g[1], perr_g[1]))\n",
    "print(\"Surface brightness at effective radius: {0:.2f} +/- {1:.2f} mag/arcsec^2\".format(popt_g[0], perr_g[0]))\n",
    "print(\"Sersic index: {0:.2f} +/- {1:.2f}\".format(popt_g[2], perr_g[2]))\n",
    "\n",
    "print(\"\\n*** i-band ***\")\n",
    "popt_i, pcov_i = curve_fit(sersic, r_sma_i[r_sma_i > 1.5], mu_i[r_sma_i > 1.5])\n",
    "perr_i = np.sqrt(np.diag(pcov_i))\n",
    "print(\"Effective radius: {0:.2f} +/- {1:.2f} arcsec\".format(popt_i[1], perr_i[1]))\n",
    "print(\"Surface brightness at effective radius: {0:.2f} +/- {1:.2f} mag/arcsec^2\".format(popt_i[0], perr_i[0]))\n",
    "print(\"Sersic index: {0:.2f} +/- {1:.2f}\".format(popt_i[2], perr_i[2]))"
   ]
  },
  {
   "cell_type": "code",
   "execution_count": null,
   "metadata": {},
   "outputs": [],
   "source": [
    "# Plotting for check\n",
    "r_array = np.logspace(-1.0, 3.0, 1000)\n",
    "\n",
    "fig, ax = plt.subplots(figsize=(6,4))\n",
    "ax.plot(r_sma_g, mu_g, 'o', ms=3.0, color='dodgerblue', alpha=0.6)#, linewidth=2.0, alpha=0.9)\n",
    "ax.plot(r_array[r_array <= 1.5], sersic(r_array[r_array <= 1.5], *popt_g), '--', color='blue', alpha=0.6)\n",
    "ax.plot(r_array[r_array > 1.5] , sersic(r_array[r_array > 1.5], *popt_g) , '-', color='blue', alpha=0.7)\n",
    "ax.plot(r_sma_i, mu_i, 'o', ms=3.0, color='magenta', alpha=0.6)#, linewidth=2.0, alpha=0.9)\n",
    "ax.plot(r_array[r_array <= 1.5], sersic(r_array[r_array <= 1.5], *popt_i), '--', color='red', alpha=0.6)\n",
    "ax.plot(r_array[r_array > 1.5] , sersic(r_array[r_array > 1.5], *popt_i) , '-', color='red', alpha=0.7)\n",
    "# ax.plot([popt[1], popt[1]], [18,10], '--', color='gray', alpha=0.7)\n",
    "ax.axhline(mag0_g - 2.5*np.log10(pixel_scale**(-2)), 0, 1,\n",
    "           linestyle='--', color='dodgerblue', linewidth=1.5, alpha=0.4)\n",
    "ax.axhline(mag0_i - 2.5*np.log10(pixel_scale**(-2)), 0, 1,\n",
    "           linestyle='--', color='magenta', linewidth=1.5, alpha=0.4)\n",
    "ax.axvline(1.5, 0, 1, linestyle='--', color='gray', linewidth=1.5, alpha=0.7)\n",
    "ax.axvline(popt_g[1], 0, 1, linestyle='-', color='dodgerblue', linewidth=1.5, alpha=0.5)\n",
    "ax.axvline(popt_i[1], 0, 1, linestyle='-', color='magenta', linewidth=1.5, alpha=0.5)\n",
    "ax.set_xlim([0.3, 300])\n",
    "ax.set_xscale('log')\n",
    "ax.set_ylim([23.5, 9.5])\n",
    "ax.set_xlabel(\"Semi-major Axis [arcsec]\")\n",
    "ax.set_ylabel(r\"$\\mu$ [mag ${\\rm arcsec^{-2}}$]\")\n",
    "plt.tight_layout()"
   ]
  },
  {
   "cell_type": "markdown",
   "metadata": {},
   "source": [
    "# 4. Surface Photometry Example #2 (Spiral, M100)"
   ]
  },
  {
   "cell_type": "markdown",
   "metadata": {},
   "source": [
    "### 1) $g$-band"
   ]
  },
  {
   "cell_type": "markdown",
   "metadata": {},
   "source": [
    "### 2) $i$-band"
   ]
  },
  {
   "cell_type": "markdown",
   "metadata": {},
   "source": [
    "### 3) Results"
   ]
  },
  {
   "cell_type": "markdown",
   "metadata": {},
   "source": [
    "### 4) Sersic Profile Fitting"
   ]
  },
  {
   "cell_type": "code",
   "execution_count": null,
   "metadata": {},
   "outputs": [],
   "source": []
  }
 ],
 "metadata": {
  "kernelspec": {
   "display_name": "Python 3",
   "language": "python",
   "name": "python3"
  },
  "language_info": {
   "codemirror_mode": {
    "name": "ipython",
    "version": 3
   },
   "file_extension": ".py",
   "mimetype": "text/x-python",
   "name": "python",
   "nbconvert_exporter": "python",
   "pygments_lexer": "ipython3",
   "version": "3.7.9"
  }
 },
 "nbformat": 4,
 "nbformat_minor": 2
}
